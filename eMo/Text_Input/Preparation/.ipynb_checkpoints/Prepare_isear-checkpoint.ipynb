{
 "cells": [
  {
   "cell_type": "code",
   "execution_count": 5,
   "metadata": {},
   "outputs": [],
   "source": [
    "import sys\n",
    "import os\n",
    "import time\n",
    "import os\n",
    "from nltk.corpus import stopwords\n",
    "from nltk.stem.porter import PorterStemmer\n",
    "import string\n",
    "import nltk\n",
    "from sklearn.feature_extraction.text import TfidfVectorizer\n",
    "from sklearn import svm\n",
    "from sklearn.metrics import classification_report\n",
    "import random\n",
    "import unicodedata\n",
    "import pandas as pd\n",
    "from sklearn.ensemble import RandomForestClassifier"
   ]
  },
  {
   "cell_type": "code",
   "execution_count": 11,
   "metadata": {},
   "outputs": [],
   "source": [
    "NLTK_STOPWORDS = set(stopwords.words('english'))"
   ]
  },
  {
   "cell_type": "code",
   "execution_count": 12,
   "metadata": {},
   "outputs": [],
   "source": [
    "def lowercase(s):\n",
    "        return s.lower()\n",
    "    \n",
    "def tokenize(s):\n",
    "    token_list = nltk.word_tokenize(s)\n",
    "    return token_list\n",
    "\n",
    "def remove_punctuation( s):\n",
    "    return s.translate(None, string.punctuation)\n",
    "\n",
    "def remove_numbers( s):\n",
    "    return s.translate(None, string.digits)\n",
    "\n",
    "def remove_stopwords( token_list):\n",
    "    exclude_stopwords = lambda token : token not in NLTK_STOPWORDS\n",
    "    return filter(exclude_stopwords, token_list)\n",
    "\n",
    "def stemming_token_list( token_list):\n",
    "    STEMMER = PorterStemmer()\n",
    "    \n",
    "    #print token_list.decode('utf-8')\n",
    "    return [STEMMER.stem(tok.decode('utf-8')) for tok in token_list]\n",
    "\n",
    "def restring_tokens( token_list):\n",
    "    return ' '.join(token_list)"
   ]
  },
  {
   "cell_type": "code",
   "execution_count": 13,
   "metadata": {},
   "outputs": [],
   "source": [
    "# Function to clean\n",
    "def cleanDataset( line):\n",
    "    cleanData = ''\n",
    "    line = lowercase(line)\n",
    "    printable = set(string.printable)\n",
    "    line = filter(lambda x: x in printable, line)\n",
    "    line = remove_punctuation(line)\n",
    "    line = remove_numbers(line)\n",
    "    token_list = tokenize(line)\n",
    "    token_list = remove_stopwords(token_list)\n",
    "    \n",
    "    #token_list = stemming_token_list(token_list)\n",
    "    for words in token_list:\n",
    "        cleanData+=words+' '\n",
    "    return cleanData"
   ]
  },
  {
   "cell_type": "code",
   "execution_count": 16,
   "metadata": {},
   "outputs": [],
   "source": [
    "# Read the data\n",
    "Data = pd.read_csv('isear_org.txt',header=None)\n",
    "Data[0] = Data[0].apply(lambda x: 'guilt' if x == 'guit' else x)"
   ]
  },
  {
   "cell_type": "code",
   "execution_count": 17,
   "metadata": {},
   "outputs": [
    {
     "name": "stdout",
     "output_type": "stream",
     "text": [
      "{'joy': 1092, 'shame': 1071, 'sadness': 1082, 'guilt': 1050, 'disgust': 1066, 'anger': 1079, 'fear': 1076}\n"
     ]
    }
   ],
   "source": [
    "list1 = []\n",
    "dict1 = {}\n",
    "\n",
    "for i in range (len(Data[0])):\n",
    "    if Data[0][i] not in dict1.keys():\n",
    "            dict1[Data[0][i]]=1\n",
    "    else:\n",
    "        dict1[Data[0][i]]+=1\n",
    "    line = Data[0][i]+'|'+cleanDataset(Data[1][i])\n",
    "    list1.append(line)\n",
    "    \n",
    "print dict1"
   ]
  },
  {
   "cell_type": "code",
   "execution_count": 18,
   "metadata": {},
   "outputs": [],
   "source": [
    "random.shuffle(list1)\n",
    "\n",
    "c = 0\n",
    "f = open('isear_org.txt','w')\n",
    "for i in range(int(len(list1))):\n",
    "    #print list[i]\n",
    "    if c < 10:\n",
    "        #print list[i][4:]\n",
    "        #print list[i]\n",
    "        c = c+ 1        \n",
    "    index = list1[i].index('|')\n",
    "    f.write(list1[i][:index]+'\\t'+list1[i][index+1:])\n",
    "    f.write('\\n')\n",
    "    train_data.append(list1[i][index+1:])\n",
    "    train_labels.append(list1[i][:index])\n",
    "f.close()"
   ]
  },
  {
   "cell_type": "code",
   "execution_count": 19,
   "metadata": {},
   "outputs": [
    {
     "data": {
      "text/plain": [
       "7516"
      ]
     },
     "execution_count": 19,
     "metadata": {},
     "output_type": "execute_result"
    }
   ],
   "source": [
    "len(train_data)"
   ]
  },
  {
   "cell_type": "code",
   "execution_count": 20,
   "metadata": {},
   "outputs": [
    {
     "data": {
      "text/plain": [
       "7516"
      ]
     },
     "execution_count": 20,
     "metadata": {},
     "output_type": "execute_result"
    }
   ],
   "source": [
    "len(train_labels)"
   ]
  }
 ],
 "metadata": {
  "kernelspec": {
   "display_name": "Python 2",
   "language": "python",
   "name": "python2"
  },
  "language_info": {
   "codemirror_mode": {
    "name": "ipython",
    "version": 2
   },
   "file_extension": ".py",
   "mimetype": "text/x-python",
   "name": "python",
   "nbconvert_exporter": "python",
   "pygments_lexer": "ipython2",
   "version": "2.7.14"
  }
 },
 "nbformat": 4,
 "nbformat_minor": 2
}
