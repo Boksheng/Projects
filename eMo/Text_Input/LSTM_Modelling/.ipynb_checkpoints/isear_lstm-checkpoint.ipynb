{
 "cells": [
  {
   "cell_type": "code",
   "execution_count": 8,
   "metadata": {},
   "outputs": [],
   "source": [
    "import re\n",
    "import pickle\n",
    "import numpy as np\n",
    "import pandas as pd\n",
    "import string\n",
    "import io\n",
    "\n",
    "from nltk.corpus import stopwords\n",
    "stop = stopwords.words('english')\n",
    "from sklearn.model_selection import train_test_split\n",
    "\n",
    "from keras.preprocessing.text import Tokenizer\n",
    "from keras.preprocessing.sequence import pad_sequences\n",
    "from keras.utils.np_utils import to_categorical\n",
    "from keras.models import Sequential\n",
    "from keras.layers.recurrent import LSTM\n",
    "from keras.layers.core import Dense, Activation, Flatten\n",
    "from keras.layers.embeddings import Embedding\n",
    "from keras.callbacks import ModelCheckpoint\n",
    "\n",
    "import matplotlib.pyplot as plt\n",
    "import seaborn as sns\n",
    "%config InlineBackend.figure_format = 'retina'\n",
    "plt.style.use('fivethirtyeight')\n",
    "sns.set_style('whitegrid')\n",
    "%matplotlib inline"
   ]
  },
  {
   "cell_type": "code",
   "execution_count": 9,
   "metadata": {},
   "outputs": [],
   "source": [
    "# Seeding a pseudo-random number\n",
    "np.random.seed(7)"
   ]
  },
  {
   "cell_type": "markdown",
   "metadata": {},
   "source": [
    "## Define Functions to clean text ##\n",
    "\n",
    "1. Remove strange characters\n",
    "2. Remove punctuations\n",
    "3. Change all characters to lower case\n",
    "4. Remove stopwords\n",
    "5. Remove numerical characters"
   ]
  },
  {
   "cell_type": "code",
   "execution_count": 10,
   "metadata": {},
   "outputs": [],
   "source": [
    "def mod_code(text):\n",
    "    text = re.sub(r'[^\\x00-\\x7f]',r'', text)\n",
    "    return text\n",
    "\n",
    "def mod_char(text):\n",
    "    text = \" \".join(word.replace('[^\\w\\s]',' ') for word in text.split())\n",
    "    return text\n",
    "\n",
    "def mod_punctuations(text):\n",
    "    for punctuation in string.punctuation:\n",
    "        text = \" \".join(word.replace(punctuation, '') for word in text.split())\n",
    "    return text\n",
    "\n",
    "def mod_lower(text):\n",
    "    text = text.lower()\n",
    "    return text\n",
    "\n",
    "stop = stopwords.words('english')\n",
    "def mod_stop(text):\n",
    "    text = ' '.join(word for word in text.split() if word not in stop)\n",
    "    return text\n",
    "\n",
    "def rem_num(text):\n",
    "    text = ' '.join(word for word in text.split() if not word.isdigit())\n",
    "    return text\n",
    "\n",
    "def clean_df(df,col):\n",
    "    df[col] = df[col].apply(rem_num)\n",
    "    df[col] = df[col].apply(mod_char)\n",
    "    df[col] = df[col].apply(mod_punctuations)\n",
    "    df[col] = df[col].apply(mod_lower)\n",
    "    df[col] = df[col].apply(mod_stop)\n",
    "    df[col] = df[col].apply(mod_code)\n",
    "    \n",
    "def clean_txt(text):\n",
    "    text = mod_char(text)\n",
    "    text = mod_punctuations(text)\n",
    "    text = mod_lower(text)\n",
    "    text = mod_code(text)\n",
    "    text = mod_stop(text)\n",
    "    \n",
    "    return text"
   ]
  },
  {
   "cell_type": "markdown",
   "metadata": {},
   "source": [
    "## Define function to create word embeddings\n",
    "\n",
    "** Global Vectors for Word Representation (GloVe) **\n",
    "\n",
    "GloVe is an unsupervised learning algorithm for obtaining vector representations for words.\n",
    "Training is performed on aggregated global word-word co-occurrence statistics from a corpus, and the resulting representations showcase interesting linear substructures of the word vector space.\n",
    "\n",
    "Choose Common Crawl\n",
    "(840B tokens, 2.2M vocab, cased, 300d vectors)"
   ]
  },
  {
   "cell_type": "code",
   "execution_count": 11,
   "metadata": {},
   "outputs": [],
   "source": [
    "# pre-trained word vectors - 840B tokens, 2.2M vocab, cased, 300d vectors,\n",
    "# Function to create word embeddings\n",
    "\n",
    "def gloveVec(filename):\n",
    "    embeddings = {}\n",
    "    f = io.open(filename, encoding='utf-8')\n",
    "    i = 0\n",
    "    for line in f:\n",
    "        values = line.split()\n",
    "        word = values[0]\n",
    "        try:\n",
    "            coefs = np.asarray(values[1:], dtype='float32')\n",
    "            embeddings[word] = coefs\n",
    "        except ValueError:\n",
    "            i += 1\n",
    "    f.close()\n",
    "    return embeddings"
   ]
  },
  {
   "cell_type": "markdown",
   "metadata": {},
   "source": [
    "## Function to create three outputs:\n",
    "\n",
    "1. Create Tokenizer\n",
    "2. Use Tokenizer to create vocabulary from text data\n",
    "3. Use Tokenizer to create list of words and pad to same length, max length as 100 tokens"
   ]
  },
  {
   "cell_type": "code",
   "execution_count": 12,
   "metadata": {},
   "outputs": [],
   "source": [
    "MAX_SEQUENCE_LENGTH = 100\n",
    "MAX_NB_WORDS = 20000\n",
    "\n",
    "def createVocabAndData(sentences):\n",
    "    \n",
    "    # Create Tokenizer\n",
    "    tokenizer = Tokenizer(num_words=MAX_NB_WORDS)\n",
    "    # Apply on text\n",
    "    tokenizer.fit_on_texts(sentences)\n",
    "    \n",
    "    # Convert texts to list of words\n",
    "    sequences = tokenizer.texts_to_sequences(sentences)\n",
    "    \n",
    "    # Create word index (Dictionary of words and their assigned integer)\n",
    "    vocab = tokenizer.word_index\n",
    "    \n",
    "    # used to ensure that all sequences in a list have the same length\n",
    "    # 0 will be padded to the other sequences so their length matches the longest sequences\n",
    "    data = pad_sequences(sequences, maxlen=MAX_SEQUENCE_LENGTH)\n",
    "    return vocab,data,tokenizer"
   ]
  },
  {
   "cell_type": "markdown",
   "metadata": {},
   "source": [
    "## Function to create embedding matrix"
   ]
  },
  {
   "cell_type": "code",
   "execution_count": 13,
   "metadata": {},
   "outputs": [],
   "source": [
    "# Create embedding matrix\n",
    "EMBEDDING_DIM = 300\n",
    "\n",
    "def createEmbeddingMatrix(word_index,embeddings_index):\n",
    "    nb_words = min(MAX_NB_WORDS, len(word_index))\n",
    "    embedding_matrix = np.zeros((nb_words + 1, EMBEDDING_DIM))\n",
    "    for word, i in word_index.items():\n",
    "        if i > MAX_NB_WORDS:\n",
    "            continue\n",
    "        embedding_vector = embeddings_index.get(word)\n",
    "        if embedding_vector is not None:\n",
    "            embedding_matrix[i] = embedding_vector\n",
    "    return embedding_matrix"
   ]
  },
  {
   "cell_type": "markdown",
   "metadata": {},
   "source": [
    "## Load in isear in pickle format"
   ]
  },
  {
   "cell_type": "code",
   "execution_count": 14,
   "metadata": {},
   "outputs": [
    {
     "data": {
      "text/html": [
       "<div>\n",
       "<style scoped>\n",
       "    .dataframe tbody tr th:only-of-type {\n",
       "        vertical-align: middle;\n",
       "    }\n",
       "\n",
       "    .dataframe tbody tr th {\n",
       "        vertical-align: top;\n",
       "    }\n",
       "\n",
       "    .dataframe thead th {\n",
       "        text-align: right;\n",
       "    }\n",
       "</style>\n",
       "<table border=\"1\" class=\"dataframe\">\n",
       "  <thead>\n",
       "    <tr style=\"text-align: right;\">\n",
       "      <th></th>\n",
       "      <th>labels</th>\n",
       "      <th>texts</th>\n",
       "    </tr>\n",
       "  </thead>\n",
       "  <tbody>\n",
       "    <tr>\n",
       "      <th>0</th>\n",
       "      <td>joy</td>\n",
       "      <td>days feel close partner friends feel peace als...</td>\n",
       "    </tr>\n",
       "    <tr>\n",
       "      <th>1</th>\n",
       "      <td>fear</td>\n",
       "      <td>every time imagine someone love could contact ...</td>\n",
       "    </tr>\n",
       "    <tr>\n",
       "      <th>2</th>\n",
       "      <td>anger</td>\n",
       "      <td>obviously unjustly treated possibility elucida...</td>\n",
       "    </tr>\n",
       "    <tr>\n",
       "      <th>3</th>\n",
       "      <td>sadness</td>\n",
       "      <td>think short time live relate periods life thin...</td>\n",
       "    </tr>\n",
       "    <tr>\n",
       "      <th>4</th>\n",
       "      <td>disgust</td>\n",
       "      <td>gathering found involuntarily sitting next two...</td>\n",
       "    </tr>\n",
       "  </tbody>\n",
       "</table>\n",
       "</div>"
      ],
      "text/plain": [
       "    labels                                              texts\n",
       "0      joy  days feel close partner friends feel peace als...\n",
       "1     fear  every time imagine someone love could contact ...\n",
       "2    anger  obviously unjustly treated possibility elucida...\n",
       "3  sadness  think short time live relate periods life thin...\n",
       "4  disgust  gathering found involuntarily sitting next two..."
      ]
     },
     "execution_count": 14,
     "metadata": {},
     "output_type": "execute_result"
    }
   ],
   "source": [
    "isear = pd.read_pickle(\"isear.pkl\")\n",
    "isear.head()"
   ]
  },
  {
   "cell_type": "code",
   "execution_count": 15,
   "metadata": {},
   "outputs": [
    {
     "data": {
      "text/plain": [
       "7516"
      ]
     },
     "execution_count": 15,
     "metadata": {},
     "output_type": "execute_result"
    }
   ],
   "source": [
    "len(isear)"
   ]
  },
  {
   "cell_type": "markdown",
   "metadata": {},
   "source": [
    "## Map categorical labels to numerical labels¶"
   ]
  },
  {
   "cell_type": "code",
   "execution_count": 16,
   "metadata": {},
   "outputs": [],
   "source": [
    "scale_mapper = {'anger':6, \n",
    "                'disgust':5,\n",
    "                'fear':4,\n",
    "                'guilt':3,\n",
    "                'joy':2,\n",
    "                'sadness':1,\n",
    "                'shame':0}\n",
    "\n",
    "isear['labels'].replace(scale_mapper, inplace=True)\n",
    "\n",
    "labels = isear['labels'].tolist()\n",
    "text = isear['texts'].tolist()"
   ]
  },
  {
   "cell_type": "code",
   "execution_count": 17,
   "metadata": {},
   "outputs": [
    {
     "name": "stdout",
     "output_type": "stream",
     "text": [
      "7516\n",
      "7516\n"
     ]
    }
   ],
   "source": [
    "print(len(labels))\n",
    "print(len(text))"
   ]
  },
  {
   "cell_type": "markdown",
   "metadata": {},
   "source": [
    "# Converts a class vector (integers) to binary class matrix.\n",
    "7 classes are used becos there are 7 emotions"
   ]
  },
  {
   "cell_type": "code",
   "execution_count": 18,
   "metadata": {},
   "outputs": [],
   "source": [
    "sentences = text\n",
    "labels = to_categorical(labels, num_classes=7)"
   ]
  },
  {
   "cell_type": "markdown",
   "metadata": {},
   "source": [
    "## Load gloVe (Global Vectors for Word Representation)\n",
    "Common Crawl (840B tokens, 2.2M vocab, cased, 300d vectors"
   ]
  },
  {
   "cell_type": "code",
   "execution_count": 19,
   "metadata": {},
   "outputs": [],
   "source": [
    "embeddings = gloveVec('glove.840B.300d.txt')"
   ]
  },
  {
   "cell_type": "markdown",
   "metadata": {},
   "source": [
    "## Create vocabulary, list of words and tokenizer"
   ]
  },
  {
   "cell_type": "code",
   "execution_count": 20,
   "metadata": {},
   "outputs": [],
   "source": [
    "vocab, data, tokenizer = createVocabAndData(sentences)"
   ]
  },
  {
   "cell_type": "markdown",
   "metadata": {},
   "source": [
    "## Create Word Embedding Matrix"
   ]
  },
  {
   "cell_type": "code",
   "execution_count": 21,
   "metadata": {},
   "outputs": [],
   "source": [
    "embedding_mat = createEmbeddingMatrix(vocab,embeddings)"
   ]
  },
  {
   "cell_type": "markdown",
   "metadata": {},
   "source": [
    "## Split data into training and test data, test data equal 15% ##"
   ]
  },
  {
   "cell_type": "code",
   "execution_count": 24,
   "metadata": {},
   "outputs": [
    {
     "name": "stdout",
     "output_type": "stream",
     "text": [
      "Train Test split\n"
     ]
    }
   ],
   "source": [
    "print(\"Train Test split\")\n",
    "TEST_SPLIT = 0.15\n",
    "X_train, X_test, y_train, y_test = train_test_split(data, labels, test_size=TEST_SPLIT, random_state=42)"
   ]
  },
  {
   "cell_type": "markdown",
   "metadata": {},
   "source": [
    "## Create Long Short Term Memory Model (LSTM)"
   ]
  },
  {
   "cell_type": "code",
   "execution_count": 17,
   "metadata": {},
   "outputs": [
    {
     "name": "stdout",
     "output_type": "stream",
     "text": [
      "_________________________________________________________________\n",
      "Layer (type)                 Output Shape              Param #   \n",
      "=================================================================\n",
      "embedding_1 (Embedding)      (None, 100, 300)          2767500   \n",
      "_________________________________________________________________\n",
      "lstm_1 (LSTM)                (None, 128)               219648    \n",
      "_________________________________________________________________\n",
      "dense_1 (Dense)              (None, 7)                 903       \n",
      "_________________________________________________________________\n",
      "activation_1 (Activation)    (None, 7)                 0         \n",
      "=================================================================\n",
      "Total params: 2,988,051\n",
      "Trainable params: 220,551\n",
      "Non-trainable params: 2,767,500\n",
      "_________________________________________________________________\n",
      "None\n"
     ]
    }
   ],
   "source": [
    "MAX_SEQUENCE_LENGTH = 100\n",
    "\n",
    "model = Sequential()\n",
    "n, embedding_dims = embedding_mat.shape\n",
    "\n",
    "model.add(Embedding(n, embedding_dims, weights=[embedding_mat], input_length=MAX_SEQUENCE_LENGTH, trainable=False))\n",
    "model.add(LSTM(128, dropout=0.6, recurrent_dropout=0.6))\n",
    "model.add(Dense(7))\n",
    "model.add(Activation('softmax'))\n",
    "\n",
    "model.compile(loss='categorical_crossentropy', optimizer='adam', metrics=['accuracy'])\n",
    "\n",
    "# checkpoint\n",
    "filepath='weights.best.h5'\n",
    "checkpoint = ModelCheckpoint(filepath, monitor='val_acc', verbose=1, save_best_only=True, mode='max')\n",
    "callbacks_list = [checkpoint]\n",
    "\n",
    "print(model.summary())"
   ]
  },
  {
   "cell_type": "code",
   "execution_count": 18,
   "metadata": {},
   "outputs": [
    {
     "name": "stdout",
     "output_type": "stream",
     "text": [
      "Train on 5429 samples, validate on 959 samples\n",
      "Epoch 1/200\n",
      "5376/5429 [============================>.] - ETA: 0s - loss: 1.8277 - acc: 0.2801Epoch 00000: val_acc improved from -inf to 0.42023, saving model to weights.best.h5\n",
      "5429/5429 [==============================] - 52s - loss: 1.8252 - acc: 0.2820 - val_loss: 1.5878 - val_acc: 0.4202\n",
      "Epoch 2/200\n",
      "5376/5429 [============================>.] - ETA: 0s - loss: 1.5874 - acc: 0.4077Epoch 00001: val_acc improved from 0.42023 to 0.49531, saving model to weights.best.h5\n",
      "5429/5429 [==============================] - 62s - loss: 1.5879 - acc: 0.4074 - val_loss: 1.3795 - val_acc: 0.4953\n",
      "Epoch 3/200\n",
      "5376/5429 [============================>.] - ETA: 0s - loss: 1.4898 - acc: 0.4503Epoch 00002: val_acc improved from 0.49531 to 0.52763, saving model to weights.best.h5\n",
      "5429/5429 [==============================] - 66s - loss: 1.4890 - acc: 0.4505 - val_loss: 1.3259 - val_acc: 0.5276\n",
      "Epoch 4/200\n",
      "5376/5429 [============================>.] - ETA: 0s - loss: 1.4257 - acc: 0.4697Epoch 00003: val_acc improved from 0.52763 to 0.53180, saving model to weights.best.h5\n",
      "5429/5429 [==============================] - 57s - loss: 1.4261 - acc: 0.4697 - val_loss: 1.2758 - val_acc: 0.5318\n",
      "Epoch 5/200\n",
      "5376/5429 [============================>.] - ETA: 0s - loss: 1.3829 - acc: 0.4953Epoch 00004: val_acc improved from 0.53180 to 0.54640, saving model to weights.best.h5\n",
      "5429/5429 [==============================] - 58s - loss: 1.3826 - acc: 0.4949 - val_loss: 1.2490 - val_acc: 0.5464\n",
      "Epoch 6/200\n",
      "5376/5429 [============================>.] - ETA: 0s - loss: 1.3363 - acc: 0.5179Epoch 00005: val_acc improved from 0.54640 to 0.57039, saving model to weights.best.h5\n",
      "5429/5429 [==============================] - 63s - loss: 1.3345 - acc: 0.5189 - val_loss: 1.2022 - val_acc: 0.5704\n",
      "Epoch 7/200\n",
      "5376/5429 [============================>.] - ETA: 0s - loss: 1.3108 - acc: 0.5219Epoch 00006: val_acc improved from 0.57039 to 0.57873, saving model to weights.best.h5\n",
      "5429/5429 [==============================] - 64s - loss: 1.3117 - acc: 0.5215 - val_loss: 1.1845 - val_acc: 0.5787\n",
      "Epoch 8/200\n",
      "5376/5429 [============================>.] - ETA: 0s - loss: 1.2790 - acc: 0.5389Epoch 00007: val_acc improved from 0.57873 to 0.58186, saving model to weights.best.h5\n",
      "5429/5429 [==============================] - 51s - loss: 1.2792 - acc: 0.5386 - val_loss: 1.1769 - val_acc: 0.5819\n",
      "Epoch 9/200\n",
      "5376/5429 [============================>.] - ETA: 0s - loss: 1.2504 - acc: 0.5497Epoch 00008: val_acc improved from 0.58186 to 0.59124, saving model to weights.best.h5\n",
      "5429/5429 [==============================] - 49s - loss: 1.2490 - acc: 0.5506 - val_loss: 1.1465 - val_acc: 0.5912\n",
      "Epoch 10/200\n",
      "5376/5429 [============================>.] - ETA: 0s - loss: 1.2076 - acc: 0.5688Epoch 00009: val_acc improved from 0.59124 to 0.59750, saving model to weights.best.h5\n",
      "5429/5429 [==============================] - 49s - loss: 1.2092 - acc: 0.5682 - val_loss: 1.1568 - val_acc: 0.5975\n",
      "Epoch 11/200\n",
      "5376/5429 [============================>.] - ETA: 0s - loss: 1.1856 - acc: 0.5727Epoch 00010: val_acc improved from 0.59750 to 0.61731, saving model to weights.best.h5\n",
      "5429/5429 [==============================] - 50s - loss: 1.1845 - acc: 0.5723 - val_loss: 1.1197 - val_acc: 0.6173\n",
      "Epoch 12/200\n",
      "5376/5429 [============================>.] - ETA: 0s - loss: 1.1630 - acc: 0.5824Epoch 00011: val_acc improved from 0.61731 to 0.62044, saving model to weights.best.h5\n",
      "5429/5429 [==============================] - 50s - loss: 1.1635 - acc: 0.5826 - val_loss: 1.1086 - val_acc: 0.6204\n",
      "Epoch 13/200\n",
      "5376/5429 [============================>.] - ETA: 0s - loss: 1.1308 - acc: 0.5990Epoch 00012: val_acc did not improve\n",
      "5429/5429 [==============================] - 49s - loss: 1.1314 - acc: 0.5992 - val_loss: 1.1003 - val_acc: 0.6100\n",
      "Epoch 14/200\n",
      "5376/5429 [============================>.] - ETA: 0s - loss: 1.1237 - acc: 0.5978Epoch 00013: val_acc improved from 0.62044 to 0.62044, saving model to weights.best.h5\n",
      "5429/5429 [==============================] - 49s - loss: 1.1252 - acc: 0.5964 - val_loss: 1.1000 - val_acc: 0.6204\n",
      "Epoch 15/200\n",
      "5376/5429 [============================>.] - ETA: 0s - loss: 1.0912 - acc: 0.6122Epoch 00014: val_acc did not improve\n",
      "5429/5429 [==============================] - 50s - loss: 1.0906 - acc: 0.6121 - val_loss: 1.0905 - val_acc: 0.6184\n",
      "Epoch 16/200\n",
      "5376/5429 [============================>.] - ETA: 0s - loss: 1.0681 - acc: 0.6198Epoch 00015: val_acc did not improve\n",
      "5429/5429 [==============================] - 49s - loss: 1.0694 - acc: 0.6196 - val_loss: 1.0802 - val_acc: 0.6204\n",
      "Epoch 17/200\n",
      "5376/5429 [============================>.] - ETA: 0s - loss: 1.0506 - acc: 0.6213Epoch 00016: val_acc improved from 0.62044 to 0.62044, saving model to weights.best.h5\n",
      "5429/5429 [==============================] - 49s - loss: 1.0525 - acc: 0.6206 - val_loss: 1.0690 - val_acc: 0.6204\n",
      "Epoch 18/200\n",
      "5376/5429 [============================>.] - ETA: 0s - loss: 1.0386 - acc: 0.6300Epoch 00017: val_acc improved from 0.62044 to 0.62878, saving model to weights.best.h5\n",
      "5429/5429 [==============================] - 49s - loss: 1.0385 - acc: 0.6300 - val_loss: 1.0697 - val_acc: 0.6288\n",
      "Epoch 19/200\n",
      "5376/5429 [============================>.] - ETA: 0s - loss: 1.0134 - acc: 0.6458Epoch 00018: val_acc improved from 0.62878 to 0.63504, saving model to weights.best.h5\n",
      "5429/5429 [==============================] - 49s - loss: 1.0143 - acc: 0.6458 - val_loss: 1.0618 - val_acc: 0.6350\n",
      "Epoch 20/200\n",
      "5376/5429 [============================>.] - ETA: 0s - loss: 0.9995 - acc: 0.6501Epoch 00019: val_acc did not improve\n",
      "5429/5429 [==============================] - 49s - loss: 0.9996 - acc: 0.6506 - val_loss: 1.0735 - val_acc: 0.6288\n",
      "Epoch 21/200\n",
      "5376/5429 [============================>.] - ETA: 0s - loss: 0.9909 - acc: 0.6503Epoch 00020: val_acc did not improve\n",
      "5429/5429 [==============================] - 48s - loss: 0.9892 - acc: 0.6515 - val_loss: 1.0664 - val_acc: 0.6277\n",
      "Epoch 22/200\n",
      "5376/5429 [============================>.] - ETA: 0s - loss: 0.9658 - acc: 0.6635Epoch 00021: val_acc improved from 0.63504 to 0.63608, saving model to weights.best.h5\n",
      "5429/5429 [==============================] - 49s - loss: 0.9649 - acc: 0.6638 - val_loss: 1.0714 - val_acc: 0.6361\n",
      "Epoch 23/200\n",
      "5376/5429 [============================>.] - ETA: 0s - loss: 0.9518 - acc: 0.6615Epoch 00022: val_acc improved from 0.63608 to 0.64442, saving model to weights.best.h5\n",
      "5429/5429 [==============================] - 49s - loss: 0.9524 - acc: 0.6613 - val_loss: 1.0554 - val_acc: 0.6444\n",
      "Epoch 24/200\n",
      "5376/5429 [============================>.] - ETA: 0s - loss: 0.9352 - acc: 0.6695Epoch 00023: val_acc did not improve\n",
      "5429/5429 [==============================] - 52s - loss: 0.9339 - acc: 0.6696 - val_loss: 1.0601 - val_acc: 0.6350\n",
      "Epoch 25/200\n",
      "5376/5429 [============================>.] - ETA: 0s - loss: 0.9238 - acc: 0.6721Epoch 00024: val_acc did not improve\n",
      "5429/5429 [==============================] - 60s - loss: 0.9225 - acc: 0.6723 - val_loss: 1.0655 - val_acc: 0.6298\n",
      "Epoch 26/200\n",
      "5376/5429 [============================>.] - ETA: 0s - loss: 0.9118 - acc: 0.6726Epoch 00025: val_acc did not improve\n",
      "5429/5429 [==============================] - 55s - loss: 0.9119 - acc: 0.6731 - val_loss: 1.0704 - val_acc: 0.6350\n",
      "Epoch 27/200\n",
      "5376/5429 [============================>.] - ETA: 0s - loss: 0.8930 - acc: 0.6810Epoch 00026: val_acc did not improve\n",
      "5429/5429 [==============================] - 49s - loss: 0.8947 - acc: 0.6806 - val_loss: 1.0547 - val_acc: 0.6434\n",
      "Epoch 28/200\n",
      "5376/5429 [============================>.] - ETA: 0s - loss: 0.8858 - acc: 0.6882Epoch 00027: val_acc did not improve\n",
      "5429/5429 [==============================] - 52s - loss: 0.8841 - acc: 0.6889 - val_loss: 1.0493 - val_acc: 0.6382\n",
      "Epoch 29/200\n",
      "5376/5429 [============================>.] - ETA: 0s - loss: 0.8677 - acc: 0.6957Epoch 00028: val_acc did not improve\n",
      "5429/5429 [==============================] - 49s - loss: 0.8667 - acc: 0.6961 - val_loss: 1.0577 - val_acc: 0.6413\n",
      "Epoch 30/200\n",
      "5376/5429 [============================>.] - ETA: 0s - loss: 0.8619 - acc: 0.6912Epoch 00029: val_acc did not improve\n",
      "5429/5429 [==============================] - 54s - loss: 0.8604 - acc: 0.6920 - val_loss: 1.0564 - val_acc: 0.6392\n",
      "Epoch 31/200\n",
      "5376/5429 [============================>.] - ETA: 0s - loss: 0.8449 - acc: 0.6994Epoch 00030: val_acc did not improve\n",
      "5429/5429 [==============================] - 43s - loss: 0.8452 - acc: 0.6999 - val_loss: 1.0556 - val_acc: 0.6350\n",
      "Epoch 32/200\n",
      "5376/5429 [============================>.] - ETA: 0s - loss: 0.8211 - acc: 0.7119Epoch 00031: val_acc did not improve\n",
      "5429/5429 [==============================] - 43s - loss: 0.8229 - acc: 0.7104 - val_loss: 1.0649 - val_acc: 0.6423\n",
      "Epoch 33/200\n",
      "5376/5429 [============================>.] - ETA: 0s - loss: 0.8184 - acc: 0.7081Epoch 00032: val_acc did not improve\n",
      "5429/5429 [==============================] - 50s - loss: 0.8168 - acc: 0.7086 - val_loss: 1.0679 - val_acc: 0.6350\n",
      "Epoch 34/200\n",
      "5376/5429 [============================>.] - ETA: 0s - loss: 0.8195 - acc: 0.7100Epoch 00033: val_acc did not improve\n",
      "5429/5429 [==============================] - 53s - loss: 0.8177 - acc: 0.7115 - val_loss: 1.0612 - val_acc: 0.6392\n",
      "Epoch 35/200\n",
      "5376/5429 [============================>.] - ETA: 0s - loss: 0.7983 - acc: 0.7186Epoch 00034: val_acc did not improve\n",
      "5429/5429 [==============================] - 51s - loss: 0.8002 - acc: 0.7174 - val_loss: 1.0695 - val_acc: 0.6403\n",
      "Epoch 36/200\n",
      "5376/5429 [============================>.] - ETA: 0s - loss: 0.7780 - acc: 0.7281Epoch 00035: val_acc did not improve\n",
      "5429/5429 [==============================] - 50s - loss: 0.7756 - acc: 0.7290 - val_loss: 1.0760 - val_acc: 0.6371\n",
      "Epoch 37/200\n",
      "5376/5429 [============================>.] - ETA: 0s - loss: 0.7736 - acc: 0.7305Epoch 00036: val_acc did not improve\n",
      "5429/5429 [==============================] - 48s - loss: 0.7723 - acc: 0.7313 - val_loss: 1.0860 - val_acc: 0.6267\n",
      "Epoch 38/200\n",
      "5376/5429 [============================>.] - ETA: 0s - loss: 0.7577 - acc: 0.7320Epoch 00037: val_acc did not improve\n",
      "5429/5429 [==============================] - 49s - loss: 0.7597 - acc: 0.7313 - val_loss: 1.0821 - val_acc: 0.6225\n",
      "Epoch 39/200\n",
      "5376/5429 [============================>.] - ETA: 0s - loss: 0.7417 - acc: 0.7420Epoch 00038: val_acc did not improve\n",
      "5429/5429 [==============================] - 48s - loss: 0.7404 - acc: 0.7423 - val_loss: 1.0806 - val_acc: 0.6277\n",
      "Epoch 40/200\n",
      "5376/5429 [============================>.] - ETA: 0s - loss: 0.7490 - acc: 0.7377Epoch 00039: val_acc did not improve\n",
      "5429/5429 [==============================] - 50s - loss: 0.7479 - acc: 0.7383 - val_loss: 1.0863 - val_acc: 0.6298\n",
      "Epoch 41/200\n",
      "5376/5429 [============================>.] - ETA: 0s - loss: 0.7261 - acc: 0.7515Epoch 00040: val_acc did not improve\n",
      "5429/5429 [==============================] - 51s - loss: 0.7252 - acc: 0.7523 - val_loss: 1.1011 - val_acc: 0.6309\n",
      "Epoch 42/200\n",
      "5376/5429 [============================>.] - ETA: 0s - loss: 0.7088 - acc: 0.7478Epoch 00041: val_acc did not improve\n",
      "5429/5429 [==============================] - 49s - loss: 0.7092 - acc: 0.7477 - val_loss: 1.1119 - val_acc: 0.6340\n",
      "Epoch 43/200\n",
      "5376/5429 [============================>.] - ETA: 0s - loss: 0.7041 - acc: 0.7476Epoch 00042: val_acc did not improve\n",
      "5429/5429 [==============================] - 50s - loss: 0.7074 - acc: 0.7464 - val_loss: 1.1141 - val_acc: 0.6267\n",
      "Epoch 44/200\n",
      "5376/5429 [============================>.] - ETA: 0s - loss: 0.7002 - acc: 0.7550Epoch 00043: val_acc did not improve\n",
      "5429/5429 [==============================] - 48s - loss: 0.7002 - acc: 0.7548 - val_loss: 1.1044 - val_acc: 0.6361\n",
      "Epoch 45/200\n",
      "5376/5429 [============================>.] - ETA: 0s - loss: 0.6963 - acc: 0.7530Epoch 00044: val_acc did not improve\n",
      "5429/5429 [==============================] - 49s - loss: 0.6952 - acc: 0.7528 - val_loss: 1.1092 - val_acc: 0.6267\n",
      "Epoch 46/200\n",
      "5376/5429 [============================>.] - ETA: 0s - loss: 0.6724 - acc: 0.7636Epoch 00045: val_acc did not improve\n",
      "5429/5429 [==============================] - 51s - loss: 0.6735 - acc: 0.7629 - val_loss: 1.1164 - val_acc: 0.6340\n",
      "Epoch 47/200\n",
      "5376/5429 [============================>.] - ETA: 0s - loss: 0.6725 - acc: 0.7641Epoch 00046: val_acc did not improve\n",
      "5429/5429 [==============================] - 48s - loss: 0.6709 - acc: 0.7644 - val_loss: 1.1235 - val_acc: 0.6267\n",
      "Epoch 48/200\n",
      "5376/5429 [============================>.] - ETA: 0s - loss: 0.6501 - acc: 0.7757Epoch 00047: val_acc did not improve\n",
      "5429/5429 [==============================] - 48s - loss: 0.6502 - acc: 0.7753 - val_loss: 1.1229 - val_acc: 0.6382\n",
      "Epoch 49/200\n",
      "5376/5429 [============================>.] - ETA: 0s - loss: 0.6482 - acc: 0.7785Epoch 00048: val_acc did not improve\n",
      "5429/5429 [==============================] - 48s - loss: 0.6479 - acc: 0.7790 - val_loss: 1.1337 - val_acc: 0.6267\n",
      "Epoch 50/200\n",
      "5376/5429 [============================>.] - ETA: 0s - loss: 0.6458 - acc: 0.7744Epoch 00049: val_acc did not improve\n",
      "5429/5429 [==============================] - 49s - loss: 0.6444 - acc: 0.7747 - val_loss: 1.1261 - val_acc: 0.6371\n",
      "Epoch 51/200\n",
      "5376/5429 [============================>.] - ETA: 0s - loss: 0.6293 - acc: 0.7839Epoch 00050: val_acc did not improve\n",
      "5429/5429 [==============================] - 48s - loss: 0.6311 - acc: 0.7830 - val_loss: 1.1388 - val_acc: 0.6361\n",
      "Epoch 52/200\n",
      "5376/5429 [============================>.] - ETA: 0s - loss: 0.6302 - acc: 0.7812Epoch 00051: val_acc did not improve\n",
      "5429/5429 [==============================] - 49s - loss: 0.6322 - acc: 0.7801 - val_loss: 1.1649 - val_acc: 0.6340\n",
      "Epoch 53/200\n",
      "5376/5429 [============================>.] - ETA: 0s - loss: 0.6219 - acc: 0.7822Epoch 00052: val_acc did not improve\n",
      "5429/5429 [==============================] - 51s - loss: 0.6226 - acc: 0.7821 - val_loss: 1.1471 - val_acc: 0.6277\n",
      "Epoch 54/200\n",
      "5376/5429 [============================>.] - ETA: 0s - loss: 0.6056 - acc: 0.7848Epoch 00053: val_acc did not improve\n",
      "5429/5429 [==============================] - 48s - loss: 0.6082 - acc: 0.7841 - val_loss: 1.1644 - val_acc: 0.6340\n",
      "Epoch 55/200\n",
      "5376/5429 [============================>.] - ETA: 0s - loss: 0.6097 - acc: 0.7863Epoch 00054: val_acc did not improve\n",
      "5429/5429 [==============================] - 48s - loss: 0.6099 - acc: 0.7860 - val_loss: 1.1687 - val_acc: 0.6298\n",
      "Epoch 56/200\n",
      "5376/5429 [============================>.] - ETA: 0s - loss: 0.5874 - acc: 0.7985Epoch 00055: val_acc did not improve\n",
      "5429/5429 [==============================] - 49s - loss: 0.5867 - acc: 0.7990 - val_loss: 1.1507 - val_acc: 0.6309\n",
      "Epoch 57/200\n",
      "5376/5429 [============================>.] - ETA: 0s - loss: 0.5871 - acc: 0.7991Epoch 00056: val_acc did not improve\n",
      "5429/5429 [==============================] - 54s - loss: 0.5865 - acc: 0.7990 - val_loss: 1.1733 - val_acc: 0.6309\n",
      "Epoch 58/200\n",
      "5376/5429 [============================>.] - ETA: 0s - loss: 0.5881 - acc: 0.7956Epoch 00057: val_acc did not improve\n",
      "5429/5429 [==============================] - 55s - loss: 0.5872 - acc: 0.7950 - val_loss: 1.1915 - val_acc: 0.6246\n",
      "Epoch 59/200\n",
      "5376/5429 [============================>.] - ETA: 0s - loss: 0.5693 - acc: 0.8071Epoch 00058: val_acc did not improve\n",
      "5429/5429 [==============================] - 50s - loss: 0.5690 - acc: 0.8070 - val_loss: 1.1912 - val_acc: 0.6319\n",
      "Epoch 60/200\n",
      "5376/5429 [============================>.] - ETA: 0s - loss: 0.5499 - acc: 0.8077Epoch 00059: val_acc did not improve\n",
      "5429/5429 [==============================] - 52s - loss: 0.5512 - acc: 0.8066 - val_loss: 1.1892 - val_acc: 0.6236\n",
      "Epoch 61/200\n",
      "5376/5429 [============================>.] - ETA: 0s - loss: 0.5491 - acc: 0.8086Epoch 00060: val_acc did not improve\n",
      "5429/5429 [==============================] - 56s - loss: 0.5509 - acc: 0.8084 - val_loss: 1.1968 - val_acc: 0.6298\n",
      "Epoch 62/200\n",
      "5376/5429 [============================>.] - ETA: 0s - loss: 0.5365 - acc: 0.8153Epoch 00061: val_acc did not improve\n",
      "5429/5429 [==============================] - 53s - loss: 0.5383 - acc: 0.8141 - val_loss: 1.2121 - val_acc: 0.6319\n",
      "Epoch 63/200\n",
      "5376/5429 [============================>.] - ETA: 0s - loss: 0.5418 - acc: 0.8134Epoch 00062: val_acc did not improve\n",
      "5429/5429 [==============================] - 54s - loss: 0.5413 - acc: 0.8138 - val_loss: 1.2228 - val_acc: 0.6225\n",
      "Epoch 64/200\n",
      "5376/5429 [============================>.] - ETA: 0s - loss: 0.5325 - acc: 0.8155Epoch 00063: val_acc did not improve\n",
      "5429/5429 [==============================] - 56s - loss: 0.5329 - acc: 0.8158 - val_loss: 1.2215 - val_acc: 0.6267\n",
      "Epoch 65/200\n",
      "5376/5429 [============================>.] - ETA: 0s - loss: 0.5334 - acc: 0.8134Epoch 00064: val_acc did not improve\n",
      "5429/5429 [==============================] - 56s - loss: 0.5332 - acc: 0.8141 - val_loss: 1.2251 - val_acc: 0.6236\n",
      "Epoch 66/200\n",
      "5376/5429 [============================>.] - ETA: 0s - loss: 0.5150 - acc: 0.8225Epoch 00065: val_acc did not improve\n",
      "5429/5429 [==============================] - 59s - loss: 0.5168 - acc: 0.8224 - val_loss: 1.2256 - val_acc: 0.6309\n",
      "Epoch 67/200\n",
      "5376/5429 [============================>.] - ETA: 0s - loss: 0.5153 - acc: 0.8196Epoch 00066: val_acc did not improve\n",
      "5429/5429 [==============================] - 56s - loss: 0.5154 - acc: 0.8200 - val_loss: 1.2387 - val_acc: 0.6267\n",
      "Epoch 68/200\n",
      "5376/5429 [============================>.] - ETA: 0s - loss: 0.4999 - acc: 0.8263Epoch 00067: val_acc did not improve\n",
      "5429/5429 [==============================] - 57s - loss: 0.4991 - acc: 0.8263 - val_loss: 1.2461 - val_acc: 0.6184\n",
      "Epoch 69/200\n",
      "5376/5429 [============================>.] - ETA: 0s - loss: 0.4992 - acc: 0.8257Epoch 00068: val_acc did not improve\n",
      "5429/5429 [==============================] - 56s - loss: 0.4991 - acc: 0.8256 - val_loss: 1.2397 - val_acc: 0.6204\n",
      "Epoch 70/200\n",
      "5376/5429 [============================>.] - ETA: 0s - loss: 0.4937 - acc: 0.8248Epoch 00069: val_acc did not improve\n",
      "5429/5429 [==============================] - 55s - loss: 0.4921 - acc: 0.8252 - val_loss: 1.2492 - val_acc: 0.6246\n",
      "Epoch 71/200\n",
      "5376/5429 [============================>.] - ETA: 0s - loss: 0.4798 - acc: 0.8335Epoch 00070: val_acc did not improve\n",
      "5429/5429 [==============================] - 56s - loss: 0.4811 - acc: 0.8335 - val_loss: 1.2476 - val_acc: 0.6257\n",
      "Epoch 72/200\n",
      "5376/5429 [============================>.] - ETA: 0s - loss: 0.4846 - acc: 0.8304Epoch 00071: val_acc did not improve\n",
      "5429/5429 [==============================] - 56s - loss: 0.4844 - acc: 0.8304 - val_loss: 1.2370 - val_acc: 0.6277\n",
      "Epoch 73/200\n",
      "5376/5429 [============================>.] - ETA: 0s - loss: 0.4758 - acc: 0.8400Epoch 00072: val_acc did not improve\n",
      "5429/5429 [==============================] - 58s - loss: 0.4760 - acc: 0.8403 - val_loss: 1.2524 - val_acc: 0.6236\n",
      "Epoch 74/200\n",
      "5376/5429 [============================>.] - ETA: 0s - loss: 0.4619 - acc: 0.8415Epoch 00073: val_acc did not improve\n",
      "5429/5429 [==============================] - 56s - loss: 0.4616 - acc: 0.8416 - val_loss: 1.2606 - val_acc: 0.6288\n",
      "Epoch 75/200\n",
      "5376/5429 [============================>.] - ETA: 0s - loss: 0.4618 - acc: 0.8438Epoch 00074: val_acc did not improve\n",
      "5429/5429 [==============================] - 58s - loss: 0.4621 - acc: 0.8436 - val_loss: 1.2648 - val_acc: 0.6298\n",
      "Epoch 76/200\n",
      "5376/5429 [============================>.] - ETA: 0s - loss: 0.4649 - acc: 0.8367Epoch 00075: val_acc did not improve\n",
      "5429/5429 [==============================] - 56s - loss: 0.4639 - acc: 0.8372 - val_loss: 1.2748 - val_acc: 0.6204\n",
      "Epoch 77/200\n",
      "5376/5429 [============================>.] - ETA: 0s - loss: 0.4534 - acc: 0.8426Epoch 00076: val_acc did not improve\n",
      "5429/5429 [==============================] - 56s - loss: 0.4546 - acc: 0.8423 - val_loss: 1.2817 - val_acc: 0.6142\n",
      "Epoch 78/200\n",
      "5376/5429 [============================>.] - ETA: 0s - loss: 0.4674 - acc: 0.8330Epoch 00077: val_acc did not improve\n",
      "5429/5429 [==============================] - 57s - loss: 0.4672 - acc: 0.8329 - val_loss: 1.2750 - val_acc: 0.6350\n",
      "Epoch 79/200\n",
      "5376/5429 [============================>.] - ETA: 0s - loss: 0.4496 - acc: 0.8426Epoch 00078: val_acc did not improve\n",
      "5429/5429 [==============================] - 58s - loss: 0.4481 - acc: 0.8434 - val_loss: 1.2843 - val_acc: 0.6277\n",
      "Epoch 80/200\n",
      "5376/5429 [============================>.] - ETA: 0s - loss: 0.4396 - acc: 0.8504Epoch 00079: val_acc did not improve\n",
      "5429/5429 [==============================] - 57s - loss: 0.4392 - acc: 0.8508 - val_loss: 1.2910 - val_acc: 0.6319\n",
      "Epoch 81/200\n",
      "5376/5429 [============================>.] - ETA: 0s - loss: 0.4346 - acc: 0.8484Epoch 00080: val_acc did not improve\n",
      "5429/5429 [==============================] - 56s - loss: 0.4348 - acc: 0.8486 - val_loss: 1.3029 - val_acc: 0.6319\n",
      "Epoch 82/200\n",
      "5376/5429 [============================>.] - ETA: 0s - loss: 0.4348 - acc: 0.8491Epoch 00081: val_acc did not improve\n",
      "5429/5429 [==============================] - 51s - loss: 0.4342 - acc: 0.8495 - val_loss: 1.2989 - val_acc: 0.6371\n",
      "Epoch 83/200\n",
      "5376/5429 [============================>.] - ETA: 0s - loss: 0.4284 - acc: 0.8495Epoch 00082: val_acc did not improve\n",
      "5429/5429 [==============================] - 53s - loss: 0.4289 - acc: 0.8491 - val_loss: 1.3015 - val_acc: 0.6330\n",
      "Epoch 84/200\n",
      "5376/5429 [============================>.] - ETA: 0s - loss: 0.4329 - acc: 0.8506Epoch 00083: val_acc did not improve\n",
      "5429/5429 [==============================] - 48s - loss: 0.4321 - acc: 0.8508 - val_loss: 1.3115 - val_acc: 0.6350\n",
      "Epoch 85/200\n",
      "5376/5429 [============================>.] - ETA: 0s - loss: 0.4294 - acc: 0.8503Epoch 00084: val_acc did not improve\n",
      "5429/5429 [==============================] - 46s - loss: 0.4301 - acc: 0.8495 - val_loss: 1.3124 - val_acc: 0.6277\n",
      "Epoch 86/200\n",
      "5376/5429 [============================>.] - ETA: 0s - loss: 0.4203 - acc: 0.8532Epoch 00085: val_acc did not improve\n",
      "5429/5429 [==============================] - 50s - loss: 0.4199 - acc: 0.8534 - val_loss: 1.3154 - val_acc: 0.6257\n",
      "Epoch 87/200\n",
      "5376/5429 [============================>.] - ETA: 0s - loss: 0.4144 - acc: 0.8586Epoch 00086: val_acc did not improve\n",
      "5429/5429 [==============================] - 52s - loss: 0.4136 - acc: 0.8595 - val_loss: 1.3135 - val_acc: 0.6163\n",
      "Epoch 88/200\n",
      "5376/5429 [============================>.] - ETA: 0s - loss: 0.4037 - acc: 0.8618Epoch 00087: val_acc did not improve\n",
      "5429/5429 [==============================] - 50s - loss: 0.4045 - acc: 0.8613 - val_loss: 1.3293 - val_acc: 0.6204\n",
      "Epoch 89/200\n",
      "5376/5429 [============================>.] - ETA: 0s - loss: 0.3961 - acc: 0.8637Epoch 00088: val_acc did not improve\n",
      "5429/5429 [==============================] - 48s - loss: 0.3973 - acc: 0.8630 - val_loss: 1.3224 - val_acc: 0.6236\n",
      "Epoch 90/200\n",
      "5376/5429 [============================>.] - ETA: 0s - loss: 0.3982 - acc: 0.8655Epoch 00089: val_acc did not improve\n",
      "5429/5429 [==============================] - 49s - loss: 0.3967 - acc: 0.8665 - val_loss: 1.3429 - val_acc: 0.6277\n",
      "Epoch 91/200\n",
      "5376/5429 [============================>.] - ETA: 0s - loss: 0.3917 - acc: 0.8672Epoch 00090: val_acc did not improve\n",
      "5429/5429 [==============================] - 51s - loss: 0.3907 - acc: 0.8677 - val_loss: 1.3262 - val_acc: 0.6277\n",
      "Epoch 92/200\n",
      "5376/5429 [============================>.] - ETA: 0s - loss: 0.3986 - acc: 0.8631Epoch 00091: val_acc did not improve\n",
      "5429/5429 [==============================] - 47s - loss: 0.3996 - acc: 0.8630 - val_loss: 1.3609 - val_acc: 0.6309\n",
      "Epoch 93/200\n",
      "5376/5429 [============================>.] - ETA: 0s - loss: 0.4047 - acc: 0.8612Epoch 00092: val_acc did not improve\n",
      "5429/5429 [==============================] - 50s - loss: 0.4041 - acc: 0.8613 - val_loss: 1.3604 - val_acc: 0.6267\n",
      "Epoch 94/200\n",
      "5376/5429 [============================>.] - ETA: 0s - loss: 0.3766 - acc: 0.8661Epoch 00093: val_acc did not improve\n",
      "5429/5429 [==============================] - 52s - loss: 0.3792 - acc: 0.8652 - val_loss: 1.3654 - val_acc: 0.6131\n",
      "Epoch 95/200\n",
      "5376/5429 [============================>.] - ETA: 0s - loss: 0.3828 - acc: 0.8707Epoch 00094: val_acc did not improve\n",
      "5429/5429 [==============================] - 49s - loss: 0.3839 - acc: 0.8709 - val_loss: 1.3840 - val_acc: 0.6267\n",
      "Epoch 96/200\n",
      "5376/5429 [============================>.] - ETA: 0s - loss: 0.3749 - acc: 0.8722Epoch 00095: val_acc did not improve\n",
      "5429/5429 [==============================] - 48s - loss: 0.3746 - acc: 0.8725 - val_loss: 1.3815 - val_acc: 0.6257\n",
      "Epoch 97/200\n",
      "5376/5429 [============================>.] - ETA: 0s - loss: 0.3678 - acc: 0.8741Epoch 00096: val_acc did not improve\n",
      "5429/5429 [==============================] - 53s - loss: 0.3679 - acc: 0.8738 - val_loss: 1.3850 - val_acc: 0.6204\n",
      "Epoch 98/200\n",
      "5376/5429 [============================>.] - ETA: 0s - loss: 0.3726 - acc: 0.8785Epoch 00097: val_acc did not improve\n",
      "5429/5429 [==============================] - 43s - loss: 0.3717 - acc: 0.8790 - val_loss: 1.3682 - val_acc: 0.6194\n",
      "Epoch 99/200\n",
      "5376/5429 [============================>.] - ETA: 0s - loss: 0.3800 - acc: 0.8666Epoch 00098: val_acc did not improve\n",
      "5429/5429 [==============================] - 43s - loss: 0.3817 - acc: 0.8659 - val_loss: 1.3940 - val_acc: 0.6194\n",
      "Epoch 100/200\n",
      "5376/5429 [============================>.] - ETA: 0s - loss: 0.3621 - acc: 0.8817Epoch 00099: val_acc did not improve\n",
      "5429/5429 [==============================] - 44s - loss: 0.3612 - acc: 0.8819 - val_loss: 1.3811 - val_acc: 0.6204\n",
      "Epoch 101/200\n",
      "5376/5429 [============================>.] - ETA: 0s - loss: 0.3614 - acc: 0.8765Epoch 00100: val_acc did not improve\n",
      "5429/5429 [==============================] - 52s - loss: 0.3615 - acc: 0.8762 - val_loss: 1.4012 - val_acc: 0.6131\n",
      "Epoch 102/200\n",
      "5376/5429 [============================>.] - ETA: 0s - loss: 0.3600 - acc: 0.8776Epoch 00101: val_acc did not improve\n",
      "5429/5429 [==============================] - 43s - loss: 0.3594 - acc: 0.8779 - val_loss: 1.4024 - val_acc: 0.6204\n",
      "Epoch 103/200\n",
      "5376/5429 [============================>.] - ETA: 0s - loss: 0.3566 - acc: 0.8769Epoch 00102: val_acc did not improve\n",
      "5429/5429 [==============================] - 42s - loss: 0.3558 - acc: 0.8777 - val_loss: 1.4094 - val_acc: 0.6142\n",
      "Epoch 104/200\n",
      "5376/5429 [============================>.] - ETA: 0s - loss: 0.3703 - acc: 0.8672Epoch 00103: val_acc did not improve\n",
      "5429/5429 [==============================] - 43s - loss: 0.3708 - acc: 0.8672 - val_loss: 1.4128 - val_acc: 0.6131\n",
      "Epoch 105/200\n",
      "5376/5429 [============================>.] - ETA: 0s - loss: 0.3617 - acc: 0.8741Epoch 00104: val_acc did not improve\n",
      "5429/5429 [==============================] - 42s - loss: 0.3608 - acc: 0.8747 - val_loss: 1.4198 - val_acc: 0.6121\n",
      "Epoch 106/200\n",
      "5376/5429 [============================>.] - ETA: 0s - loss: 0.3511 - acc: 0.8798Epoch 00105: val_acc did not improve\n",
      "5429/5429 [==============================] - 42s - loss: 0.3513 - acc: 0.8799 - val_loss: 1.4222 - val_acc: 0.6142\n",
      "Epoch 107/200\n",
      "5376/5429 [============================>.] - ETA: 0s - loss: 0.3434 - acc: 0.8830Epoch 00106: val_acc did not improve\n",
      "5429/5429 [==============================] - 46s - loss: 0.3425 - acc: 0.8834 - val_loss: 1.4323 - val_acc: 0.6121\n",
      "Epoch 108/200\n",
      "5376/5429 [============================>.] - ETA: 0s - loss: 0.3345 - acc: 0.8919Epoch 00107: val_acc did not improve\n",
      "5429/5429 [==============================] - 45s - loss: 0.3340 - acc: 0.8926 - val_loss: 1.4292 - val_acc: 0.6142\n",
      "Epoch 109/200\n",
      "5376/5429 [============================>.] - ETA: 0s - loss: 0.3511 - acc: 0.8744Epoch 00108: val_acc did not improve\n",
      "5429/5429 [==============================] - 43s - loss: 0.3506 - acc: 0.8744 - val_loss: 1.4262 - val_acc: 0.6069\n",
      "Epoch 110/200\n",
      "5376/5429 [============================>.] - ETA: 0s - loss: 0.3360 - acc: 0.8824Epoch 00109: val_acc did not improve\n",
      "5429/5429 [==============================] - 43s - loss: 0.3355 - acc: 0.8823 - val_loss: 1.4321 - val_acc: 0.6090\n",
      "Epoch 111/200\n",
      "5376/5429 [============================>.] - ETA: 0s - loss: 0.3445 - acc: 0.8873Epoch 00110: val_acc did not improve\n",
      "5429/5429 [==============================] - 42s - loss: 0.3437 - acc: 0.8878 - val_loss: 1.4480 - val_acc: 0.6111\n",
      "Epoch 112/200\n",
      "5376/5429 [============================>.] - ETA: 0s - loss: 0.3304 - acc: 0.8884Epoch 00111: val_acc did not improve\n",
      "5429/5429 [==============================] - 42s - loss: 0.3292 - acc: 0.8891 - val_loss: 1.4449 - val_acc: 0.6215\n",
      "Epoch 113/200\n",
      "5376/5429 [============================>.] - ETA: 0s - loss: 0.3323 - acc: 0.8865Epoch 00112: val_acc did not improve\n",
      "5429/5429 [==============================] - 42s - loss: 0.3321 - acc: 0.8862 - val_loss: 1.4545 - val_acc: 0.6194\n",
      "Epoch 114/200\n",
      "5376/5429 [============================>.] - ETA: 0s - loss: 0.3255 - acc: 0.8914Epoch 00113: val_acc did not improve\n",
      "5429/5429 [==============================] - 43s - loss: 0.3251 - acc: 0.8915 - val_loss: 1.4543 - val_acc: 0.6215\n",
      "Epoch 115/200\n",
      "5376/5429 [============================>.] - ETA: 0s - loss: 0.3156 - acc: 0.8942Epoch 00114: val_acc did not improve\n",
      "5429/5429 [==============================] - 42s - loss: 0.3158 - acc: 0.8941 - val_loss: 1.4597 - val_acc: 0.6184\n",
      "Epoch 116/200\n",
      "5376/5429 [============================>.] - ETA: 0s - loss: 0.3154 - acc: 0.8923Epoch 00115: val_acc did not improve\n",
      "5429/5429 [==============================] - 44s - loss: 0.3164 - acc: 0.8919 - val_loss: 1.4679 - val_acc: 0.6225\n",
      "Epoch 117/200\n",
      "5376/5429 [============================>.] - ETA: 23s - loss: 0.3220 - acc: 0.8916Epoch 00116: val_acc did not improve\n",
      "5429/5429 [==============================] - 2399s - loss: 0.3217 - acc: 0.8919 - val_loss: 1.4648 - val_acc: 0.6142\n",
      "Epoch 118/200\n",
      "5376/5429 [============================>.] - ETA: 24s - loss: 0.3345 - acc: 0.8819Epoch 00117: val_acc did not improve\n",
      "5429/5429 [==============================] - 2487s - loss: 0.3348 - acc: 0.8816 - val_loss: 1.4723 - val_acc: 0.6204\n",
      "Epoch 119/200\n",
      "5376/5429 [============================>.] - ETA: 71s - loss: 0.3320 - acc: 0.8880 Epoch 00118: val_acc did not improve\n",
      "5429/5429 [==============================] - 7281s - loss: 0.3317 - acc: 0.8884 - val_loss: 1.4635 - val_acc: 0.6204\n",
      "Epoch 120/200\n",
      "5376/5429 [============================>.] - ETA: 21s - loss: 0.3247 - acc: 0.8871Epoch 00119: val_acc did not improve\n",
      "5429/5429 [==============================] - 9366s - loss: 0.3246 - acc: 0.8871 - val_loss: 1.4713 - val_acc: 0.6204\n",
      "Epoch 121/200\n",
      "4736/5429 [=========================>....] - ETA: 466s - loss: 0.3194 - acc: 0.8959Epoch 00120: val_acc did not improve\n",
      "5429/5429 [==============================] - 3185s - loss: 0.3159 - acc: 0.8959 - val_loss: 1.4733 - val_acc: 0.6215\n",
      "Epoch 122/200\n",
      "5376/5429 [============================>.] - ETA: 0s - loss: 0.3275 - acc: 0.8895Epoch 00121: val_acc did not improve\n",
      "5429/5429 [==============================] - 58s - loss: 0.3263 - acc: 0.8902 - val_loss: 1.4898 - val_acc: 0.6184\n",
      "Epoch 123/200\n",
      "5376/5429 [============================>.] - ETA: 0s - loss: 0.3042 - acc: 0.8968Epoch 00122: val_acc did not improve\n",
      "5429/5429 [==============================] - 44s - loss: 0.3046 - acc: 0.8965 - val_loss: 1.4842 - val_acc: 0.6257\n",
      "Epoch 124/200\n",
      "5376/5429 [============================>.] - ETA: 0s - loss: 0.3065 - acc: 0.8964Epoch 00123: val_acc did not improve\n",
      "5429/5429 [==============================] - 44s - loss: 0.3063 - acc: 0.8963 - val_loss: 1.5255 - val_acc: 0.6173\n",
      "Epoch 125/200\n",
      "5376/5429 [============================>.] - ETA: 0s - loss: 0.3019 - acc: 0.8968Epoch 00124: val_acc did not improve\n",
      "5429/5429 [==============================] - 44s - loss: 0.3023 - acc: 0.8967 - val_loss: 1.5108 - val_acc: 0.6131\n",
      "Epoch 126/200\n",
      "5376/5429 [============================>.] - ETA: 0s - loss: 0.3009 - acc: 0.8966Epoch 00125: val_acc did not improve\n",
      "5429/5429 [==============================] - 44s - loss: 0.3010 - acc: 0.8972 - val_loss: 1.5185 - val_acc: 0.6163\n",
      "Epoch 127/200\n",
      "5376/5429 [============================>.] - ETA: 0s - loss: 0.3058 - acc: 0.8953Epoch 00126: val_acc did not improve\n",
      "5429/5429 [==============================] - 44s - loss: 0.3053 - acc: 0.8954 - val_loss: 1.5059 - val_acc: 0.6225\n",
      "Epoch 128/200\n",
      "5376/5429 [============================>.] - ETA: 0s - loss: 0.3176 - acc: 0.8932Epoch 00127: val_acc did not improve\n",
      "5429/5429 [==============================] - 44s - loss: 0.3181 - acc: 0.8930 - val_loss: 1.5083 - val_acc: 0.6142\n",
      "Epoch 129/200\n",
      "5376/5429 [============================>.] - ETA: 0s - loss: 0.2916 - acc: 0.9033Epoch 00128: val_acc did not improve\n",
      "5429/5429 [==============================] - 44s - loss: 0.2914 - acc: 0.9033 - val_loss: 1.5101 - val_acc: 0.6184\n",
      "Epoch 130/200\n",
      "5376/5429 [============================>.] - ETA: 0s - loss: 0.2919 - acc: 0.9020Epoch 00129: val_acc did not improve\n",
      "5429/5429 [==============================] - 44s - loss: 0.2934 - acc: 0.9013 - val_loss: 1.5326 - val_acc: 0.6225\n",
      "Epoch 131/200\n",
      "5376/5429 [============================>.] - ETA: 0s - loss: 0.3018 - acc: 0.8973Epoch 00130: val_acc did not improve\n",
      "5429/5429 [==============================] - 44s - loss: 0.3013 - acc: 0.8972 - val_loss: 1.5294 - val_acc: 0.6152\n",
      "Epoch 132/200\n",
      "5376/5429 [============================>.] - ETA: 0s - loss: 0.2892 - acc: 0.9038Epoch 00131: val_acc did not improve\n",
      "5429/5429 [==============================] - 43s - loss: 0.2900 - acc: 0.9033 - val_loss: 1.5299 - val_acc: 0.6121\n",
      "Epoch 133/200\n",
      "5376/5429 [============================>.] - ETA: 0s - loss: 0.2990 - acc: 0.8962Epoch 00132: val_acc did not improve\n",
      "5429/5429 [==============================] - 44s - loss: 0.2982 - acc: 0.8965 - val_loss: 1.5315 - val_acc: 0.6142\n",
      "Epoch 134/200\n",
      "5376/5429 [============================>.] - ETA: 0s - loss: 0.2860 - acc: 0.9049Epoch 00133: val_acc did not improve\n",
      "5429/5429 [==============================] - 44s - loss: 0.2849 - acc: 0.9055 - val_loss: 1.5576 - val_acc: 0.6194\n",
      "Epoch 135/200\n",
      "5376/5429 [============================>.] - ETA: 0s - loss: 0.2942 - acc: 0.8968Epoch 00134: val_acc did not improve\n",
      "5429/5429 [==============================] - 46s - loss: 0.2971 - acc: 0.8957 - val_loss: 1.5463 - val_acc: 0.6173\n",
      "Epoch 136/200\n",
      "5376/5429 [============================>.] - ETA: 0s - loss: 0.2892 - acc: 0.9020Epoch 00135: val_acc did not improve\n",
      "5429/5429 [==============================] - 42s - loss: 0.2884 - acc: 0.9024 - val_loss: 1.5466 - val_acc: 0.6194\n",
      "Epoch 137/200\n",
      "5376/5429 [============================>.] - ETA: 61s - loss: 0.2981 - acc: 0.8949 Epoch 00136: val_acc did not improve\n",
      "5429/5429 [==============================] - 6242s - loss: 0.3010 - acc: 0.8939 - val_loss: 1.5441 - val_acc: 0.6194\n",
      "Epoch 138/200\n",
      "5376/5429 [============================>.] - ETA: 0s - loss: 0.2914 - acc: 0.9009Epoch 00137: val_acc did not improve\n",
      "5429/5429 [==============================] - 61s - loss: 0.2912 - acc: 0.9009 - val_loss: 1.5522 - val_acc: 0.6152\n",
      "Epoch 139/200\n",
      "5376/5429 [============================>.] - ETA: 0s - loss: 0.2794 - acc: 0.9044Epoch 00138: val_acc did not improve\n",
      "5429/5429 [==============================] - 58s - loss: 0.2796 - acc: 0.9044 - val_loss: 1.5461 - val_acc: 0.6204\n",
      "Epoch 140/200\n",
      "5376/5429 [============================>.] - ETA: 0s - loss: 0.2777 - acc: 0.9074Epoch 00139: val_acc did not improve\n",
      "5429/5429 [==============================] - 64s - loss: 0.2765 - acc: 0.9079 - val_loss: 1.5412 - val_acc: 0.6257\n",
      "Epoch 141/200\n",
      "5376/5429 [============================>.] - ETA: 0s - loss: 0.2801 - acc: 0.9003Epoch 00140: val_acc did not improve\n",
      "5429/5429 [==============================] - 54s - loss: 0.2797 - acc: 0.9005 - val_loss: 1.5302 - val_acc: 0.6246\n",
      "Epoch 142/200\n",
      "5376/5429 [============================>.] - ETA: 0s - loss: 0.2729 - acc: 0.9046Epoch 00141: val_acc did not improve\n",
      "5429/5429 [==============================] - 51s - loss: 0.2737 - acc: 0.9038 - val_loss: 1.5407 - val_acc: 0.6246\n",
      "Epoch 143/200\n",
      "5376/5429 [============================>.] - ETA: 0s - loss: 0.2740 - acc: 0.9092Epoch 00142: val_acc did not improve\n",
      "5429/5429 [==============================] - 53s - loss: 0.2747 - acc: 0.9086 - val_loss: 1.5349 - val_acc: 0.6298\n",
      "Epoch 144/200\n",
      "5376/5429 [============================>.] - ETA: 0s - loss: 0.2774 - acc: 0.9042Epoch 00143: val_acc did not improve\n",
      "5429/5429 [==============================] - 62s - loss: 0.2766 - acc: 0.9044 - val_loss: 1.5256 - val_acc: 0.6246\n",
      "Epoch 145/200\n",
      "5376/5429 [============================>.] - ETA: 0s - loss: 0.2731 - acc: 0.9081Epoch 00144: val_acc did not improve\n",
      "5429/5429 [==============================] - 62s - loss: 0.2726 - acc: 0.9081 - val_loss: 1.5558 - val_acc: 0.6184\n",
      "Epoch 146/200\n",
      "5376/5429 [============================>.] - ETA: 0s - loss: 0.2768 - acc: 0.9042Epoch 00145: val_acc did not improve\n",
      "5429/5429 [==============================] - 63s - loss: 0.2774 - acc: 0.9040 - val_loss: 1.5683 - val_acc: 0.6225\n",
      "Epoch 147/200\n",
      "5376/5429 [============================>.] - ETA: 0s - loss: 0.2610 - acc: 0.9113Epoch 00146: val_acc did not improve\n",
      "5429/5429 [==============================] - 62s - loss: 0.2612 - acc: 0.9114 - val_loss: 1.5618 - val_acc: 0.6246\n",
      "Epoch 148/200\n",
      "5376/5429 [============================>.] - ETA: 0s - loss: 0.2679 - acc: 0.9096Epoch 00147: val_acc did not improve\n",
      "5429/5429 [==============================] - 62s - loss: 0.2674 - acc: 0.9101 - val_loss: 1.5884 - val_acc: 0.6142\n",
      "Epoch 149/200\n",
      "5376/5429 [============================>.] - ETA: 0s - loss: 0.2787 - acc: 0.9048Epoch 00148: val_acc did not improve\n",
      "5429/5429 [==============================] - 62s - loss: 0.2782 - acc: 0.9051 - val_loss: 1.5772 - val_acc: 0.6163\n",
      "Epoch 150/200\n",
      "5376/5429 [============================>.] - ETA: 0s - loss: 0.2684 - acc: 0.9070Epoch 00149: val_acc did not improve\n",
      "5429/5429 [==============================] - 60s - loss: 0.2674 - acc: 0.9073 - val_loss: 1.5808 - val_acc: 0.6173\n",
      "Epoch 151/200\n",
      "5376/5429 [============================>.] - ETA: 0s - loss: 0.2790 - acc: 0.9035Epoch 00150: val_acc did not improve\n",
      "5429/5429 [==============================] - 51s - loss: 0.2799 - acc: 0.9029 - val_loss: 1.5793 - val_acc: 0.6100\n",
      "Epoch 152/200\n",
      "5376/5429 [============================>.] - ETA: 0s - loss: 0.2600 - acc: 0.9122Epoch 00151: val_acc did not improve\n",
      "5429/5429 [==============================] - 51s - loss: 0.2595 - acc: 0.9123 - val_loss: 1.5730 - val_acc: 0.6131\n",
      "Epoch 153/200\n",
      "5376/5429 [============================>.] - ETA: 0s - loss: 0.2583 - acc: 0.9137Epoch 00152: val_acc did not improve\n",
      "5429/5429 [==============================] - 37s - loss: 0.2573 - acc: 0.9142 - val_loss: 1.5940 - val_acc: 0.6163\n",
      "Epoch 154/200\n",
      "5376/5429 [============================>.] - ETA: 0s - loss: 0.2631 - acc: 0.9074Epoch 00153: val_acc did not improve\n",
      "5429/5429 [==============================] - 53s - loss: 0.2641 - acc: 0.9070 - val_loss: 1.5937 - val_acc: 0.6100\n",
      "Epoch 155/200\n",
      "5376/5429 [============================>.] - ETA: 0s - loss: 0.2639 - acc: 0.9092Epoch 00154: val_acc did not improve\n",
      "5429/5429 [==============================] - 52s - loss: 0.2627 - acc: 0.9097 - val_loss: 1.5912 - val_acc: 0.6152\n",
      "Epoch 156/200\n",
      "5376/5429 [============================>.] - ETA: 0s - loss: 0.2618 - acc: 0.9124Epoch 00155: val_acc did not improve\n",
      "5429/5429 [==============================] - 51s - loss: 0.2603 - acc: 0.9132 - val_loss: 1.5805 - val_acc: 0.6111\n",
      "Epoch 157/200\n",
      "5376/5429 [============================>.] - ETA: 0s - loss: 0.2714 - acc: 0.9042Epoch 00156: val_acc did not improve\n",
      "5429/5429 [==============================] - 51s - loss: 0.2704 - acc: 0.9048 - val_loss: 1.5929 - val_acc: 0.6152\n",
      "Epoch 158/200\n",
      "5376/5429 [============================>.] - ETA: 0s - loss: 0.2585 - acc: 0.9115Epoch 00157: val_acc did not improve\n",
      "5429/5429 [==============================] - 50s - loss: 0.2589 - acc: 0.9116 - val_loss: 1.6160 - val_acc: 0.6111\n",
      "Epoch 159/200\n",
      "5376/5429 [============================>.] - ETA: 0s - loss: 0.2579 - acc: 0.9118Epoch 00158: val_acc did not improve\n",
      "5429/5429 [==============================] - 56s - loss: 0.2581 - acc: 0.9116 - val_loss: 1.6026 - val_acc: 0.6069\n",
      "Epoch 160/200\n",
      "5376/5429 [============================>.] - ETA: 0s - loss: 0.2479 - acc: 0.9133Epoch 00159: val_acc did not improve\n",
      "5429/5429 [==============================] - 51s - loss: 0.2489 - acc: 0.9132 - val_loss: 1.5857 - val_acc: 0.6121\n",
      "Epoch 161/200\n",
      "5376/5429 [============================>.] - ETA: 0s - loss: 0.2408 - acc: 0.9217Epoch 00160: val_acc did not improve\n",
      "5429/5429 [==============================] - 51s - loss: 0.2406 - acc: 0.9215 - val_loss: 1.6057 - val_acc: 0.6121\n",
      "Epoch 162/200\n",
      "5376/5429 [============================>.] - ETA: 0s - loss: 0.2549 - acc: 0.9139Epoch 00161: val_acc did not improve\n",
      "5429/5429 [==============================] - 51s - loss: 0.2539 - acc: 0.9143 - val_loss: 1.6047 - val_acc: 0.6204\n",
      "Epoch 163/200\n",
      "5376/5429 [============================>.] - ETA: 0s - loss: 0.2466 - acc: 0.9165Epoch 00162: val_acc did not improve\n",
      "5429/5429 [==============================] - 48s - loss: 0.2463 - acc: 0.9167 - val_loss: 1.6241 - val_acc: 0.6121\n",
      "Epoch 164/200\n",
      "5376/5429 [============================>.] - ETA: 0s - loss: 0.2583 - acc: 0.9124Epoch 00163: val_acc did not improve\n",
      "5429/5429 [==============================] - 43s - loss: 0.2592 - acc: 0.9121 - val_loss: 1.6149 - val_acc: 0.6152\n",
      "Epoch 165/200\n",
      "5376/5429 [============================>.] - ETA: 3s - loss: 0.2535 - acc: 0.9118 Epoch 00164: val_acc did not improve\n",
      "5429/5429 [==============================] - 376s - loss: 0.2574 - acc: 0.9108 - val_loss: 1.6255 - val_acc: 0.6131\n",
      "Epoch 166/200\n",
      "5376/5429 [============================>.] - ETA: 0s - loss: 0.2464 - acc: 0.9118Epoch 00165: val_acc did not improve\n",
      "5429/5429 [==============================] - 52s - loss: 0.2459 - acc: 0.9120 - val_loss: 1.6295 - val_acc: 0.6121\n",
      "Epoch 167/200\n",
      "5376/5429 [============================>.] - ETA: 0s - loss: 0.2571 - acc: 0.9161Epoch 00166: val_acc did not improve\n",
      "5429/5429 [==============================] - 51s - loss: 0.2579 - acc: 0.9158 - val_loss: 1.6222 - val_acc: 0.6100\n",
      "Epoch 168/200\n",
      "5376/5429 [============================>.] - ETA: 0s - loss: 0.2439 - acc: 0.9193Epoch 00167: val_acc did not improve\n",
      "5429/5429 [==============================] - 50s - loss: 0.2442 - acc: 0.9191 - val_loss: 1.6326 - val_acc: 0.6048\n",
      "Epoch 169/200\n",
      "5376/5429 [============================>.] - ETA: 0s - loss: 0.2465 - acc: 0.9196Epoch 00168: val_acc did not improve\n",
      "5429/5429 [==============================] - 50s - loss: 0.2472 - acc: 0.9193 - val_loss: 1.6504 - val_acc: 0.6027\n",
      "Epoch 170/200\n",
      "5376/5429 [============================>.] - ETA: 0s - loss: 0.2421 - acc: 0.9159Epoch 00169: val_acc did not improve\n",
      "5429/5429 [==============================] - 50s - loss: 0.2419 - acc: 0.9158 - val_loss: 1.6522 - val_acc: 0.6121\n",
      "Epoch 171/200\n",
      "5376/5429 [============================>.] - ETA: 0s - loss: 0.2460 - acc: 0.9159Epoch 00170: val_acc did not improve\n",
      "5429/5429 [==============================] - 52s - loss: 0.2456 - acc: 0.9160 - val_loss: 1.6559 - val_acc: 0.6111\n",
      "Epoch 172/200\n",
      "5376/5429 [============================>.] - ETA: 0s - loss: 0.2360 - acc: 0.9189Epoch 00171: val_acc did not improve\n",
      "5429/5429 [==============================] - 50s - loss: 0.2357 - acc: 0.9188 - val_loss: 1.6637 - val_acc: 0.6069\n",
      "Epoch 173/200\n",
      "5376/5429 [============================>.] - ETA: 0s - loss: 0.2361 - acc: 0.9230Epoch 00172: val_acc did not improve\n",
      "5429/5429 [==============================] - 50s - loss: 0.2361 - acc: 0.9228 - val_loss: 1.6552 - val_acc: 0.6058\n",
      "Epoch 174/200\n",
      "5376/5429 [============================>.] - ETA: 0s - loss: 0.2535 - acc: 0.9141Epoch 00173: val_acc did not improve\n",
      "5429/5429 [==============================] - 50s - loss: 0.2538 - acc: 0.9138 - val_loss: 1.6542 - val_acc: 0.6142\n",
      "Epoch 175/200\n",
      "5376/5429 [============================>.] - ETA: 0s - loss: 0.2455 - acc: 0.9116Epoch 00174: val_acc did not improve\n",
      "5429/5429 [==============================] - 52s - loss: 0.2444 - acc: 0.9121 - val_loss: 1.6634 - val_acc: 0.6142\n",
      "Epoch 176/200\n",
      "5376/5429 [============================>.] - ETA: 0s - loss: 0.2470 - acc: 0.9183Epoch 00175: val_acc did not improve\n",
      "5429/5429 [==============================] - 63s - loss: 0.2464 - acc: 0.9188 - val_loss: 1.6603 - val_acc: 0.6111\n",
      "Epoch 177/200\n",
      "5376/5429 [============================>.] - ETA: 0s - loss: 0.2462 - acc: 0.9141Epoch 00176: val_acc did not improve\n",
      "5429/5429 [==============================] - 49s - loss: 0.2455 - acc: 0.9149 - val_loss: 1.6527 - val_acc: 0.6204\n",
      "Epoch 178/200\n",
      "5376/5429 [============================>.] - ETA: 0s - loss: 0.2456 - acc: 0.9144Epoch 00177: val_acc did not improve\n",
      "5429/5429 [==============================] - 60s - loss: 0.2454 - acc: 0.9145 - val_loss: 1.6420 - val_acc: 0.6131\n",
      "Epoch 179/200\n",
      "5376/5429 [============================>.] - ETA: 0s - loss: 0.2428 - acc: 0.9144Epoch 00178: val_acc did not improve\n",
      "5429/5429 [==============================] - 57s - loss: 0.2426 - acc: 0.9145 - val_loss: 1.6503 - val_acc: 0.6225\n",
      "Epoch 180/200\n",
      "5376/5429 [============================>.] - ETA: 0s - loss: 0.2287 - acc: 0.9222Epoch 00179: val_acc did not improve\n",
      "5429/5429 [==============================] - 52s - loss: 0.2276 - acc: 0.9226 - val_loss: 1.6557 - val_acc: 0.6142\n",
      "Epoch 181/200\n",
      "5376/5429 [============================>.] - ETA: 0s - loss: 0.2288 - acc: 0.9221Epoch 00180: val_acc did not improve\n",
      "5429/5429 [==============================] - 49s - loss: 0.2287 - acc: 0.9223 - val_loss: 1.6577 - val_acc: 0.6131\n",
      "Epoch 182/200\n",
      "5376/5429 [============================>.] - ETA: 0s - loss: 0.2401 - acc: 0.9183Epoch 00181: val_acc did not improve\n",
      "5429/5429 [==============================] - 51s - loss: 0.2404 - acc: 0.9180 - val_loss: 1.6604 - val_acc: 0.6184\n",
      "Epoch 183/200\n",
      "5376/5429 [============================>.] - ETA: 0s - loss: 0.2379 - acc: 0.9198Epoch 00182: val_acc did not improve\n",
      "5429/5429 [==============================] - 38s - loss: 0.2371 - acc: 0.9201 - val_loss: 1.6680 - val_acc: 0.6152\n",
      "Epoch 184/200\n",
      "5376/5429 [============================>.] - ETA: 0s - loss: 0.2315 - acc: 0.9215Epoch 00183: val_acc did not improve\n",
      "5429/5429 [==============================] - 58s - loss: 0.2319 - acc: 0.9217 - val_loss: 1.6882 - val_acc: 0.6142\n",
      "Epoch 185/200\n",
      "5376/5429 [============================>.] - ETA: 0s - loss: 0.2373 - acc: 0.9217Epoch 00184: val_acc did not improve\n",
      "5429/5429 [==============================] - 48s - loss: 0.2371 - acc: 0.9219 - val_loss: 1.6866 - val_acc: 0.6152\n",
      "Epoch 186/200\n",
      "5376/5429 [============================>.] - ETA: 0s - loss: 0.2333 - acc: 0.9219Epoch 00185: val_acc did not improve\n",
      "5429/5429 [==============================] - 51s - loss: 0.2328 - acc: 0.9225 - val_loss: 1.6868 - val_acc: 0.6142\n",
      "Epoch 187/200\n",
      "5376/5429 [============================>.] - ETA: 0s - loss: 0.2185 - acc: 0.9260Epoch 00186: val_acc did not improve\n",
      "5429/5429 [==============================] - 48s - loss: 0.2188 - acc: 0.9258 - val_loss: 1.6768 - val_acc: 0.6100\n",
      "Epoch 188/200\n",
      "5376/5429 [============================>.] - ETA: 0s - loss: 0.2427 - acc: 0.9139Epoch 00187: val_acc did not improve\n",
      "5429/5429 [==============================] - 47s - loss: 0.2433 - acc: 0.9140 - val_loss: 1.6917 - val_acc: 0.6090\n",
      "Epoch 189/200\n",
      "5376/5429 [============================>.] - ETA: 0s - loss: 0.2399 - acc: 0.9208Epoch 00188: val_acc did not improve\n",
      "5429/5429 [==============================] - 48s - loss: 0.2384 - acc: 0.9215 - val_loss: 1.6828 - val_acc: 0.6069\n",
      "Epoch 190/200\n",
      "5376/5429 [============================>.] - ETA: 0s - loss: 0.2277 - acc: 0.9232Epoch 00189: val_acc did not improve\n",
      "5429/5429 [==============================] - 48s - loss: 0.2281 - acc: 0.9230 - val_loss: 1.7008 - val_acc: 0.6111\n",
      "Epoch 191/200\n",
      "5376/5429 [============================>.] - ETA: 0s - loss: 0.2193 - acc: 0.9250Epoch 00190: val_acc did not improve\n",
      "5429/5429 [==============================] - 52s - loss: 0.2197 - acc: 0.9254 - val_loss: 1.7027 - val_acc: 0.6142\n",
      "Epoch 192/200\n",
      "5376/5429 [============================>.] - ETA: 0s - loss: 0.2291 - acc: 0.9247Epoch 00191: val_acc did not improve\n",
      "5429/5429 [==============================] - 59s - loss: 0.2296 - acc: 0.9243 - val_loss: 1.7053 - val_acc: 0.6142\n",
      "Epoch 193/200\n",
      "5376/5429 [============================>.] - ETA: 0s - loss: 0.2263 - acc: 0.9252Epoch 00192: val_acc did not improve\n",
      "5429/5429 [==============================] - 51s - loss: 0.2267 - acc: 0.9250 - val_loss: 1.6896 - val_acc: 0.6100\n",
      "Epoch 194/200\n",
      "5376/5429 [============================>.] - ETA: 0s - loss: 0.2255 - acc: 0.9252Epoch 00193: val_acc did not improve\n",
      "5429/5429 [==============================] - 53s - loss: 0.2255 - acc: 0.9252 - val_loss: 1.7095 - val_acc: 0.6163\n",
      "Epoch 195/200\n",
      "5376/5429 [============================>.] - ETA: 0s - loss: 0.2192 - acc: 0.9289Epoch 00194: val_acc did not improve\n",
      "5429/5429 [==============================] - 56s - loss: 0.2197 - acc: 0.9289 - val_loss: 1.7005 - val_acc: 0.6267\n",
      "Epoch 196/200\n",
      "5376/5429 [============================>.] - ETA: 0s - loss: 0.2248 - acc: 0.9198Epoch 00195: val_acc did not improve\n",
      "5429/5429 [==============================] - 52s - loss: 0.2257 - acc: 0.9195 - val_loss: 1.7105 - val_acc: 0.6204\n",
      "Epoch 197/200\n",
      "5376/5429 [============================>.] - ETA: 0s - loss: 0.2324 - acc: 0.9260Epoch 00196: val_acc did not improve\n",
      "5429/5429 [==============================] - 59s - loss: 0.2326 - acc: 0.9258 - val_loss: 1.7124 - val_acc: 0.6236\n",
      "Epoch 198/200\n",
      "5376/5429 [============================>.] - ETA: 0s - loss: 0.2346 - acc: 0.9191Epoch 00197: val_acc did not improve\n",
      "5429/5429 [==============================] - 56s - loss: 0.2341 - acc: 0.9193 - val_loss: 1.6986 - val_acc: 0.6173\n",
      "Epoch 199/200\n",
      "5376/5429 [============================>.] - ETA: 0s - loss: 0.2227 - acc: 0.9269Epoch 00198: val_acc did not improve\n",
      "5429/5429 [==============================] - 67s - loss: 0.2216 - acc: 0.9274 - val_loss: 1.7104 - val_acc: 0.6131\n",
      "Epoch 200/200\n",
      "5376/5429 [============================>.] - ETA: 0s - loss: 0.2324 - acc: 0.9154Epoch 00199: val_acc did not improve\n",
      "5429/5429 [==============================] - 57s - loss: 0.2310 - acc: 0.9160 - val_loss: 1.7151 - val_acc: 0.6163\n"
     ]
    }
   ],
   "source": [
    "VALIDATION_SPLIT = 0.15\n",
    "\n",
    "history = model.fit(X_train, y_train, validation_split=VALIDATION_SPLIT, epochs=200, batch_size=128,callbacks=callbacks_list)\n",
    "model.save('lstm_model.h5')"
   ]
  },
  {
   "cell_type": "code",
   "execution_count": 19,
   "metadata": {},
   "outputs": [
    {
     "name": "stdout",
     "output_type": "stream",
     "text": [
      "['acc', 'loss', 'val_acc', 'val_loss']\n"
     ]
    },
    {
     "data": {
      "image/png": "[encoded data removed]",
      "text/plain": [
       "<Figure size 432x288 with 1 Axes>"
      ]
     },
     "metadata": {
      "image/png": {
       "height": 276,
       "width": 423
      }
     },
     "output_type": "display_data"
    },
    {
     "data": {
      "image/png": "[encoded data removed]",
      "text/plain": [
       "<Figure size 432x288 with 1 Axes>"
      ]
     },
     "metadata": {
      "image/png": {
       "height": 276,
       "width": 423
      }
     },
     "output_type": "display_data"
    }
   ],
   "source": [
    "import matplotlib.pyplot as plt\n",
    "\n",
    "print(history.history.keys())\n",
    "\n",
    "# summarize history for accuracy\n",
    "plt.plot(history.history['acc'])\n",
    "plt.plot(history.history['val_acc'])\n",
    "plt.title('training accuracy vs validation accuracy')\n",
    "plt.ylabel('accuracy')\n",
    "plt.xlabel('epoch')\n",
    "plt.legend(['train', 'validation'], loc='upper left')\n",
    "plt.show()\n",
    "\n",
    "# summarize history for loss\n",
    "plt.plot(history.history['loss'])\n",
    "plt.plot(history.history['val_loss'])\n",
    "plt.title('training loss vs validation loss')\n",
    "plt.ylabel('loss')\n",
    "plt.xlabel('epoch')\n",
    "plt.legend(['train', 'validation'], loc='upper left')\n",
    "plt.show()"
   ]
  },
  {
   "cell_type": "code",
   "execution_count": 22,
   "metadata": {},
   "outputs": [
    {
     "name": "stdout",
     "output_type": "stream",
     "text": [
      "Created model and loaded weights from file\n"
     ]
    }
   ],
   "source": [
    "from keras.models import load_model\n",
    "model = load_model('lstm_model.h5') \n",
    "\n",
    "MAX_SEQUENCE_LENGTH = 100\n",
    "\n",
    "model = Sequential()\n",
    "n, embedding_dims = embedding_mat.shape\n",
    "\n",
    "model.add(Embedding(n, embedding_dims, weights=[embedding_mat], input_length=MAX_SEQUENCE_LENGTH, trainable=False))\n",
    "model.add(LSTM(128, dropout=0.6, recurrent_dropout=0.6))\n",
    "model.add(Dense(7))\n",
    "model.add(Activation('softmax'))\n",
    "\n",
    "model.load_weights('weights.best.h5')\n",
    "\n",
    "model.compile(loss='categorical_crossentropy', optimizer='adam', metrics=['accuracy'])\n",
    "print(\"Created model and loaded weights from file\")"
   ]
  },
  {
   "cell_type": "code",
   "execution_count": 25,
   "metadata": {},
   "outputs": [
    {
     "data": {
      "text/plain": [
       "1128"
      ]
     },
     "execution_count": 25,
     "metadata": {},
     "output_type": "execute_result"
    }
   ],
   "source": [
    "preds = model.predict(X_test,verbose = 2)\n",
    "\n",
    "preds_mod = []\n",
    "for i in preds:\n",
    "    arr = []\n",
    "    for j,k in enumerate(i):\n",
    "        if j == np.argmax(i):\n",
    "            arr.append(1)\n",
    "        else:\n",
    "            arr.append(0)\n",
    "    preds_mod.append(arr)\n",
    "    \n",
    "preds_mod = np.asarray(preds_mod)\n",
    "len(preds_mod)"
   ]
  },
  {
   "cell_type": "code",
   "execution_count": 26,
   "metadata": {},
   "outputs": [
    {
     "data": {
      "text/plain": [
       "1128"
      ]
     },
     "execution_count": 26,
     "metadata": {},
     "output_type": "execute_result"
    }
   ],
   "source": [
    "y_preds = []\n",
    "for emotions in preds_mod:\n",
    "\n",
    "    if(np.argmax(emotions) == 0):\n",
    "        feelings = \"shame\"\n",
    "    elif (np.argmax(emotions) == 1):\n",
    "        feelings = \"sadness\"\n",
    "    elif (np.argmax(emotions) == 2):\n",
    "        feelings = \"joy\"\n",
    "    elif (np.argmax(emotions) == 3):\n",
    "        feelings = \"guilt\"\n",
    "    elif (np.argmax(emotions) == 4):\n",
    "        feelings = \"fear\"\n",
    "    elif (np.argmax(emotions) == 5):\n",
    "        feelings = \"disgust\"\n",
    "    elif (np.argmax(emotions) == 6):\n",
    "        feelings = \"anger\"\n",
    "    y_preds.append(feelings)\n",
    "len(y_preds)"
   ]
  },
  {
   "cell_type": "code",
   "execution_count": 27,
   "metadata": {},
   "outputs": [
    {
     "data": {
      "text/plain": [
       "1128"
      ]
     },
     "execution_count": 27,
     "metadata": {},
     "output_type": "execute_result"
    }
   ],
   "source": [
    "Y_test = []\n",
    "for emotions in y_test:\n",
    "\n",
    "    if(np.argmax(emotions) == 0):\n",
    "        feelings = \"shame\"\n",
    "    elif (np.argmax(emotions) == 1):\n",
    "        feelings = \"sadness\"\n",
    "    elif (np.argmax(emotions) == 2):\n",
    "        feelings = \"joy\"\n",
    "    elif (np.argmax(emotions) == 3):\n",
    "        feelings = \"guilt\"\n",
    "    elif (np.argmax(emotions) == 4):\n",
    "        feelings = \"fear\"\n",
    "    elif (np.argmax(emotions) == 5):\n",
    "        feelings = \"disgust\"\n",
    "    elif (np.argmax(emotions) == 6):\n",
    "        feelings = \"anger\"\n",
    "    Y_test.append(feelings)\n",
    "len(Y_test)"
   ]
  },
  {
   "cell_type": "code",
   "execution_count": 28,
   "metadata": {},
   "outputs": [
    {
     "name": "stdout",
     "output_type": "stream",
     "text": [
      "             precision    recall  f1-score   support\n",
      "\n",
      "      anger       0.53      0.54      0.53       174\n",
      "    disgust       0.59      0.63      0.61       152\n",
      "       fear       0.68      0.69      0.69       143\n",
      "      guilt       0.57      0.44      0.50       165\n",
      "        joy       0.77      0.81      0.79       182\n",
      "    sadness       0.58      0.66      0.62       146\n",
      "      shame       0.58      0.54      0.56       166\n",
      "\n",
      "avg / total       0.62      0.62      0.62      1128\n",
      "\n"
     ]
    }
   ],
   "source": [
    "from sklearn.metrics import confusion_matrix, classification_report\n",
    "print(classification_report(Y_test, y_preds))"
   ]
  },
  {
   "cell_type": "code",
   "execution_count": 29,
   "metadata": {},
   "outputs": [
    {
     "name": "stdout",
     "output_type": "stream",
     "text": [
      "[[ 94  17  10  19   6  16  12]\n",
      " [ 22  96   6   2   5   8  13]\n",
      " [ 12   9  99   2   5   9   7]\n",
      " [ 23  10  11  73  14  15  19]\n",
      " [  5   4   1   5 148  11   8]\n",
      " [  8   9   9   9   8  97   6]\n",
      " [ 14  18   9  19   6  10  90]]\n"
     ]
    }
   ],
   "source": [
    "cm = confusion_matrix(Y_test, y_preds)\n",
    "print(cm)"
   ]
  },
  {
   "cell_type": "code",
   "execution_count": 31,
   "metadata": {},
   "outputs": [
    {
     "data": {
      "image/png": "[encoded data removed]",
      "text/plain": [
       "<Figure size 432x432 with 2 Axes>"
      ]
     },
     "metadata": {
      "image/png": {
       "height": 385,
       "width": 426
      }
     },
     "output_type": "display_data"
    }
   ],
   "source": [
    "fig = plt.figure(figsize=(6,6))\n",
    "labels = ['anger','disgust','fear','guilt','joy','sadness','shame']\n",
    "ax= sns.heatmap(cm, annot=True, fmt=\".1f\", linewidths=.3, square = False, cmap = plt.cm.gray);\n",
    "plt.title('Confusion matrix of the classifier')\n",
    "ax.set_xticklabels(labels)\n",
    "ax.set_yticklabels(labels)\n",
    "plt.yticks(rotation=0)\n",
    "plt.xlabel('Predicted')\n",
    "plt.ylabel('True')\n",
    "plt.show()"
   ]
  },
  {
   "cell_type": "code",
   "execution_count": 32,
   "metadata": {},
   "outputs": [
    {
     "name": "stdout",
     "output_type": "stream",
     "text": [
      "acc: 61.79%\n"
     ]
    }
   ],
   "source": [
    "scores= model.evaluate(X_test, y_test, verbose=0)\n",
    "print(\"%s: %.2f%%\" % (model.metrics_names[1], scores[1] * 100))"
   ]
  },
  {
   "cell_type": "code",
   "execution_count": 5,
   "metadata": {},
   "outputs": [],
   "source": [
    "#from keras.models import load_model\n",
    "#model = load_model('lstm_model.h5') "
   ]
  },
  {
   "cell_type": "code",
   "execution_count": 33,
   "metadata": {},
   "outputs": [],
   "source": [
    "def predict_emo(msg):\n",
    "    text = [clean_txt(str(msg[0]))]\n",
    "    text = tokenizer.texts_to_sequences(text)\n",
    "    text = pad_sequences(text, maxlen=MAX_SEQUENCE_LENGTH, dtype='int32', value=0)\n",
    "    emotions = model.predict(text,verbose = 2)[0]\n",
    "    \n",
    "    if(np.argmax(emotions) == 0):\n",
    "        feelings = \"shame\"\n",
    "    elif (np.argmax(emotions) == 1):\n",
    "        feelings = \"sadness\"\n",
    "    elif (np.argmax(emotions) == 2):\n",
    "        feelings = \"joy\"\n",
    "    elif (np.argmax(emotions) == 3):\n",
    "        feelings = \"guilt\"\n",
    "    elif (np.argmax(emotions) == 4):\n",
    "        feelings = \"fear\"\n",
    "    elif (np.argmax(emotions) == 5):\n",
    "        feelings = \"disgust\"\n",
    "    elif (np.argmax(emotions) == 6):\n",
    "        feelings = \"anger\"\n",
    "\n",
    "    print('Dorminant Emotion: '+ feelings )\n",
    "    print(\"shame: %.2f%%\" % (emotions[0]*100 ))\n",
    "    print(\"sadness: %.2f%%\" % (emotions[1]*100 ))\n",
    "    print(\"joy: %.2f%%\" % (emotions[2]*100 ))\n",
    "    print(\"guilt: %.2f%%\" % (emotions[3]*100 ))\n",
    "    print(\"fear: %.2f%%\" % (emotions[4]*100 ))\n",
    "    print(\"disgust: %.2f%%\" % (emotions[5]*100 ))\n",
    "    print(\"anger: %.2f%%\" % (emotions[6]*100 ))"
   ]
  },
  {
   "cell_type": "code",
   "execution_count": 37,
   "metadata": {},
   "outputs": [
    {
     "name": "stdout",
     "output_type": "stream",
     "text": [
      "Dorminant Emotion: joy\n",
      "shame: 1.26%\n",
      "sadness: 0.85%\n",
      "joy: 95.95%\n",
      "guilt: 0.33%\n",
      "fear: 0.38%\n",
      "disgust: 0.72%\n",
      "anger: 0.52%\n"
     ]
    }
   ],
   "source": [
    "msg = [\"Welcome, pleasant to see you today.\"]\n",
    "predict_emo(msg)"
   ]
  },
  {
   "cell_type": "code",
   "execution_count": null,
   "metadata": {},
   "outputs": [],
   "source": []
  }
 ],
 "metadata": {
  "kernelspec": {
   "display_name": "Python 2",
   "language": "python",
   "name": "python2"
  },
  "language_info": {
   "codemirror_mode": {
    "name": "ipython",
    "version": 2
   },
   "file_extension": ".py",
   "mimetype": "text/x-python",
   "name": "python",
   "nbconvert_exporter": "python",
   "pygments_lexer": "ipython2",
   "version": "2.7.14"
  }
 },
 "nbformat": 4,
 "nbformat_minor": 2
}
