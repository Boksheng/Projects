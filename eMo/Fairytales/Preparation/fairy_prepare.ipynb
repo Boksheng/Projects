{
 "cells": [
  {
   "cell_type": "code",
   "execution_count": 2,
   "metadata": {},
   "outputs": [],
   "source": [
    "import pandas as pd\n",
    "import string\n",
    "import re\n",
    "import pickle\n",
    "\n",
    "from nltk.corpus import stopwords"
   ]
  },
  {
   "cell_type": "markdown",
   "metadata": {},
   "source": [
    "## Define Functions to clean text ##\n",
    "\n",
    "1. Remove strange characters\n",
    "2. Remove punctuations\n",
    "3. Change all characters to lower case\n",
    "4. Remove stopwords\n",
    "5. Remove numerical characters"
   ]
  },
  {
   "cell_type": "code",
   "execution_count": 3,
   "metadata": {},
   "outputs": [],
   "source": [
    "def mod_code(text):\n",
    "    text = re.sub(r'[^\\x00-\\x7f]',r'', text)\n",
    "    return text\n",
    "\n",
    "def mod_char(text):\n",
    "    text = \" \".join(word.replace('[^\\w\\s]',' ') for word in text.split())\n",
    "    return text\n",
    "\n",
    "def mod_punctuations(text):\n",
    "    for punctuation in string.punctuation:\n",
    "        text = \" \".join(word.replace(punctuation, '') for word in text.split())\n",
    "    return text\n",
    "\n",
    "def mod_lower(text):\n",
    "    text = text.lower()\n",
    "    return text\n",
    "\n",
    "stop = stopwords.words('english')\n",
    "def mod_stop(text):\n",
    "    text = ' '.join(word for word in text.split() if word not in stop)\n",
    "    return text\n",
    "\n",
    "def rem_num(text):\n",
    "    text = ' '.join(word for word in text.split() if not word.isdigit())\n",
    "    return text\n",
    "\n",
    "def clean_df(df,col):\n",
    "    df[col] = df[col].apply(rem_num)\n",
    "    df[col] = df[col].apply(mod_char)\n",
    "    df[col] = df[col].apply(mod_punctuations)\n",
    "    df[col] = df[col].apply(mod_lower)\n",
    "    df[col] = df[col].apply(mod_stop)\n",
    "    df[col] = df[col].apply(mod_code)\n",
    "    \n",
    "def clean_txt(text):\n",
    "    text = mod_char(text)\n",
    "    text = mod_punctuations(text)\n",
    "    text = mod_lower(text)\n",
    "    text = mod_code(text)\n",
    "    text = mod_stop(text)\n",
    "    \n",
    "    return text"
   ]
  },
  {
   "cell_type": "code",
   "execution_count": 6,
   "metadata": {},
   "outputs": [
    {
     "data": {
      "text/html": [
       "<div>\n",
       "<style scoped>\n",
       "    .dataframe tbody tr th:only-of-type {\n",
       "        vertical-align: middle;\n",
       "    }\n",
       "\n",
       "    .dataframe tbody tr th {\n",
       "        vertical-align: top;\n",
       "    }\n",
       "\n",
       "    .dataframe thead th {\n",
       "        text-align: right;\n",
       "    }\n",
       "</style>\n",
       "<table border=\"1\" class=\"dataframe\">\n",
       "  <thead>\n",
       "    <tr style=\"text-align: right;\">\n",
       "      <th></th>\n",
       "      <th>labels</th>\n",
       "      <th>texts</th>\n",
       "    </tr>\n",
       "  </thead>\n",
       "  <tbody>\n",
       "    <tr>\n",
       "      <th>0</th>\n",
       "      <td>neutral</td>\n",
       "      <td>NEAR the grass-covered rampart which encircles...</td>\n",
       "    </tr>\n",
       "    <tr>\n",
       "      <th>1</th>\n",
       "      <td>neutral</td>\n",
       "      <td>Balsams and other flowers greet us from the lo...</td>\n",
       "    </tr>\n",
       "    <tr>\n",
       "      <th>2</th>\n",
       "      <td>neutral</td>\n",
       "      <td>The building is the Warton Almshouse.</td>\n",
       "    </tr>\n",
       "    <tr>\n",
       "      <th>3</th>\n",
       "      <td>neutral</td>\n",
       "      <td>Look! at the window there leans an old maid.</td>\n",
       "    </tr>\n",
       "    <tr>\n",
       "      <th>4</th>\n",
       "      <td>sadness</td>\n",
       "      <td>She plucks the withered leaf from the balsam, ...</td>\n",
       "    </tr>\n",
       "  </tbody>\n",
       "</table>\n",
       "</div>"
      ],
      "text/plain": [
       "    labels                                              texts\n",
       "0  neutral  NEAR the grass-covered rampart which encircles...\n",
       "1  neutral  Balsams and other flowers greet us from the lo...\n",
       "2  neutral              The building is the Warton Almshouse.\n",
       "3  neutral       Look! at the window there leans an old maid.\n",
       "4  sadness  She plucks the withered leaf from the balsam, ..."
      ]
     },
     "execution_count": 6,
     "metadata": {},
     "output_type": "execute_result"
    }
   ],
   "source": [
    "fairy = pd.read_pickle('fairy.pkl')\n",
    "fairy.head()"
   ]
  },
  {
   "cell_type": "code",
   "execution_count": 7,
   "metadata": {},
   "outputs": [],
   "source": [
    "fairy.to_csv(\"fairy.csv\")"
   ]
  },
  {
   "cell_type": "code",
   "execution_count": 5,
   "metadata": {},
   "outputs": [
    {
     "data": {
      "text/html": [
       "<div>\n",
       "<style scoped>\n",
       "    .dataframe tbody tr th:only-of-type {\n",
       "        vertical-align: middle;\n",
       "    }\n",
       "\n",
       "    .dataframe tbody tr th {\n",
       "        vertical-align: top;\n",
       "    }\n",
       "\n",
       "    .dataframe thead th {\n",
       "        text-align: right;\n",
       "    }\n",
       "</style>\n",
       "<table border=\"1\" class=\"dataframe\">\n",
       "  <thead>\n",
       "    <tr style=\"text-align: right;\">\n",
       "      <th></th>\n",
       "      <th>labels</th>\n",
       "      <th>texts</th>\n",
       "    </tr>\n",
       "  </thead>\n",
       "  <tbody>\n",
       "    <tr>\n",
       "      <th>0</th>\n",
       "      <td>neutral</td>\n",
       "      <td>near grasscovered rampart encircles copenhagen...</td>\n",
       "    </tr>\n",
       "    <tr>\n",
       "      <th>1</th>\n",
       "      <td>neutral</td>\n",
       "      <td>balsams flowers greet us long rows windows hou...</td>\n",
       "    </tr>\n",
       "    <tr>\n",
       "      <th>2</th>\n",
       "      <td>neutral</td>\n",
       "      <td>building warton almshouse</td>\n",
       "    </tr>\n",
       "    <tr>\n",
       "      <th>3</th>\n",
       "      <td>neutral</td>\n",
       "      <td>look window leans old maid</td>\n",
       "    </tr>\n",
       "    <tr>\n",
       "      <th>4</th>\n",
       "      <td>sadness</td>\n",
       "      <td>plucks withered leaf balsam looks grasscovered...</td>\n",
       "    </tr>\n",
       "  </tbody>\n",
       "</table>\n",
       "</div>"
      ],
      "text/plain": [
       "    labels                                              texts\n",
       "0  neutral  near grasscovered rampart encircles copenhagen...\n",
       "1  neutral  balsams flowers greet us long rows windows hou...\n",
       "2  neutral                          building warton almshouse\n",
       "3  neutral                         look window leans old maid\n",
       "4  sadness  plucks withered leaf balsam looks grasscovered..."
      ]
     },
     "execution_count": 5,
     "metadata": {},
     "output_type": "execute_result"
    }
   ],
   "source": [
    "clean_df(fairy,'texts')\n",
    "fairy.head()"
   ]
  },
  {
   "cell_type": "code",
   "execution_count": 110,
   "metadata": {},
   "outputs": [
    {
     "data": {
      "text/plain": [
       "neutral     10139\n",
       "joy          1610\n",
       "surprise      832\n",
       "sadness       831\n",
       "anger         730\n",
       "fear          697\n",
       "disgust       463\n",
       "Name: labels, dtype: int64"
      ]
     },
     "execution_count": 110,
     "metadata": {},
     "output_type": "execute_result"
    }
   ],
   "source": [
    "pd.value_counts(fairy['labels'])"
   ]
  },
  {
   "cell_type": "code",
   "execution_count": 232,
   "metadata": {},
   "outputs": [
    {
     "data": {
      "text/html": [
       "<div>\n",
       "<style scoped>\n",
       "    .dataframe tbody tr th:only-of-type {\n",
       "        vertical-align: middle;\n",
       "    }\n",
       "\n",
       "    .dataframe tbody tr th {\n",
       "        vertical-align: top;\n",
       "    }\n",
       "\n",
       "    .dataframe thead th {\n",
       "        text-align: right;\n",
       "    }\n",
       "</style>\n",
       "<table border=\"1\" class=\"dataframe\">\n",
       "  <thead>\n",
       "    <tr style=\"text-align: right;\">\n",
       "      <th></th>\n",
       "      <th>labels</th>\n",
       "      <th>texts</th>\n",
       "    </tr>\n",
       "  </thead>\n",
       "  <tbody>\n",
       "    <tr>\n",
       "      <th>0</th>\n",
       "      <td>joy</td>\n",
       "      <td>days feel close partner friends feel peace als...</td>\n",
       "    </tr>\n",
       "    <tr>\n",
       "      <th>1</th>\n",
       "      <td>fear</td>\n",
       "      <td>every time imagine someone love could contact ...</td>\n",
       "    </tr>\n",
       "    <tr>\n",
       "      <th>2</th>\n",
       "      <td>anger</td>\n",
       "      <td>obviously unjustly treated possibility elucida...</td>\n",
       "    </tr>\n",
       "    <tr>\n",
       "      <th>3</th>\n",
       "      <td>sadness</td>\n",
       "      <td>think short time live relate periods life thin...</td>\n",
       "    </tr>\n",
       "    <tr>\n",
       "      <th>4</th>\n",
       "      <td>disgust</td>\n",
       "      <td>gathering found involuntarily sitting next two...</td>\n",
       "    </tr>\n",
       "  </tbody>\n",
       "</table>\n",
       "</div>"
      ],
      "text/plain": [
       "    labels                                              texts\n",
       "0      joy  days feel close partner friends feel peace als...\n",
       "1     fear  every time imagine someone love could contact ...\n",
       "2    anger  obviously unjustly treated possibility elucida...\n",
       "3  sadness  think short time live relate periods life thin...\n",
       "4  disgust  gathering found involuntarily sitting next two..."
      ]
     },
     "execution_count": 232,
     "metadata": {},
     "output_type": "execute_result"
    }
   ],
   "source": [
    "isear = pd.read_pickle(\"isear.pkl\")\n",
    "isear.head()"
   ]
  },
  {
   "cell_type": "code",
   "execution_count": 233,
   "metadata": {},
   "outputs": [
    {
     "data": {
      "text/plain": [
       "joy        1092\n",
       "sadness    1082\n",
       "anger      1079\n",
       "fear       1076\n",
       "shame      1071\n",
       "disgust    1066\n",
       "guilt      1050\n",
       "Name: labels, dtype: int64"
      ]
     },
     "execution_count": 233,
     "metadata": {},
     "output_type": "execute_result"
    }
   ],
   "source": [
    "pd.value_counts(isear['labels'])"
   ]
  },
  {
   "cell_type": "code",
   "execution_count": 245,
   "metadata": {},
   "outputs": [
    {
     "data": {
      "text/html": [
       "<div>\n",
       "<style scoped>\n",
       "    .dataframe tbody tr th:only-of-type {\n",
       "        vertical-align: middle;\n",
       "    }\n",
       "\n",
       "    .dataframe tbody tr th {\n",
       "        vertical-align: top;\n",
       "    }\n",
       "\n",
       "    .dataframe thead th {\n",
       "        text-align: right;\n",
       "    }\n",
       "</style>\n",
       "<table border=\"1\" class=\"dataframe\">\n",
       "  <thead>\n",
       "    <tr style=\"text-align: right;\">\n",
       "      <th></th>\n",
       "      <th>labels</th>\n",
       "      <th>texts</th>\n",
       "    </tr>\n",
       "  </thead>\n",
       "  <tbody>\n",
       "    <tr>\n",
       "      <th>0</th>\n",
       "      <td>neutral</td>\n",
       "      <td>near grasscovered rampart encircles copenhagen...</td>\n",
       "    </tr>\n",
       "    <tr>\n",
       "      <th>1</th>\n",
       "      <td>neutral</td>\n",
       "      <td>balsams flowers greet us long rows windows hou...</td>\n",
       "    </tr>\n",
       "    <tr>\n",
       "      <th>2</th>\n",
       "      <td>neutral</td>\n",
       "      <td>building warton almshouse</td>\n",
       "    </tr>\n",
       "    <tr>\n",
       "      <th>3</th>\n",
       "      <td>neutral</td>\n",
       "      <td>look window leans old maid</td>\n",
       "    </tr>\n",
       "    <tr>\n",
       "      <th>4</th>\n",
       "      <td>sadness</td>\n",
       "      <td>plucks withered leaf balsam looks grasscovered...</td>\n",
       "    </tr>\n",
       "  </tbody>\n",
       "</table>\n",
       "</div>"
      ],
      "text/plain": [
       "    labels                                              texts\n",
       "0  neutral  near grasscovered rampart encircles copenhagen...\n",
       "1  neutral  balsams flowers greet us long rows windows hou...\n",
       "2  neutral                          building warton almshouse\n",
       "3  neutral                         look window leans old maid\n",
       "4  sadness  plucks withered leaf balsam looks grasscovered..."
      ]
     },
     "execution_count": 245,
     "metadata": {},
     "output_type": "execute_result"
    }
   ],
   "source": [
    "df = fairy.append(isear)\n",
    "df.head()"
   ]
  },
  {
   "cell_type": "code",
   "execution_count": 246,
   "metadata": {},
   "outputs": [
    {
     "data": {
      "text/plain": [
       "neutral     10139\n",
       "joy          2702\n",
       "sadness      1913\n",
       "anger        1809\n",
       "fear         1773\n",
       "disgust      1529\n",
       "shame        1071\n",
       "guilt        1050\n",
       "surprise      832\n",
       "Name: labels, dtype: int64"
      ]
     },
     "execution_count": 246,
     "metadata": {},
     "output_type": "execute_result"
    }
   ],
   "source": [
    "df = df.reset_index(drop=True)\n",
    "pd.value_counts(df['labels'])"
   ]
  },
  {
   "cell_type": "code",
   "execution_count": 247,
   "metadata": {},
   "outputs": [],
   "source": [
    "subset1 = df[df['labels'] == 'neutral'].sample(frac=.8,replace=False)\n",
    "df = df.drop(subset1.index,axis=0)\n",
    "subset2 = df[df['labels'] == 'joy'].sample(frac=.2,replace=False)\n",
    "df = df.drop(subset2.index,axis=0)"
   ]
  },
  {
   "cell_type": "code",
   "execution_count": 248,
   "metadata": {},
   "outputs": [
    {
     "data": {
      "text/plain": [
       "joy         2162\n",
       "neutral     2028\n",
       "sadness     1913\n",
       "anger       1809\n",
       "fear        1773\n",
       "disgust     1529\n",
       "shame       1071\n",
       "guilt       1050\n",
       "surprise     832\n",
       "Name: labels, dtype: int64"
      ]
     },
     "execution_count": 248,
     "metadata": {},
     "output_type": "execute_result"
    }
   ],
   "source": [
    "pd.value_counts(df['labels'])"
   ]
  },
  {
   "cell_type": "code",
   "execution_count": 249,
   "metadata": {},
   "outputs": [],
   "source": [
    "df['labels'] = df['labels'].apply(lambda x: 'shame-guilt' if x == 'guilt' else x)\n",
    "df['labels'] = df['labels'].apply(lambda x: 'shame-guilt' if x == 'shame' else x)\n",
    "\n",
    "df['labels'] = df['labels'].apply(lambda x: 'fear' if x == 'surprise' else x)"
   ]
  },
  {
   "cell_type": "code",
   "execution_count": 250,
   "metadata": {},
   "outputs": [
    {
     "data": {
      "text/plain": [
       "fear           2605\n",
       "joy            2162\n",
       "shame-guilt    2121\n",
       "neutral        2028\n",
       "sadness        1913\n",
       "anger          1809\n",
       "disgust        1529\n",
       "Name: labels, dtype: int64"
      ]
     },
     "execution_count": 250,
     "metadata": {},
     "output_type": "execute_result"
    }
   ],
   "source": [
    "pd.value_counts(df['labels'])"
   ]
  },
  {
   "cell_type": "code",
   "execution_count": 251,
   "metadata": {},
   "outputs": [],
   "source": [
    "subset2 = df[df['labels'] == 'fear'].sample(frac=.2,replace=False)\n",
    "df = df.drop(subset2.index,axis=0)"
   ]
  },
  {
   "cell_type": "code",
   "execution_count": 252,
   "metadata": {},
   "outputs": [
    {
     "data": {
      "text/plain": [
       "joy            2162\n",
       "shame-guilt    2121\n",
       "fear           2084\n",
       "neutral        2028\n",
       "sadness        1913\n",
       "anger          1809\n",
       "disgust        1529\n",
       "Name: labels, dtype: int64"
      ]
     },
     "execution_count": 252,
     "metadata": {},
     "output_type": "execute_result"
    }
   ],
   "source": [
    "pd.value_counts(df['labels'])"
   ]
  },
  {
   "cell_type": "code",
   "execution_count": 253,
   "metadata": {},
   "outputs": [],
   "source": [
    "df.to_pickle(\"df.pkl\")"
   ]
  }
 ],
 "metadata": {
  "kernelspec": {
   "display_name": "Python 2",
   "language": "python",
   "name": "python2"
  },
  "language_info": {
   "codemirror_mode": {
    "name": "ipython",
    "version": 2
   },
   "file_extension": ".py",
   "mimetype": "text/x-python",
   "name": "python",
   "nbconvert_exporter": "python",
   "pygments_lexer": "ipython2",
   "version": "2.7.14"
  }
 },
 "nbformat": 4,
 "nbformat_minor": 2
}
