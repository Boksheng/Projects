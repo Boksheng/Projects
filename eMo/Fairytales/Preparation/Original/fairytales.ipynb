{
 "cells": [
  {
   "cell_type": "code",
   "execution_count": 2,
   "metadata": {},
   "outputs": [],
   "source": [
    "import pandas as pd\n",
    "import os\n",
    "import csv\n",
    "import re"
   ]
  },
  {
   "cell_type": "code",
   "execution_count": 3,
   "metadata": {},
   "outputs": [],
   "source": [
    "allfiles = os.listdir(\"/Users/bokshenggan/Desktop/TechJourney/TechProjects/NovelTech/1_Stories/Preparation/Original/fairytales\")\n",
    "files = [fname for fname in allfiles if fname.endswith('.txt')]"
   ]
  },
  {
   "cell_type": "code",
   "execution_count": 4,
   "metadata": {},
   "outputs": [],
   "source": [
    "df = pd.DataFrame()\n",
    "\n",
    "for i in files:\n",
    "    f = pd.read_csv('./fairytales/'+i,sep = '\\t',names = ['line','labels','an2','texts'],quoting=csv.QUOTE_NONE, encoding='utf-8')\n",
    "    df = df.append(f)"
   ]
  },
  {
   "cell_type": "code",
   "execution_count": 5,
   "metadata": {},
   "outputs": [],
   "source": [
    "df.head()\n",
    "df.drop('an2', axis=1, inplace=True)\n",
    "df.drop('line', axis=1, inplace=True)"
   ]
  },
  {
   "cell_type": "code",
   "execution_count": 6,
   "metadata": {},
   "outputs": [
    {
     "data": {
      "text/html": [
       "<div>\n",
       "<style scoped>\n",
       "    .dataframe tbody tr th:only-of-type {\n",
       "        vertical-align: middle;\n",
       "    }\n",
       "\n",
       "    .dataframe tbody tr th {\n",
       "        vertical-align: top;\n",
       "    }\n",
       "\n",
       "    .dataframe thead th {\n",
       "        text-align: right;\n",
       "    }\n",
       "</style>\n",
       "<table border=\"1\" class=\"dataframe\">\n",
       "  <thead>\n",
       "    <tr style=\"text-align: right;\">\n",
       "      <th></th>\n",
       "      <th>labels</th>\n",
       "      <th>texts</th>\n",
       "    </tr>\n",
       "  </thead>\n",
       "  <tbody>\n",
       "    <tr>\n",
       "      <th>0</th>\n",
       "      <td>N:N</td>\n",
       "      <td>NEAR the grass-covered rampart which encircles...</td>\n",
       "    </tr>\n",
       "    <tr>\n",
       "      <th>1</th>\n",
       "      <td>N:N</td>\n",
       "      <td>Balsams and other flowers greet us from the lo...</td>\n",
       "    </tr>\n",
       "    <tr>\n",
       "      <th>2</th>\n",
       "      <td>N:N</td>\n",
       "      <td>The building is the Warton Almshouse.</td>\n",
       "    </tr>\n",
       "    <tr>\n",
       "      <th>3</th>\n",
       "      <td>N:N</td>\n",
       "      <td>Look! at the window there leans an old maid.</td>\n",
       "    </tr>\n",
       "    <tr>\n",
       "      <th>4</th>\n",
       "      <td>Sa:N</td>\n",
       "      <td>She plucks the withered leaf from the balsam, ...</td>\n",
       "    </tr>\n",
       "  </tbody>\n",
       "</table>\n",
       "</div>"
      ],
      "text/plain": [
       "  labels                                              texts\n",
       "0    N:N  NEAR the grass-covered rampart which encircles...\n",
       "1    N:N  Balsams and other flowers greet us from the lo...\n",
       "2    N:N              The building is the Warton Almshouse.\n",
       "3    N:N       Look! at the window there leans an old maid.\n",
       "4   Sa:N  She plucks the withered leaf from the balsam, ..."
      ]
     },
     "execution_count": 6,
     "metadata": {},
     "output_type": "execute_result"
    }
   ],
   "source": [
    "df.head()"
   ]
  },
  {
   "cell_type": "code",
   "execution_count": 9,
   "metadata": {},
   "outputs": [],
   "source": [
    "df['labels'] = df['labels'].map(lambda x: x.split(':')[0])\n",
    "df['labels'] = df['labels'].map(lambda x: 'surprise' if x == 'Su-' else x)\n",
    "df['labels'] = df['labels'].map(lambda x: 'surprise' if x == 'Su+' else x)\n",
    "df['labels'] = df['labels'].map(lambda x: 'neutral' if x == 'N' else x)\n",
    "df['labels'] = df['labels'].map(lambda x: 'joy' if x == 'H' else x)\n",
    "df['labels'] = df['labels'].map(lambda x: 'anger' if x == 'A' else x)\n",
    "df['labels'] = df['labels'].map(lambda x: 'fear' if x == 'F' else x)\n",
    "df['labels'] = df['labels'].map(lambda x: 'disgust' if x == 'D' else x)\n",
    "df['labels'] = df['labels'].map(lambda x: 'sadness' if x == 'Sa' else x)"
   ]
  },
  {
   "cell_type": "code",
   "execution_count": 10,
   "metadata": {},
   "outputs": [
    {
     "data": {
      "text/plain": [
       "neutral     10139\n",
       "joy          1610\n",
       "surprise      832\n",
       "sadness       831\n",
       "anger         730\n",
       "fear          697\n",
       "disgust       463\n",
       "Name: labels, dtype: int64"
      ]
     },
     "execution_count": 10,
     "metadata": {},
     "output_type": "execute_result"
    }
   ],
   "source": [
    "pd.value_counts(df['labels'])"
   ]
  },
  {
   "cell_type": "code",
   "execution_count": 12,
   "metadata": {},
   "outputs": [
    {
     "data": {
      "text/html": [
       "<div>\n",
       "<style scoped>\n",
       "    .dataframe tbody tr th:only-of-type {\n",
       "        vertical-align: middle;\n",
       "    }\n",
       "\n",
       "    .dataframe tbody tr th {\n",
       "        vertical-align: top;\n",
       "    }\n",
       "\n",
       "    .dataframe thead th {\n",
       "        text-align: right;\n",
       "    }\n",
       "</style>\n",
       "<table border=\"1\" class=\"dataframe\">\n",
       "  <thead>\n",
       "    <tr style=\"text-align: right;\">\n",
       "      <th></th>\n",
       "      <th>labels</th>\n",
       "      <th>texts</th>\n",
       "    </tr>\n",
       "  </thead>\n",
       "  <tbody>\n",
       "  </tbody>\n",
       "</table>\n",
       "</div>"
      ],
      "text/plain": [
       "Empty DataFrame\n",
       "Columns: [labels, texts]\n",
       "Index: []"
      ]
     },
     "execution_count": 12,
     "metadata": {},
     "output_type": "execute_result"
    }
   ],
   "source": [
    "df[df['texts'].isnull()]"
   ]
  },
  {
   "cell_type": "code",
   "execution_count": 13,
   "metadata": {},
   "outputs": [],
   "source": [
    "df.to_pickle('fairy.pkl')"
   ]
  },
  {
   "cell_type": "code",
   "execution_count": null,
   "metadata": {},
   "outputs": [],
   "source": []
  }
 ],
 "metadata": {
  "kernelspec": {
   "display_name": "Python 2",
   "language": "python",
   "name": "python2"
  },
  "language_info": {
   "codemirror_mode": {
    "name": "ipython",
    "version": 2
   },
   "file_extension": ".py",
   "mimetype": "text/x-python",
   "name": "python",
   "nbconvert_exporter": "python",
   "pygments_lexer": "ipython2",
   "version": "2.7.14"
  }
 },
 "nbformat": 4,
 "nbformat_minor": 2
}
