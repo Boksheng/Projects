{
 "cells": [
  {
   "cell_type": "code",
   "execution_count": 52,
   "metadata": {},
   "outputs": [],
   "source": [
    "import pandas as pd\n",
    "import re\n",
    "import string"
   ]
  },
  {
   "cell_type": "code",
   "execution_count": 53,
   "metadata": {},
   "outputs": [],
   "source": [
    "jobs = pd.read_csv('./datasets/jobs.csv')"
   ]
  },
  {
   "cell_type": "code",
   "execution_count": 54,
   "metadata": {},
   "outputs": [
    {
     "data": {
      "text/html": [
       "<div>\n",
       "<style scoped>\n",
       "    .dataframe tbody tr th:only-of-type {\n",
       "        vertical-align: middle;\n",
       "    }\n",
       "\n",
       "    .dataframe tbody tr th {\n",
       "        vertical-align: top;\n",
       "    }\n",
       "\n",
       "    .dataframe thead th {\n",
       "        text-align: right;\n",
       "    }\n",
       "</style>\n",
       "<table border=\"1\" class=\"dataframe\">\n",
       "  <thead>\n",
       "    <tr style=\"text-align: right;\">\n",
       "      <th></th>\n",
       "      <th>Unnamed: 0</th>\n",
       "      <th>category</th>\n",
       "      <th>company</th>\n",
       "      <th>details</th>\n",
       "      <th>experience</th>\n",
       "      <th>industry</th>\n",
       "      <th>location</th>\n",
       "      <th>salary</th>\n",
       "      <th>title</th>\n",
       "    </tr>\n",
       "  </thead>\n",
       "  <tbody>\n",
       "    <tr>\n",
       "      <th>0</th>\n",
       "      <td>0</td>\n",
       "      <td>Information Technology</td>\n",
       "      <td>Eliassen Group</td>\n",
       "      <td>\\nOur client is dedicated to delivering best-i...</td>\n",
       "      <td>NaN</td>\n",
       "      <td>Other Great Industries</td>\n",
       "      <td>201 South Tryon StreetCharlotte, NC 28202</td>\n",
       "      <td>NaN</td>\n",
       "      <td>data scientist</td>\n",
       "    </tr>\n",
       "    <tr>\n",
       "      <th>1</th>\n",
       "      <td>1</td>\n",
       "      <td>Information Technology</td>\n",
       "      <td>Rang Technologies</td>\n",
       "      <td>\\nRoles and Responsibilities:\\nThe client is i...</td>\n",
       "      <td>NaN</td>\n",
       "      <td>Computer Software</td>\n",
       "      <td>Moline, IL</td>\n",
       "      <td>NaN</td>\n",
       "      <td>data scientist</td>\n",
       "    </tr>\n",
       "    <tr>\n",
       "      <th>2</th>\n",
       "      <td>2</td>\n",
       "      <td>Information Technology</td>\n",
       "      <td>Austin Fraser</td>\n",
       "      <td>\\nAustin Fraser is working alongside a fantast...</td>\n",
       "      <td>NaN</td>\n",
       "      <td>Computer Software</td>\n",
       "      <td>Austin, TX</td>\n",
       "      <td>$90,000.00 - $175,000.00 /Year</td>\n",
       "      <td>data scientist</td>\n",
       "    </tr>\n",
       "    <tr>\n",
       "      <th>3</th>\n",
       "      <td>3</td>\n",
       "      <td>Information Technology</td>\n",
       "      <td>FRG Technology Consulting</td>\n",
       "      <td>\\nData Scientist - Waltham, MA - $190K My clie...</td>\n",
       "      <td>NaN</td>\n",
       "      <td>Computer Software</td>\n",
       "      <td>Waltham, MA</td>\n",
       "      <td>$190,000.00 - $200,000.00 /Year</td>\n",
       "      <td>data scientist</td>\n",
       "    </tr>\n",
       "    <tr>\n",
       "      <th>4</th>\n",
       "      <td>4</td>\n",
       "      <td>Information Technology</td>\n",
       "      <td>Roc Search Inc</td>\n",
       "      <td>\\nData Scientist - Education - $130,000With mi...</td>\n",
       "      <td>5+ years</td>\n",
       "      <td>Computer Software</td>\n",
       "      <td>Austin, TX</td>\n",
       "      <td>$100,000.00 - $130,000.00 /Year</td>\n",
       "      <td>data scientist</td>\n",
       "    </tr>\n",
       "  </tbody>\n",
       "</table>\n",
       "</div>"
      ],
      "text/plain": [
       "   Unnamed: 0                category                    company  \\\n",
       "0           0  Information Technology             Eliassen Group   \n",
       "1           1  Information Technology          Rang Technologies   \n",
       "2           2  Information Technology              Austin Fraser   \n",
       "3           3  Information Technology  FRG Technology Consulting   \n",
       "4           4  Information Technology             Roc Search Inc   \n",
       "\n",
       "                                             details experience  \\\n",
       "0  \\nOur client is dedicated to delivering best-i...        NaN   \n",
       "1  \\nRoles and Responsibilities:\\nThe client is i...        NaN   \n",
       "2  \\nAustin Fraser is working alongside a fantast...        NaN   \n",
       "3  \\nData Scientist - Waltham, MA - $190K My clie...        NaN   \n",
       "4  \\nData Scientist - Education - $130,000With mi...   5+ years   \n",
       "\n",
       "                 industry                                   location  \\\n",
       "0  Other Great Industries  201 South Tryon StreetCharlotte, NC 28202   \n",
       "1       Computer Software                                 Moline, IL   \n",
       "2       Computer Software                                 Austin, TX   \n",
       "3       Computer Software                                Waltham, MA   \n",
       "4       Computer Software                                 Austin, TX   \n",
       "\n",
       "                            salary           title  \n",
       "0                              NaN  data scientist  \n",
       "1                              NaN  data scientist  \n",
       "2   $90,000.00 - $175,000.00 /Year  data scientist  \n",
       "3  $190,000.00 - $200,000.00 /Year  data scientist  \n",
       "4  $100,000.00 - $130,000.00 /Year  data scientist  "
      ]
     },
     "execution_count": 54,
     "metadata": {},
     "output_type": "execute_result"
    }
   ],
   "source": [
    "jobs.head()"
   ]
  },
  {
   "cell_type": "code",
   "execution_count": 55,
   "metadata": {},
   "outputs": [],
   "source": [
    "# Drop 1st column\n",
    "jobs.drop([jobs.columns[0]], axis=1, inplace=True)"
   ]
  },
  {
   "cell_type": "code",
   "execution_count": 56,
   "metadata": {},
   "outputs": [],
   "source": [
    "# Drop duplicates based on details\n",
    "jobs.drop_duplicates(['details'],inplace=True)"
   ]
  },
  {
   "cell_type": "code",
   "execution_count": 57,
   "metadata": {},
   "outputs": [
    {
     "data": {
      "text/plain": [
       "category        33\n",
       "company        172\n",
       "details          1\n",
       "experience    1069\n",
       "industry         1\n",
       "location         3\n",
       "salary        1545\n",
       "title            0\n",
       "dtype: int64"
      ]
     },
     "execution_count": 57,
     "metadata": {},
     "output_type": "execute_result"
    }
   ],
   "source": [
    "# Check for null values, \n",
    "jobs.isnull().sum()"
   ]
  },
  {
   "cell_type": "code",
   "execution_count": 58,
   "metadata": {},
   "outputs": [
    {
     "data": {
      "text/html": [
       "<div>\n",
       "<style scoped>\n",
       "    .dataframe tbody tr th:only-of-type {\n",
       "        vertical-align: middle;\n",
       "    }\n",
       "\n",
       "    .dataframe tbody tr th {\n",
       "        vertical-align: top;\n",
       "    }\n",
       "\n",
       "    .dataframe thead th {\n",
       "        text-align: right;\n",
       "    }\n",
       "</style>\n",
       "<table border=\"1\" class=\"dataframe\">\n",
       "  <thead>\n",
       "    <tr style=\"text-align: right;\">\n",
       "      <th></th>\n",
       "      <th>category</th>\n",
       "      <th>company</th>\n",
       "      <th>details</th>\n",
       "      <th>experience</th>\n",
       "      <th>industry</th>\n",
       "      <th>location</th>\n",
       "      <th>salary</th>\n",
       "      <th>title</th>\n",
       "    </tr>\n",
       "  </thead>\n",
       "  <tbody>\n",
       "    <tr>\n",
       "      <th>341</th>\n",
       "      <td>NaN</td>\n",
       "      <td>NaN</td>\n",
       "      <td>NaN</td>\n",
       "      <td>NaN</td>\n",
       "      <td>NaN</td>\n",
       "      <td>NaN</td>\n",
       "      <td>NaN</td>\n",
       "      <td>data engineer</td>\n",
       "    </tr>\n",
       "    <tr>\n",
       "      <th>2707</th>\n",
       "      <td>Information Technology, Management, Training</td>\n",
       "      <td>Federal-Mogul</td>\n",
       "      <td>\\nFederal-Mogul is now hiring an LMS Manager i...</td>\n",
       "      <td>2+ years</td>\n",
       "      <td>Computer Software, Training, Other Great Indus...</td>\n",
       "      <td>NaN</td>\n",
       "      <td>$80,000.00 /Year</td>\n",
       "      <td>data architect</td>\n",
       "    </tr>\n",
       "    <tr>\n",
       "      <th>3622</th>\n",
       "      <td>Manufacturing, Automotive, Other</td>\n",
       "      <td>Nemak</td>\n",
       "      <td>\\n\\n\\nNemak is a leading provider of innovativ...</td>\n",
       "      <td>4-5 years</td>\n",
       "      <td>Industrial, Other Great Industries, Electronics</td>\n",
       "      <td>NaN</td>\n",
       "      <td>NaN</td>\n",
       "      <td>stats programmer</td>\n",
       "    </tr>\n",
       "  </tbody>\n",
       "</table>\n",
       "</div>"
      ],
      "text/plain": [
       "                                          category        company  \\\n",
       "341                                            NaN            NaN   \n",
       "2707  Information Technology, Management, Training  Federal-Mogul   \n",
       "3622              Manufacturing, Automotive, Other          Nemak   \n",
       "\n",
       "                                                details experience  \\\n",
       "341                                                 NaN        NaN   \n",
       "2707  \\nFederal-Mogul is now hiring an LMS Manager i...   2+ years   \n",
       "3622  \\n\\n\\nNemak is a leading provider of innovativ...  4-5 years   \n",
       "\n",
       "                                               industry location  \\\n",
       "341                                                 NaN      NaN   \n",
       "2707  Computer Software, Training, Other Great Indus...      NaN   \n",
       "3622    Industrial, Other Great Industries, Electronics      NaN   \n",
       "\n",
       "                salary             title  \n",
       "341                NaN     data engineer  \n",
       "2707  $80,000.00 /Year    data architect  \n",
       "3622               NaN  stats programmer  "
      ]
     },
     "execution_count": 58,
     "metadata": {},
     "output_type": "execute_result"
    }
   ],
   "source": [
    "# Start with column location\n",
    "jobs[jobs['location'].isnull()]"
   ]
  },
  {
   "cell_type": "code",
   "execution_count": 59,
   "metadata": {},
   "outputs": [],
   "source": [
    "# Drop null values in location\n",
    "jobs.drop(jobs[jobs['location'].isnull()].index,inplace=True)"
   ]
  },
  {
   "cell_type": "code",
   "execution_count": 60,
   "metadata": {},
   "outputs": [
    {
     "data": {
      "text/plain": [
       "category        32\n",
       "company        171\n",
       "details          0\n",
       "experience    1068\n",
       "industry         0\n",
       "location         0\n",
       "salary        1543\n",
       "title            0\n",
       "dtype: int64"
      ]
     },
     "execution_count": 60,
     "metadata": {},
     "output_type": "execute_result"
    }
   ],
   "source": [
    "# Check for null values, \n",
    "jobs.isnull().sum()"
   ]
  },
  {
   "cell_type": "code",
   "execution_count": 61,
   "metadata": {},
   "outputs": [],
   "source": [
    "# Create state column and drop location column\n",
    "jobs['state'] = jobs['location'].str.extract(r'(\\b[A-Z]{2}\\b)', expand=False)"
   ]
  },
  {
   "cell_type": "code",
   "execution_count": 62,
   "metadata": {},
   "outputs": [
    {
     "data": {
      "text/plain": [
       "category        32\n",
       "company        171\n",
       "details          0\n",
       "experience    1068\n",
       "industry         0\n",
       "location         0\n",
       "salary        1543\n",
       "title            0\n",
       "state            1\n",
       "dtype: int64"
      ]
     },
     "execution_count": 62,
     "metadata": {},
     "output_type": "execute_result"
    }
   ],
   "source": [
    "jobs.isnull().sum()"
   ]
  },
  {
   "cell_type": "code",
   "execution_count": 63,
   "metadata": {},
   "outputs": [
    {
     "data": {
      "text/html": [
       "<div>\n",
       "<style scoped>\n",
       "    .dataframe tbody tr th:only-of-type {\n",
       "        vertical-align: middle;\n",
       "    }\n",
       "\n",
       "    .dataframe tbody tr th {\n",
       "        vertical-align: top;\n",
       "    }\n",
       "\n",
       "    .dataframe thead th {\n",
       "        text-align: right;\n",
       "    }\n",
       "</style>\n",
       "<table border=\"1\" class=\"dataframe\">\n",
       "  <thead>\n",
       "    <tr style=\"text-align: right;\">\n",
       "      <th></th>\n",
       "      <th>category</th>\n",
       "      <th>company</th>\n",
       "      <th>details</th>\n",
       "      <th>experience</th>\n",
       "      <th>industry</th>\n",
       "      <th>location</th>\n",
       "      <th>salary</th>\n",
       "      <th>title</th>\n",
       "      <th>state</th>\n",
       "    </tr>\n",
       "  </thead>\n",
       "  <tbody>\n",
       "    <tr>\n",
       "      <th>2518</th>\n",
       "      <td>Information Technology</td>\n",
       "      <td>Odyssey Information Services, Inc.</td>\n",
       "      <td>\\nDescription:\\n\\nThe position will be respons...</td>\n",
       "      <td>8+ years</td>\n",
       "      <td>Employment - Recruiting - Staffing</td>\n",
       "      <td>Fort Worth, Tx</td>\n",
       "      <td>$85,000.00 - $95,000.00 /Year</td>\n",
       "      <td>data architect</td>\n",
       "      <td>NaN</td>\n",
       "    </tr>\n",
       "  </tbody>\n",
       "</table>\n",
       "</div>"
      ],
      "text/plain": [
       "                    category                             company  \\\n",
       "2518  Information Technology  Odyssey Information Services, Inc.   \n",
       "\n",
       "                                                details experience  \\\n",
       "2518  \\nDescription:\\n\\nThe position will be respons...   8+ years   \n",
       "\n",
       "                                industry        location  \\\n",
       "2518  Employment - Recruiting - Staffing  Fort Worth, Tx   \n",
       "\n",
       "                             salary           title state  \n",
       "2518  $85,000.00 - $95,000.00 /Year  data architect   NaN  "
      ]
     },
     "execution_count": 63,
     "metadata": {},
     "output_type": "execute_result"
    }
   ],
   "source": [
    "jobs[jobs['state'].isnull()]"
   ]
  },
  {
   "cell_type": "code",
   "execution_count": 64,
   "metadata": {},
   "outputs": [],
   "source": [
    "# Clean state column and drop location column\n",
    "jobs.loc[jobs['state'].isnull(), 'state'] = 'TX'\n",
    "jobs.drop('location', axis=1, inplace=True)"
   ]
  },
  {
   "cell_type": "code",
   "execution_count": 65,
   "metadata": {},
   "outputs": [],
   "source": [
    "# Cleaning experience column.\n",
    "# Create experience_ column by taking the mean\n",
    "def experience_cleaner(experience):\n",
    "    try:\n",
    "        exp_yrs = re.findall(r'\\d+', experience)\n",
    "        return np.mean([float(i) for i in exp_yrs]) \n",
    "    except TypeError:\n",
    "        pass\n",
    "    return\n",
    "\n",
    "jobs['experience_'] = jobs['experience'].apply(lambda x: experience_cleaner(x))\n",
    "jobs.drop('experience', axis=1, inplace=True)"
   ]
  },
  {
   "cell_type": "code",
   "execution_count": 66,
   "metadata": {},
   "outputs": [],
   "source": [
    "# Cleaning the salary\n",
    "work_days = 251\n",
    "work_hours = 9\n",
    "\n",
    "# function returns mid point of a given salary range, else pass if no salary data available\n",
    "# if salary quoted per year, return mid point of range\n",
    "# if salary quoted per hour, return mid point of range * no. of work days in year * no. of work hours/day (annualising)\n",
    "def salary_cleaner(salary_range):\n",
    "    \n",
    "    try:\n",
    "        if 'Year' in salary_range:\n",
    "            sal = re.findall(r'[0-9.]+',salary_range.replace('$','').replace(',',''))\n",
    "            return np.mean([float(i) for i in sal])\n",
    "        \n",
    "        elif 'Hour' in salary_range:\n",
    "            sal = re.findall(r'[0-9.]+',salary_range.replace('$','').replace(',',''))\n",
    "            return np.mean([float(i) for i in sal]) * work_days * work_hours\n",
    "        \n",
    "    except TypeError:\n",
    "        pass\n",
    "    \n",
    "    return\n",
    "\n",
    "jobs['salary_'] = jobs['salary'].apply(lambda x: salary_cleaner(x))\n",
    "jobs.drop('salary', axis=1, inplace=True)"
   ]
  },
  {
   "cell_type": "code",
   "execution_count": 67,
   "metadata": {},
   "outputs": [
    {
     "data": {
      "text/html": [
       "<div>\n",
       "<style scoped>\n",
       "    .dataframe tbody tr th:only-of-type {\n",
       "        vertical-align: middle;\n",
       "    }\n",
       "\n",
       "    .dataframe tbody tr th {\n",
       "        vertical-align: top;\n",
       "    }\n",
       "\n",
       "    .dataframe thead th {\n",
       "        text-align: right;\n",
       "    }\n",
       "</style>\n",
       "<table border=\"1\" class=\"dataframe\">\n",
       "  <thead>\n",
       "    <tr style=\"text-align: right;\">\n",
       "      <th></th>\n",
       "      <th>category</th>\n",
       "      <th>company</th>\n",
       "      <th>details</th>\n",
       "      <th>industry</th>\n",
       "      <th>title</th>\n",
       "      <th>state</th>\n",
       "      <th>experience_</th>\n",
       "      <th>salary_</th>\n",
       "    </tr>\n",
       "  </thead>\n",
       "  <tbody>\n",
       "    <tr>\n",
       "      <th>0</th>\n",
       "      <td>Information Technology</td>\n",
       "      <td>Eliassen Group</td>\n",
       "      <td>\\nOur client is dedicated to delivering best-i...</td>\n",
       "      <td>Other Great Industries</td>\n",
       "      <td>data scientist</td>\n",
       "      <td>NC</td>\n",
       "      <td>NaN</td>\n",
       "      <td>NaN</td>\n",
       "    </tr>\n",
       "    <tr>\n",
       "      <th>1</th>\n",
       "      <td>Information Technology</td>\n",
       "      <td>Rang Technologies</td>\n",
       "      <td>\\nRoles and Responsibilities:\\nThe client is i...</td>\n",
       "      <td>Computer Software</td>\n",
       "      <td>data scientist</td>\n",
       "      <td>IL</td>\n",
       "      <td>NaN</td>\n",
       "      <td>NaN</td>\n",
       "    </tr>\n",
       "    <tr>\n",
       "      <th>2</th>\n",
       "      <td>Information Technology</td>\n",
       "      <td>Austin Fraser</td>\n",
       "      <td>\\nAustin Fraser is working alongside a fantast...</td>\n",
       "      <td>Computer Software</td>\n",
       "      <td>data scientist</td>\n",
       "      <td>TX</td>\n",
       "      <td>NaN</td>\n",
       "      <td>132500.0</td>\n",
       "    </tr>\n",
       "    <tr>\n",
       "      <th>3</th>\n",
       "      <td>Information Technology</td>\n",
       "      <td>FRG Technology Consulting</td>\n",
       "      <td>\\nData Scientist - Waltham, MA - $190K My clie...</td>\n",
       "      <td>Computer Software</td>\n",
       "      <td>data scientist</td>\n",
       "      <td>MA</td>\n",
       "      <td>NaN</td>\n",
       "      <td>195000.0</td>\n",
       "    </tr>\n",
       "    <tr>\n",
       "      <th>4</th>\n",
       "      <td>Information Technology</td>\n",
       "      <td>Roc Search Inc</td>\n",
       "      <td>\\nData Scientist - Education - $130,000With mi...</td>\n",
       "      <td>Computer Software</td>\n",
       "      <td>data scientist</td>\n",
       "      <td>TX</td>\n",
       "      <td>5.0</td>\n",
       "      <td>115000.0</td>\n",
       "    </tr>\n",
       "  </tbody>\n",
       "</table>\n",
       "</div>"
      ],
      "text/plain": [
       "                 category                    company  \\\n",
       "0  Information Technology             Eliassen Group   \n",
       "1  Information Technology          Rang Technologies   \n",
       "2  Information Technology              Austin Fraser   \n",
       "3  Information Technology  FRG Technology Consulting   \n",
       "4  Information Technology             Roc Search Inc   \n",
       "\n",
       "                                             details                industry  \\\n",
       "0  \\nOur client is dedicated to delivering best-i...  Other Great Industries   \n",
       "1  \\nRoles and Responsibilities:\\nThe client is i...       Computer Software   \n",
       "2  \\nAustin Fraser is working alongside a fantast...       Computer Software   \n",
       "3  \\nData Scientist - Waltham, MA - $190K My clie...       Computer Software   \n",
       "4  \\nData Scientist - Education - $130,000With mi...       Computer Software   \n",
       "\n",
       "            title state  experience_   salary_  \n",
       "0  data scientist    NC          NaN       NaN  \n",
       "1  data scientist    IL          NaN       NaN  \n",
       "2  data scientist    TX          NaN  132500.0  \n",
       "3  data scientist    MA          NaN  195000.0  \n",
       "4  data scientist    TX          5.0  115000.0  "
      ]
     },
     "execution_count": 67,
     "metadata": {},
     "output_type": "execute_result"
    }
   ],
   "source": [
    "jobs.head()"
   ]
  },
  {
   "cell_type": "code",
   "execution_count": 68,
   "metadata": {},
   "outputs": [],
   "source": [
    "# Filling NaN with 'None'\n",
    "jobs = jobs.fillna('None')"
   ]
  },
  {
   "cell_type": "code",
   "execution_count": 69,
   "metadata": {},
   "outputs": [
    {
     "data": {
      "text/plain": [
       "category       0\n",
       "company        0\n",
       "details        0\n",
       "industry       0\n",
       "title          0\n",
       "state          0\n",
       "experience_    0\n",
       "salary_        0\n",
       "dtype: int64"
      ]
     },
     "execution_count": 69,
     "metadata": {},
     "output_type": "execute_result"
    }
   ],
   "source": [
    "jobs.isnull().sum()"
   ]
  },
  {
   "cell_type": "code",
   "execution_count": 70,
   "metadata": {},
   "outputs": [],
   "source": [
    "jobs['category'] = jobs['industry'].astype(str) + \" \"+ jobs['category']\n",
    "jobs.drop('industry', axis=1, inplace=True)"
   ]
  },
  {
   "cell_type": "code",
   "execution_count": 71,
   "metadata": {},
   "outputs": [
    {
     "data": {
      "text/html": [
       "<div>\n",
       "<style scoped>\n",
       "    .dataframe tbody tr th:only-of-type {\n",
       "        vertical-align: middle;\n",
       "    }\n",
       "\n",
       "    .dataframe tbody tr th {\n",
       "        vertical-align: top;\n",
       "    }\n",
       "\n",
       "    .dataframe thead th {\n",
       "        text-align: right;\n",
       "    }\n",
       "</style>\n",
       "<table border=\"1\" class=\"dataframe\">\n",
       "  <thead>\n",
       "    <tr style=\"text-align: right;\">\n",
       "      <th></th>\n",
       "      <th>category</th>\n",
       "      <th>company</th>\n",
       "      <th>details</th>\n",
       "      <th>title</th>\n",
       "      <th>state</th>\n",
       "      <th>experience_</th>\n",
       "      <th>salary_</th>\n",
       "    </tr>\n",
       "  </thead>\n",
       "  <tbody>\n",
       "    <tr>\n",
       "      <th>0</th>\n",
       "      <td>Other Great Industries Information Technology</td>\n",
       "      <td>Eliassen Group</td>\n",
       "      <td>\\nOur client is dedicated to delivering best-i...</td>\n",
       "      <td>data scientist</td>\n",
       "      <td>NC</td>\n",
       "      <td>None</td>\n",
       "      <td>None</td>\n",
       "    </tr>\n",
       "    <tr>\n",
       "      <th>1</th>\n",
       "      <td>Computer Software Information Technology</td>\n",
       "      <td>Rang Technologies</td>\n",
       "      <td>\\nRoles and Responsibilities:\\nThe client is i...</td>\n",
       "      <td>data scientist</td>\n",
       "      <td>IL</td>\n",
       "      <td>None</td>\n",
       "      <td>None</td>\n",
       "    </tr>\n",
       "    <tr>\n",
       "      <th>2</th>\n",
       "      <td>Computer Software Information Technology</td>\n",
       "      <td>Austin Fraser</td>\n",
       "      <td>\\nAustin Fraser is working alongside a fantast...</td>\n",
       "      <td>data scientist</td>\n",
       "      <td>TX</td>\n",
       "      <td>None</td>\n",
       "      <td>132500</td>\n",
       "    </tr>\n",
       "    <tr>\n",
       "      <th>3</th>\n",
       "      <td>Computer Software Information Technology</td>\n",
       "      <td>FRG Technology Consulting</td>\n",
       "      <td>\\nData Scientist - Waltham, MA - $190K My clie...</td>\n",
       "      <td>data scientist</td>\n",
       "      <td>MA</td>\n",
       "      <td>None</td>\n",
       "      <td>195000</td>\n",
       "    </tr>\n",
       "    <tr>\n",
       "      <th>4</th>\n",
       "      <td>Computer Software Information Technology</td>\n",
       "      <td>Roc Search Inc</td>\n",
       "      <td>\\nData Scientist - Education - $130,000With mi...</td>\n",
       "      <td>data scientist</td>\n",
       "      <td>TX</td>\n",
       "      <td>5</td>\n",
       "      <td>115000</td>\n",
       "    </tr>\n",
       "  </tbody>\n",
       "</table>\n",
       "</div>"
      ],
      "text/plain": [
       "                                        category                    company  \\\n",
       "0  Other Great Industries Information Technology             Eliassen Group   \n",
       "1       Computer Software Information Technology          Rang Technologies   \n",
       "2       Computer Software Information Technology              Austin Fraser   \n",
       "3       Computer Software Information Technology  FRG Technology Consulting   \n",
       "4       Computer Software Information Technology             Roc Search Inc   \n",
       "\n",
       "                                             details           title state  \\\n",
       "0  \\nOur client is dedicated to delivering best-i...  data scientist    NC   \n",
       "1  \\nRoles and Responsibilities:\\nThe client is i...  data scientist    IL   \n",
       "2  \\nAustin Fraser is working alongside a fantast...  data scientist    TX   \n",
       "3  \\nData Scientist - Waltham, MA - $190K My clie...  data scientist    MA   \n",
       "4  \\nData Scientist - Education - $130,000With mi...  data scientist    TX   \n",
       "\n",
       "  experience_ salary_  \n",
       "0        None    None  \n",
       "1        None    None  \n",
       "2        None  132500  \n",
       "3        None  195000  \n",
       "4           5  115000  "
      ]
     },
     "execution_count": 71,
     "metadata": {},
     "output_type": "execute_result"
    }
   ],
   "source": [
    "jobs.head()"
   ]
  },
  {
   "cell_type": "code",
   "execution_count": 74,
   "metadata": {},
   "outputs": [],
   "source": [
    "def clean(df,col_name):\n",
    "    df[col_name] = df[col_name].apply(lambda x: x.replace('\\n',' '))\n",
    "    df[col_name] = df[col_name].apply(lambda x: x.lower().strip())\n",
    "    df[col_name] = df[col_name].apply(lambda x:''.join([i for i in x if i not in string.punctuation]))"
   ]
  },
  {
   "cell_type": "code",
   "execution_count": 75,
   "metadata": {},
   "outputs": [],
   "source": [
    "for i in ['category','details','company']:\n",
    "    clean(jobs,i)"
   ]
  },
  {
   "cell_type": "code",
   "execution_count": 76,
   "metadata": {},
   "outputs": [],
   "source": [
    "jobs['details'] = jobs['category'].astype(str) + \" \"+ jobs['details']\n",
    "jobs.drop('category', axis=1, inplace=True)"
   ]
  },
  {
   "cell_type": "code",
   "execution_count": 77,
   "metadata": {},
   "outputs": [
    {
     "data": {
      "text/html": [
       "<div>\n",
       "<style scoped>\n",
       "    .dataframe tbody tr th:only-of-type {\n",
       "        vertical-align: middle;\n",
       "    }\n",
       "\n",
       "    .dataframe tbody tr th {\n",
       "        vertical-align: top;\n",
       "    }\n",
       "\n",
       "    .dataframe thead th {\n",
       "        text-align: right;\n",
       "    }\n",
       "</style>\n",
       "<table border=\"1\" class=\"dataframe\">\n",
       "  <thead>\n",
       "    <tr style=\"text-align: right;\">\n",
       "      <th></th>\n",
       "      <th>company</th>\n",
       "      <th>details</th>\n",
       "      <th>title</th>\n",
       "      <th>state</th>\n",
       "      <th>experience_</th>\n",
       "      <th>salary_</th>\n",
       "    </tr>\n",
       "  </thead>\n",
       "  <tbody>\n",
       "    <tr>\n",
       "      <th>0</th>\n",
       "      <td>eliassen group</td>\n",
       "      <td>other great industries information technology ...</td>\n",
       "      <td>data scientist</td>\n",
       "      <td>NC</td>\n",
       "      <td>None</td>\n",
       "      <td>None</td>\n",
       "    </tr>\n",
       "    <tr>\n",
       "      <th>1</th>\n",
       "      <td>rang technologies</td>\n",
       "      <td>computer software information technology roles...</td>\n",
       "      <td>data scientist</td>\n",
       "      <td>IL</td>\n",
       "      <td>None</td>\n",
       "      <td>None</td>\n",
       "    </tr>\n",
       "    <tr>\n",
       "      <th>2</th>\n",
       "      <td>austin fraser</td>\n",
       "      <td>computer software information technology austi...</td>\n",
       "      <td>data scientist</td>\n",
       "      <td>TX</td>\n",
       "      <td>None</td>\n",
       "      <td>132500</td>\n",
       "    </tr>\n",
       "    <tr>\n",
       "      <th>3</th>\n",
       "      <td>frg technology consulting</td>\n",
       "      <td>computer software information technology data ...</td>\n",
       "      <td>data scientist</td>\n",
       "      <td>MA</td>\n",
       "      <td>None</td>\n",
       "      <td>195000</td>\n",
       "    </tr>\n",
       "    <tr>\n",
       "      <th>4</th>\n",
       "      <td>roc search inc</td>\n",
       "      <td>computer software information technology data ...</td>\n",
       "      <td>data scientist</td>\n",
       "      <td>TX</td>\n",
       "      <td>5</td>\n",
       "      <td>115000</td>\n",
       "    </tr>\n",
       "  </tbody>\n",
       "</table>\n",
       "</div>"
      ],
      "text/plain": [
       "                     company  \\\n",
       "0             eliassen group   \n",
       "1          rang technologies   \n",
       "2              austin fraser   \n",
       "3  frg technology consulting   \n",
       "4             roc search inc   \n",
       "\n",
       "                                             details           title state  \\\n",
       "0  other great industries information technology ...  data scientist    NC   \n",
       "1  computer software information technology roles...  data scientist    IL   \n",
       "2  computer software information technology austi...  data scientist    TX   \n",
       "3  computer software information technology data ...  data scientist    MA   \n",
       "4  computer software information technology data ...  data scientist    TX   \n",
       "\n",
       "  experience_ salary_  \n",
       "0        None    None  \n",
       "1        None    None  \n",
       "2        None  132500  \n",
       "3        None  195000  \n",
       "4           5  115000  "
      ]
     },
     "execution_count": 77,
     "metadata": {},
     "output_type": "execute_result"
    }
   ],
   "source": [
    "jobs.head()"
   ]
  },
  {
   "cell_type": "code",
   "execution_count": 79,
   "metadata": {},
   "outputs": [],
   "source": [
    "jobs.to_csv('jobs_clean.csv',encoding='utf-8')"
   ]
  }
 ],
 "metadata": {
  "kernelspec": {
   "display_name": "Python 2",
   "language": "python",
   "name": "python2"
  },
  "language_info": {
   "codemirror_mode": {
    "name": "ipython",
    "version": 2
   },
   "file_extension": ".py",
   "mimetype": "text/x-python",
   "name": "python",
   "nbconvert_exporter": "python",
   "pygments_lexer": "ipython2",
   "version": "2.7.14"
  }
 },
 "nbformat": 4,
 "nbformat_minor": 2
}
