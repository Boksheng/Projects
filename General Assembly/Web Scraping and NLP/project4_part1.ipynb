{
 "cells": [
  {
   "cell_type": "code",
   "execution_count": 28,
   "metadata": {},
   "outputs": [],
   "source": [
    "import pandas as pd\n",
    "import re\n",
    "import numpy as np\n",
    "from sklearn.model_selection import train_test_split\n",
    "from nltk.corpus import stopwords\n",
    "from sklearn_pandas import DataFrameMapper\n",
    "import sklearn.preprocessing\n",
    "from sklearn.feature_extraction.text import CountVectorizer, TfidfVectorizer\n",
    "from sklearn.ensemble import AdaBoostRegressor\n",
    "from sklearn.linear_model import LinearRegression\n",
    "from sklearn import metrics\n",
    "import string"
   ]
  },
  {
   "cell_type": "code",
   "execution_count": 29,
   "metadata": {},
   "outputs": [],
   "source": [
    "jobs = pd.read_csv('./datasets/jobsclean.csv')\n",
    "jobs.drop([jobs.columns[0]], axis=1, inplace=True)"
   ]
  },
  {
   "cell_type": "code",
   "execution_count": 30,
   "metadata": {},
   "outputs": [
    {
     "data": {
      "text/html": [
       "<div>\n",
       "<style scoped>\n",
       "    .dataframe tbody tr th:only-of-type {\n",
       "        vertical-align: middle;\n",
       "    }\n",
       "\n",
       "    .dataframe tbody tr th {\n",
       "        vertical-align: top;\n",
       "    }\n",
       "\n",
       "    .dataframe thead th {\n",
       "        text-align: right;\n",
       "    }\n",
       "</style>\n",
       "<table border=\"1\" class=\"dataframe\">\n",
       "  <thead>\n",
       "    <tr style=\"text-align: right;\">\n",
       "      <th></th>\n",
       "      <th>company</th>\n",
       "      <th>details</th>\n",
       "      <th>title</th>\n",
       "      <th>state</th>\n",
       "      <th>experience_</th>\n",
       "      <th>salary_</th>\n",
       "    </tr>\n",
       "  </thead>\n",
       "  <tbody>\n",
       "    <tr>\n",
       "      <th>0</th>\n",
       "      <td>eliassen group</td>\n",
       "      <td>other great industries information technology ...</td>\n",
       "      <td>data scientist</td>\n",
       "      <td>NC</td>\n",
       "      <td>NaN</td>\n",
       "      <td>NaN</td>\n",
       "    </tr>\n",
       "    <tr>\n",
       "      <th>1</th>\n",
       "      <td>rang technologies</td>\n",
       "      <td>computer software information technology roles...</td>\n",
       "      <td>data scientist</td>\n",
       "      <td>IL</td>\n",
       "      <td>NaN</td>\n",
       "      <td>NaN</td>\n",
       "    </tr>\n",
       "    <tr>\n",
       "      <th>2</th>\n",
       "      <td>austin fraser</td>\n",
       "      <td>computer software information technology austi...</td>\n",
       "      <td>data scientist</td>\n",
       "      <td>TX</td>\n",
       "      <td>NaN</td>\n",
       "      <td>132500.0</td>\n",
       "    </tr>\n",
       "    <tr>\n",
       "      <th>3</th>\n",
       "      <td>frg technology consulting</td>\n",
       "      <td>computer software information technology data ...</td>\n",
       "      <td>data scientist</td>\n",
       "      <td>MA</td>\n",
       "      <td>NaN</td>\n",
       "      <td>195000.0</td>\n",
       "    </tr>\n",
       "    <tr>\n",
       "      <th>4</th>\n",
       "      <td>roc search inc</td>\n",
       "      <td>computer software information technology data ...</td>\n",
       "      <td>data scientist</td>\n",
       "      <td>TX</td>\n",
       "      <td>5.0</td>\n",
       "      <td>115000.0</td>\n",
       "    </tr>\n",
       "  </tbody>\n",
       "</table>\n",
       "</div>"
      ],
      "text/plain": [
       "                     company  \\\n",
       "0             eliassen group   \n",
       "1          rang technologies   \n",
       "2              austin fraser   \n",
       "3  frg technology consulting   \n",
       "4             roc search inc   \n",
       "\n",
       "                                             details           title state  \\\n",
       "0  other great industries information technology ...  data scientist    NC   \n",
       "1  computer software information technology roles...  data scientist    IL   \n",
       "2  computer software information technology austi...  data scientist    TX   \n",
       "3  computer software information technology data ...  data scientist    MA   \n",
       "4  computer software information technology data ...  data scientist    TX   \n",
       "\n",
       "   experience_   salary_  \n",
       "0          NaN       NaN  \n",
       "1          NaN       NaN  \n",
       "2          NaN  132500.0  \n",
       "3          NaN  195000.0  \n",
       "4          5.0  115000.0  "
      ]
     },
     "execution_count": 30,
     "metadata": {},
     "output_type": "execute_result"
    }
   ],
   "source": [
    "jobs.head()"
   ]
  },
  {
   "cell_type": "code",
   "execution_count": 31,
   "metadata": {},
   "outputs": [],
   "source": [
    "jobs.drop(jobs[jobs['salary_'].isnull()].index,inplace=True)\n",
    "jobs['salary_']= jobs['salary_'].astype(float)"
   ]
  },
  {
   "cell_type": "code",
   "execution_count": 32,
   "metadata": {},
   "outputs": [
    {
     "data": {
      "text/plain": [
       "company        493\n",
       "details        493\n",
       "title          493\n",
       "state          493\n",
       "experience_      0\n",
       "salary_        493\n",
       "dtype: int64"
      ]
     },
     "execution_count": 32,
     "metadata": {},
     "output_type": "execute_result"
    }
   ],
   "source": [
    "jobs[jobs['experience_'].isnull()].count()"
   ]
  },
  {
   "cell_type": "code",
   "execution_count": 33,
   "metadata": {},
   "outputs": [],
   "source": [
    "jobs.loc[jobs['experience_'].isnull(), 'experience_'] = jobs.experience_.median()"
   ]
  },
  {
   "cell_type": "code",
   "execution_count": 34,
   "metadata": {},
   "outputs": [
    {
     "data": {
      "text/html": [
       "<div>\n",
       "<style scoped>\n",
       "    .dataframe tbody tr th:only-of-type {\n",
       "        vertical-align: middle;\n",
       "    }\n",
       "\n",
       "    .dataframe tbody tr th {\n",
       "        vertical-align: top;\n",
       "    }\n",
       "\n",
       "    .dataframe thead th {\n",
       "        text-align: right;\n",
       "    }\n",
       "</style>\n",
       "<table border=\"1\" class=\"dataframe\">\n",
       "  <thead>\n",
       "    <tr style=\"text-align: right;\">\n",
       "      <th></th>\n",
       "      <th>company</th>\n",
       "      <th>details</th>\n",
       "      <th>title</th>\n",
       "      <th>state</th>\n",
       "      <th>experience_</th>\n",
       "      <th>salary_</th>\n",
       "    </tr>\n",
       "  </thead>\n",
       "  <tbody>\n",
       "    <tr>\n",
       "      <th>2</th>\n",
       "      <td>austin fraser</td>\n",
       "      <td>computer software information technology austi...</td>\n",
       "      <td>data scientist</td>\n",
       "      <td>TX</td>\n",
       "      <td>5.0</td>\n",
       "      <td>132500.0</td>\n",
       "    </tr>\n",
       "    <tr>\n",
       "      <th>3</th>\n",
       "      <td>frg technology consulting</td>\n",
       "      <td>computer software information technology data ...</td>\n",
       "      <td>data scientist</td>\n",
       "      <td>MA</td>\n",
       "      <td>5.0</td>\n",
       "      <td>195000.0</td>\n",
       "    </tr>\n",
       "    <tr>\n",
       "      <th>4</th>\n",
       "      <td>roc search inc</td>\n",
       "      <td>computer software information technology data ...</td>\n",
       "      <td>data scientist</td>\n",
       "      <td>TX</td>\n",
       "      <td>5.0</td>\n",
       "      <td>115000.0</td>\n",
       "    </tr>\n",
       "    <tr>\n",
       "      <th>5</th>\n",
       "      <td>synergy business consulting inc</td>\n",
       "      <td>travel information technology data scientist p...</td>\n",
       "      <td>data scientist</td>\n",
       "      <td>FL</td>\n",
       "      <td>2.0</td>\n",
       "      <td>100000.0</td>\n",
       "    </tr>\n",
       "    <tr>\n",
       "      <th>6</th>\n",
       "      <td>catapult staffing</td>\n",
       "      <td>energy  utilities  gas  electric information t...</td>\n",
       "      <td>data scientist</td>\n",
       "      <td>CA</td>\n",
       "      <td>5.0</td>\n",
       "      <td>152482.5</td>\n",
       "    </tr>\n",
       "  </tbody>\n",
       "</table>\n",
       "</div>"
      ],
      "text/plain": [
       "                           company  \\\n",
       "2                    austin fraser   \n",
       "3        frg technology consulting   \n",
       "4                   roc search inc   \n",
       "5  synergy business consulting inc   \n",
       "6                catapult staffing   \n",
       "\n",
       "                                             details           title state  \\\n",
       "2  computer software information technology austi...  data scientist    TX   \n",
       "3  computer software information technology data ...  data scientist    MA   \n",
       "4  computer software information technology data ...  data scientist    TX   \n",
       "5  travel information technology data scientist p...  data scientist    FL   \n",
       "6  energy  utilities  gas  electric information t...  data scientist    CA   \n",
       "\n",
       "   experience_   salary_  \n",
       "2          5.0  132500.0  \n",
       "3          5.0  195000.0  \n",
       "4          5.0  115000.0  \n",
       "5          2.0  100000.0  \n",
       "6          5.0  152482.5  "
      ]
     },
     "execution_count": 34,
     "metadata": {},
     "output_type": "execute_result"
    }
   ],
   "source": [
    "jobs.head()"
   ]
  },
  {
   "cell_type": "code",
   "execution_count": 35,
   "metadata": {},
   "outputs": [
    {
     "data": {
      "text/plain": [
       "(1251, 6)"
      ]
     },
     "execution_count": 35,
     "metadata": {},
     "output_type": "execute_result"
    }
   ],
   "source": [
    "jobs.shape"
   ]
  },
  {
   "cell_type": "code",
   "execution_count": 36,
   "metadata": {},
   "outputs": [],
   "source": [
    "dummy = pd.get_dummies(jobs['state'], drop_first=True, prefix = 'state')\n",
    "jobs.drop(['state'],axis = 1,inplace=True)\n",
    "jobs = pd.concat([jobs, dummy],axis=1)"
   ]
  },
  {
   "cell_type": "code",
   "execution_count": 37,
   "metadata": {},
   "outputs": [],
   "source": [
    "dummy = pd.get_dummies(jobs['company'], drop_first=True, prefix='coy')\n",
    "jobs.drop('company',axis=1,inplace=True)\n",
    "jobs = pd.concat([jobs, dummy],axis=1)"
   ]
  },
  {
   "cell_type": "code",
   "execution_count": 38,
   "metadata": {},
   "outputs": [],
   "source": [
    "dummy = pd.get_dummies(jobs['title'], drop_first=True, prefix='titl')\n",
    "jobs.drop('title',axis=1,inplace=True)\n",
    "jobs = pd.concat([jobs, dummy],axis=1)"
   ]
  },
  {
   "cell_type": "code",
   "execution_count": 39,
   "metadata": {},
   "outputs": [],
   "source": [
    "# To pick out columns with missing values and their numbers\n",
    "\n",
    "for i,e in enumerate(jobs.columns):\n",
    "    if jobs[e].isnull().sum() >0:\n",
    "        print ((jobs.columns[i]),(jobs[e].isnull().sum()))"
   ]
  },
  {
   "cell_type": "code",
   "execution_count": 40,
   "metadata": {},
   "outputs": [],
   "source": [
    "stop = stopwords.words('english')\n",
    "jobs['details'] = jobs['details'].apply(lambda x: \" \".join(x for x in x.split() if x not in stop))"
   ]
  },
  {
   "cell_type": "code",
   "execution_count": 41,
   "metadata": {},
   "outputs": [],
   "source": [
    "vectorizer = TfidfVectorizer(ngram_range=(1, 3),min_df=5)\n",
    "X=vectorizer.fit_transform(list(jobs['details']))\n",
    "counts=pd.DataFrame(X.toarray(),columns=vectorizer.get_feature_names())\n",
    "jobs.drop('details',axis=1,inplace=True)"
   ]
  },
  {
   "cell_type": "code",
   "execution_count": 42,
   "metadata": {},
   "outputs": [
    {
     "data": {
      "text/plain": [
       "(1251, 14580)"
      ]
     },
     "execution_count": 42,
     "metadata": {},
     "output_type": "execute_result"
    }
   ],
   "source": [
    "counts.shape"
   ]
  },
  {
   "cell_type": "code",
   "execution_count": 43,
   "metadata": {},
   "outputs": [
    {
     "data": {
      "text/html": [
       "<div>\n",
       "<style scoped>\n",
       "    .dataframe tbody tr th:only-of-type {\n",
       "        vertical-align: middle;\n",
       "    }\n",
       "\n",
       "    .dataframe tbody tr th {\n",
       "        vertical-align: top;\n",
       "    }\n",
       "\n",
       "    .dataframe thead th {\n",
       "        text-align: right;\n",
       "    }\n",
       "</style>\n",
       "<table border=\"1\" class=\"dataframe\">\n",
       "  <thead>\n",
       "    <tr style=\"text-align: right;\">\n",
       "      <th></th>\n",
       "      <th>data</th>\n",
       "      <th>econometrics</th>\n",
       "      <th>statistics</th>\n",
       "      <th>austin</th>\n",
       "      <th>austin fraser</th>\n",
       "      <th>fraser</th>\n",
       "      <th>operations research</th>\n",
       "      <th>language processing</th>\n",
       "      <th>natural language processing</th>\n",
       "      <th>mathematical</th>\n",
       "      <th>...</th>\n",
       "      <th>experience ability</th>\n",
       "      <th>experience accounting</th>\n",
       "      <th>experience active</th>\n",
       "      <th>experience advanced</th>\n",
       "      <th>experience agile</th>\n",
       "      <th>experience agile development</th>\n",
       "      <th>experience amazon</th>\n",
       "      <th>experience amazon web</th>\n",
       "      <th>experience analyzing</th>\n",
       "      <th>zookeeper plus proven</th>\n",
       "    </tr>\n",
       "  </thead>\n",
       "  <tbody>\n",
       "    <tr>\n",
       "      <th>0</th>\n",
       "      <td>0.262578</td>\n",
       "      <td>0.205829</td>\n",
       "      <td>0.172667</td>\n",
       "      <td>0.16221</td>\n",
       "      <td>0.13722</td>\n",
       "      <td>0.13722</td>\n",
       "      <td>0.118883</td>\n",
       "      <td>0.114682</td>\n",
       "      <td>0.114682</td>\n",
       "      <td>0.113445</td>\n",
       "      <td>...</td>\n",
       "      <td>0.0</td>\n",
       "      <td>0.0</td>\n",
       "      <td>0.0</td>\n",
       "      <td>0.0</td>\n",
       "      <td>0.000000</td>\n",
       "      <td>0.0</td>\n",
       "      <td>0.0</td>\n",
       "      <td>0.0</td>\n",
       "      <td>0.0</td>\n",
       "      <td>0.0</td>\n",
       "    </tr>\n",
       "    <tr>\n",
       "      <th>1</th>\n",
       "      <td>0.238871</td>\n",
       "      <td>0.000000</td>\n",
       "      <td>0.000000</td>\n",
       "      <td>0.00000</td>\n",
       "      <td>0.00000</td>\n",
       "      <td>0.00000</td>\n",
       "      <td>0.000000</td>\n",
       "      <td>0.000000</td>\n",
       "      <td>0.000000</td>\n",
       "      <td>0.000000</td>\n",
       "      <td>...</td>\n",
       "      <td>0.0</td>\n",
       "      <td>0.0</td>\n",
       "      <td>0.0</td>\n",
       "      <td>0.0</td>\n",
       "      <td>0.000000</td>\n",
       "      <td>0.0</td>\n",
       "      <td>0.0</td>\n",
       "      <td>0.0</td>\n",
       "      <td>0.0</td>\n",
       "      <td>0.0</td>\n",
       "    </tr>\n",
       "    <tr>\n",
       "      <th>2</th>\n",
       "      <td>0.179480</td>\n",
       "      <td>0.000000</td>\n",
       "      <td>0.055323</td>\n",
       "      <td>0.00000</td>\n",
       "      <td>0.00000</td>\n",
       "      <td>0.00000</td>\n",
       "      <td>0.000000</td>\n",
       "      <td>0.000000</td>\n",
       "      <td>0.000000</td>\n",
       "      <td>0.000000</td>\n",
       "      <td>...</td>\n",
       "      <td>0.0</td>\n",
       "      <td>0.0</td>\n",
       "      <td>0.0</td>\n",
       "      <td>0.0</td>\n",
       "      <td>0.000000</td>\n",
       "      <td>0.0</td>\n",
       "      <td>0.0</td>\n",
       "      <td>0.0</td>\n",
       "      <td>0.0</td>\n",
       "      <td>0.0</td>\n",
       "    </tr>\n",
       "    <tr>\n",
       "      <th>3</th>\n",
       "      <td>0.235082</td>\n",
       "      <td>0.000000</td>\n",
       "      <td>0.057970</td>\n",
       "      <td>0.00000</td>\n",
       "      <td>0.00000</td>\n",
       "      <td>0.00000</td>\n",
       "      <td>0.039913</td>\n",
       "      <td>0.038502</td>\n",
       "      <td>0.038502</td>\n",
       "      <td>0.076174</td>\n",
       "      <td>...</td>\n",
       "      <td>0.0</td>\n",
       "      <td>0.0</td>\n",
       "      <td>0.0</td>\n",
       "      <td>0.0</td>\n",
       "      <td>0.035141</td>\n",
       "      <td>0.0</td>\n",
       "      <td>0.0</td>\n",
       "      <td>0.0</td>\n",
       "      <td>0.0</td>\n",
       "      <td>0.0</td>\n",
       "    </tr>\n",
       "    <tr>\n",
       "      <th>4</th>\n",
       "      <td>0.092274</td>\n",
       "      <td>0.000000</td>\n",
       "      <td>0.075848</td>\n",
       "      <td>0.00000</td>\n",
       "      <td>0.00000</td>\n",
       "      <td>0.00000</td>\n",
       "      <td>0.000000</td>\n",
       "      <td>0.000000</td>\n",
       "      <td>0.000000</td>\n",
       "      <td>0.000000</td>\n",
       "      <td>...</td>\n",
       "      <td>0.0</td>\n",
       "      <td>0.0</td>\n",
       "      <td>0.0</td>\n",
       "      <td>0.0</td>\n",
       "      <td>0.000000</td>\n",
       "      <td>0.0</td>\n",
       "      <td>0.0</td>\n",
       "      <td>0.0</td>\n",
       "      <td>0.0</td>\n",
       "      <td>0.0</td>\n",
       "    </tr>\n",
       "    <tr>\n",
       "      <th>5</th>\n",
       "      <td>0.124961</td>\n",
       "      <td>0.000000</td>\n",
       "      <td>0.000000</td>\n",
       "      <td>0.00000</td>\n",
       "      <td>0.00000</td>\n",
       "      <td>0.00000</td>\n",
       "      <td>0.000000</td>\n",
       "      <td>0.000000</td>\n",
       "      <td>0.000000</td>\n",
       "      <td>0.000000</td>\n",
       "      <td>...</td>\n",
       "      <td>0.0</td>\n",
       "      <td>0.0</td>\n",
       "      <td>0.0</td>\n",
       "      <td>0.0</td>\n",
       "      <td>0.000000</td>\n",
       "      <td>0.0</td>\n",
       "      <td>0.0</td>\n",
       "      <td>0.0</td>\n",
       "      <td>0.0</td>\n",
       "      <td>0.0</td>\n",
       "    </tr>\n",
       "    <tr>\n",
       "      <th>6</th>\n",
       "      <td>0.244360</td>\n",
       "      <td>0.000000</td>\n",
       "      <td>0.000000</td>\n",
       "      <td>0.00000</td>\n",
       "      <td>0.00000</td>\n",
       "      <td>0.00000</td>\n",
       "      <td>0.000000</td>\n",
       "      <td>0.000000</td>\n",
       "      <td>0.000000</td>\n",
       "      <td>0.000000</td>\n",
       "      <td>...</td>\n",
       "      <td>0.0</td>\n",
       "      <td>0.0</td>\n",
       "      <td>0.0</td>\n",
       "      <td>0.0</td>\n",
       "      <td>0.000000</td>\n",
       "      <td>0.0</td>\n",
       "      <td>0.0</td>\n",
       "      <td>0.0</td>\n",
       "      <td>0.0</td>\n",
       "      <td>0.0</td>\n",
       "    </tr>\n",
       "    <tr>\n",
       "      <th>7</th>\n",
       "      <td>0.141453</td>\n",
       "      <td>0.000000</td>\n",
       "      <td>0.058136</td>\n",
       "      <td>0.00000</td>\n",
       "      <td>0.00000</td>\n",
       "      <td>0.00000</td>\n",
       "      <td>0.000000</td>\n",
       "      <td>0.000000</td>\n",
       "      <td>0.000000</td>\n",
       "      <td>0.000000</td>\n",
       "      <td>...</td>\n",
       "      <td>0.0</td>\n",
       "      <td>0.0</td>\n",
       "      <td>0.0</td>\n",
       "      <td>0.0</td>\n",
       "      <td>0.000000</td>\n",
       "      <td>0.0</td>\n",
       "      <td>0.0</td>\n",
       "      <td>0.0</td>\n",
       "      <td>0.0</td>\n",
       "      <td>0.0</td>\n",
       "    </tr>\n",
       "    <tr>\n",
       "      <th>8</th>\n",
       "      <td>0.148396</td>\n",
       "      <td>0.000000</td>\n",
       "      <td>0.000000</td>\n",
       "      <td>0.00000</td>\n",
       "      <td>0.00000</td>\n",
       "      <td>0.00000</td>\n",
       "      <td>0.000000</td>\n",
       "      <td>0.000000</td>\n",
       "      <td>0.000000</td>\n",
       "      <td>0.000000</td>\n",
       "      <td>...</td>\n",
       "      <td>0.0</td>\n",
       "      <td>0.0</td>\n",
       "      <td>0.0</td>\n",
       "      <td>0.0</td>\n",
       "      <td>0.000000</td>\n",
       "      <td>0.0</td>\n",
       "      <td>0.0</td>\n",
       "      <td>0.0</td>\n",
       "      <td>0.0</td>\n",
       "      <td>0.0</td>\n",
       "    </tr>\n",
       "    <tr>\n",
       "      <th>9</th>\n",
       "      <td>0.072398</td>\n",
       "      <td>0.000000</td>\n",
       "      <td>0.000000</td>\n",
       "      <td>0.00000</td>\n",
       "      <td>0.00000</td>\n",
       "      <td>0.00000</td>\n",
       "      <td>0.000000</td>\n",
       "      <td>0.177863</td>\n",
       "      <td>0.177863</td>\n",
       "      <td>0.000000</td>\n",
       "      <td>...</td>\n",
       "      <td>0.0</td>\n",
       "      <td>0.0</td>\n",
       "      <td>0.0</td>\n",
       "      <td>0.0</td>\n",
       "      <td>0.000000</td>\n",
       "      <td>0.0</td>\n",
       "      <td>0.0</td>\n",
       "      <td>0.0</td>\n",
       "      <td>0.0</td>\n",
       "      <td>0.0</td>\n",
       "    </tr>\n",
       "  </tbody>\n",
       "</table>\n",
       "<p>10 rows × 14580 columns</p>\n",
       "</div>"
      ],
      "text/plain": [
       "       data  econometrics  statistics   austin  austin fraser   fraser  \\\n",
       "0  0.262578      0.205829    0.172667  0.16221        0.13722  0.13722   \n",
       "1  0.238871      0.000000    0.000000  0.00000        0.00000  0.00000   \n",
       "2  0.179480      0.000000    0.055323  0.00000        0.00000  0.00000   \n",
       "3  0.235082      0.000000    0.057970  0.00000        0.00000  0.00000   \n",
       "4  0.092274      0.000000    0.075848  0.00000        0.00000  0.00000   \n",
       "5  0.124961      0.000000    0.000000  0.00000        0.00000  0.00000   \n",
       "6  0.244360      0.000000    0.000000  0.00000        0.00000  0.00000   \n",
       "7  0.141453      0.000000    0.058136  0.00000        0.00000  0.00000   \n",
       "8  0.148396      0.000000    0.000000  0.00000        0.00000  0.00000   \n",
       "9  0.072398      0.000000    0.000000  0.00000        0.00000  0.00000   \n",
       "\n",
       "   operations research  language processing  natural language processing  \\\n",
       "0             0.118883             0.114682                     0.114682   \n",
       "1             0.000000             0.000000                     0.000000   \n",
       "2             0.000000             0.000000                     0.000000   \n",
       "3             0.039913             0.038502                     0.038502   \n",
       "4             0.000000             0.000000                     0.000000   \n",
       "5             0.000000             0.000000                     0.000000   \n",
       "6             0.000000             0.000000                     0.000000   \n",
       "7             0.000000             0.000000                     0.000000   \n",
       "8             0.000000             0.000000                     0.000000   \n",
       "9             0.000000             0.177863                     0.177863   \n",
       "\n",
       "   mathematical          ...            experience ability  \\\n",
       "0      0.113445          ...                           0.0   \n",
       "1      0.000000          ...                           0.0   \n",
       "2      0.000000          ...                           0.0   \n",
       "3      0.076174          ...                           0.0   \n",
       "4      0.000000          ...                           0.0   \n",
       "5      0.000000          ...                           0.0   \n",
       "6      0.000000          ...                           0.0   \n",
       "7      0.000000          ...                           0.0   \n",
       "8      0.000000          ...                           0.0   \n",
       "9      0.000000          ...                           0.0   \n",
       "\n",
       "   experience accounting  experience active  experience advanced  \\\n",
       "0                    0.0                0.0                  0.0   \n",
       "1                    0.0                0.0                  0.0   \n",
       "2                    0.0                0.0                  0.0   \n",
       "3                    0.0                0.0                  0.0   \n",
       "4                    0.0                0.0                  0.0   \n",
       "5                    0.0                0.0                  0.0   \n",
       "6                    0.0                0.0                  0.0   \n",
       "7                    0.0                0.0                  0.0   \n",
       "8                    0.0                0.0                  0.0   \n",
       "9                    0.0                0.0                  0.0   \n",
       "\n",
       "   experience agile  experience agile development  experience amazon  \\\n",
       "0          0.000000                           0.0                0.0   \n",
       "1          0.000000                           0.0                0.0   \n",
       "2          0.000000                           0.0                0.0   \n",
       "3          0.035141                           0.0                0.0   \n",
       "4          0.000000                           0.0                0.0   \n",
       "5          0.000000                           0.0                0.0   \n",
       "6          0.000000                           0.0                0.0   \n",
       "7          0.000000                           0.0                0.0   \n",
       "8          0.000000                           0.0                0.0   \n",
       "9          0.000000                           0.0                0.0   \n",
       "\n",
       "   experience amazon web  experience analyzing  zookeeper plus proven  \n",
       "0                    0.0                   0.0                    0.0  \n",
       "1                    0.0                   0.0                    0.0  \n",
       "2                    0.0                   0.0                    0.0  \n",
       "3                    0.0                   0.0                    0.0  \n",
       "4                    0.0                   0.0                    0.0  \n",
       "5                    0.0                   0.0                    0.0  \n",
       "6                    0.0                   0.0                    0.0  \n",
       "7                    0.0                   0.0                    0.0  \n",
       "8                    0.0                   0.0                    0.0  \n",
       "9                    0.0                   0.0                    0.0  \n",
       "\n",
       "[10 rows x 14580 columns]"
      ]
     },
     "execution_count": 43,
     "metadata": {},
     "output_type": "execute_result"
    }
   ],
   "source": [
    "counts.transpose().sort_values(0, ascending=False).transpose().head(10)"
   ]
  },
  {
   "cell_type": "code",
   "execution_count": 44,
   "metadata": {},
   "outputs": [
    {
     "data": {
      "text/plain": [
       "data            64.525599\n",
       "experience      62.561814\n",
       "business        43.836764\n",
       "technology      36.197893\n",
       "software        34.250591\n",
       "work            32.053455\n",
       "development     29.932651\n",
       "skills          28.240042\n",
       "years           25.463195\n",
       "financial       25.293660\n",
       "team            24.913106\n",
       "systems         24.796351\n",
       "management      24.380949\n",
       "job             23.946325\n",
       "ability         23.533470\n",
       "design          23.068600\n",
       "requirements    22.989832\n",
       "information     22.668541\n",
       "support         22.631913\n",
       "sql             22.508394\n",
       "dtype: float64"
      ]
     },
     "execution_count": 44,
     "metadata": {},
     "output_type": "execute_result"
    }
   ],
   "source": [
    "word_counts = counts.sum(axis=0)\n",
    "word_counts.sort_values(ascending = False).head(20)"
   ]
  },
  {
   "cell_type": "code",
   "execution_count": 45,
   "metadata": {},
   "outputs": [],
   "source": [
    "jobs.reset_index(drop=True, inplace=True) "
   ]
  },
  {
   "cell_type": "code",
   "execution_count": 46,
   "metadata": {},
   "outputs": [],
   "source": [
    "jobs = pd.concat([jobs, counts],axis=1)"
   ]
  },
  {
   "cell_type": "code",
   "execution_count": 47,
   "metadata": {},
   "outputs": [
    {
     "data": {
      "text/plain": [
       "(1251, 14967)"
      ]
     },
     "execution_count": 47,
     "metadata": {},
     "output_type": "execute_result"
    }
   ],
   "source": [
    "jobs.shape"
   ]
  },
  {
   "cell_type": "code",
   "execution_count": 48,
   "metadata": {},
   "outputs": [],
   "source": [
    "from sklearn.model_selection import train_test_split\n",
    "\n",
    "predictors = list(jobs.columns)\n",
    "predictors.remove('salary_')\n",
    "\n",
    "# X is a matrix, hence we use [] to access the features we want in feature_cols\n",
    "X = jobs[predictors]\n",
    "\n",
    "# y is a vector, hence we use dot to access 'label'\n",
    "y = jobs.salary_.values\n",
    "\n",
    "# 80-20 split\n",
    "X_train, X_test, y_train, y_test = train_test_split(X, y, test_size=0.3, random_state=8)"
   ]
  },
  {
   "cell_type": "code",
   "execution_count": 49,
   "metadata": {},
   "outputs": [],
   "source": [
    "# Standard Scaling\n",
    "from sklearn.preprocessing import StandardScaler\n",
    "\n",
    "# Initialize the scaler.\n",
    "ss = StandardScaler()\n",
    "\n",
    "# Fit the data using the scaler (scale the data).\n",
    "Xs = ss.fit_transform(X_train.values)\n",
    "Xst = ss.fit_transform(X_test.values)"
   ]
  },
  {
   "cell_type": "code",
   "execution_count": 50,
   "metadata": {},
   "outputs": [
    {
     "name": "stdout",
     "output_type": "stream",
     "text": [
      "[ 0.4819592   0.3006032   0.42570226  0.550452    0.49170158]\n",
      "0.450083648461\n"
     ]
    }
   ],
   "source": [
    "from sklearn.model_selection import cross_val_score, cross_val_predict\n",
    "from sklearn.linear_model import LinearRegression\n",
    "\n",
    "lm = LinearRegression()\n",
    "\n",
    "scores = cross_val_score(lm, Xs, y_train, cv=5)\n",
    "print scores\n",
    "print np.mean(scores)"
   ]
  },
  {
   "cell_type": "code",
   "execution_count": 51,
   "metadata": {},
   "outputs": [],
   "source": [
    "from sklearn.metrics import mean_squared_error, r2_score\n",
    "\n",
    "model = lm.fit(X_train,y_train)\n",
    "predictions = model.predict(X_test)\n",
    "\n",
    "RMSE = mean_squared_error(y_test, predictions) # If y_test exisits\n",
    "r2 = r2_score(y_test, predictions) # If y_test exisits"
   ]
  },
  {
   "cell_type": "code",
   "execution_count": 52,
   "metadata": {},
   "outputs": [
    {
     "data": {
      "text/plain": [
       "1084351738.6667855"
      ]
     },
     "execution_count": 52,
     "metadata": {},
     "output_type": "execute_result"
    }
   ],
   "source": [
    "RMSE"
   ]
  },
  {
   "cell_type": "code",
   "execution_count": 53,
   "metadata": {},
   "outputs": [
    {
     "data": {
      "text/plain": [
       "0.53054748904159232"
      ]
     },
     "execution_count": 53,
     "metadata": {},
     "output_type": "execute_result"
    }
   ],
   "source": [
    "r2"
   ]
  },
  {
   "cell_type": "code",
   "execution_count": 633,
   "metadata": {},
   "outputs": [
    {
     "name": "stdout",
     "output_type": "stream",
     "text": [
      "[ 0.32756932  0.24257611  0.16956321  0.31781049  0.22311612]\n",
      "0.256127051097\n"
     ]
    }
   ],
   "source": [
    "ar = AdaBoostRegressor(n_estimators=50,\n",
    "                         learning_rate=1,\n",
    "                         random_state=0)\n",
    "\n",
    "scores = cross_val_score(ar, Xs, y_train, cv=5)\n",
    "print scores\n",
    "print np.mean(scores)"
   ]
  },
  {
   "cell_type": "code",
   "execution_count": 634,
   "metadata": {},
   "outputs": [],
   "source": [
    "model = ar.fit(X_train,y_train)\n",
    "predictions = model.predict(Xst)\n",
    "\n",
    "RMSE = mean_squared_error(y_test, predictions) # If y_test exisits\n",
    "r2 = r2_score(y_test, predictions) # If y_test exisits"
   ]
  },
  {
   "cell_type": "code",
   "execution_count": 635,
   "metadata": {},
   "outputs": [
    {
     "data": {
      "text/plain": [
       "1499028662.2236264"
      ]
     },
     "execution_count": 635,
     "metadata": {},
     "output_type": "execute_result"
    }
   ],
   "source": [
    "RMSE"
   ]
  },
  {
   "cell_type": "code",
   "execution_count": 636,
   "metadata": {},
   "outputs": [
    {
     "data": {
      "text/plain": [
       "0.35101983573638751"
      ]
     },
     "execution_count": 636,
     "metadata": {},
     "output_type": "execute_result"
    }
   ],
   "source": [
    "r2"
   ]
  }
 ],
 "metadata": {
  "kernelspec": {
   "display_name": "Python 2",
   "language": "python",
   "name": "python2"
  },
  "language_info": {
   "codemirror_mode": {
    "name": "ipython",
    "version": 2
   },
   "file_extension": ".py",
   "mimetype": "text/x-python",
   "name": "python",
   "nbconvert_exporter": "python",
   "pygments_lexer": "ipython2",
   "version": "2.7.14"
  }
 },
 "nbformat": 4,
 "nbformat_minor": 2
}
