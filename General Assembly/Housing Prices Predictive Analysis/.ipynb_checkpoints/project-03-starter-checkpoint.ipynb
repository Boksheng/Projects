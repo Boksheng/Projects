{
 "cells": [
  {
   "cell_type": "markdown",
   "metadata": {},
   "source": [
    "<img src=\"http://imgur.com/1ZcRyrc.png\" style=\"float: left; margin: 15px; height: 80px\">\n",
    "\n",
    "# Project 3\n",
    "\n",
    "### Regression and Classification with the Ames Housing Data\n",
    "\n",
    "---\n",
    "\n",
    "You have just joined a new \"full stack\" real estate company in Ames, Iowa. The strategy of the firm is two-fold:\n",
    "- Own the entire process from the purchase of the land all the way to sale of the house, and anything in between.\n",
    "- Use statistical analysis to optimize investment and maximize return.\n",
    "\n",
    "The company is still small, and though investment is substantial the short-term goals of the company are more oriented towards purchasing existing houses and flipping them as opposed to constructing entirely new houses. That being said, the company has access to a large construction workforce operating at rock-bottom prices.\n",
    "\n",
    "This project uses the [Ames housing data recently made available on kaggle](https://www.kaggle.com/c/house-prices-advanced-regression-techniques)."
   ]
  },
  {
   "cell_type": "code",
   "execution_count": 698,
   "metadata": {
    "collapsed": true
   },
   "outputs": [],
   "source": [
    "import numpy as np\n",
    "import scipy.stats as stats\n",
    "import seaborn as sns\n",
    "import matplotlib.pyplot as plt\n",
    "import pandas as pd\n",
    "\n",
    "sns.set_style('whitegrid')\n",
    "\n",
    "%config InlineBackend.figure_format = 'retina'\n",
    "%matplotlib inline"
   ]
  },
  {
   "cell_type": "markdown",
   "metadata": {},
   "source": [
    "<img src=\"http://imgur.com/l5NasQj.png\" style=\"float: left; margin: 25px 15px 0px 0px; height: 25px\">\n",
    "\n",
    "## 1. Estimating the value of homes from fixed characteristics.\n",
    "\n",
    "---\n",
    "\n",
    "Your superiors have outlined this year's strategy for the company:\n",
    "1. Develop an algorithm to reliably estimate the value of residential houses based on *fixed* characteristics.\n",
    "2. Identify characteristics of houses that the company can cost-effectively change/renovate with their construction team.\n",
    "3. Evaluate the mean dollar value of different renovations.\n",
    "\n",
    "Then we can use that to buy houses that are likely to sell for more than the cost of the purchase plus renovations.\n",
    "\n",
    "Your first job is to tackle #1. You have a dataset of housing sale data with a huge amount of features identifying different aspects of the house. The full description of the data features can be found in a separate file:\n",
    "\n",
    "    housing.csv\n",
    "    data_description.txt\n",
    "    \n",
    "You need to build a reliable estimator for the price of the house given characteristics of the house that cannot be renovated. Some examples include:\n",
    "- The neighborhood\n",
    "- Square feet\n",
    "- Bedrooms, bathrooms\n",
    "- Basement and garage space\n",
    "\n",
    "and many more. \n",
    "\n",
    "Some examples of things that **ARE renovate-able:**\n",
    "- Roof and exterior features\n",
    "- \"Quality\" metrics, such as kitchen quality\n",
    "- \"Condition\" metrics, such as condition of garage\n",
    "- Heating and electrical components\n",
    "\n",
    "and generally anything you deem can be modified without having to undergo major construction on the house.\n",
    "\n",
    "---\n",
    "\n",
    "**Your goals:**\n",
    "1. Perform any cleaning, feature engineering, and EDA you deem necessary.\n",
    "- Be sure to remove any houses that are not residential from the dataset.\n",
    "- Identify **fixed** features that can predict price.\n",
    "- Train a model on pre-2010 data and evaluate its performance on the 2010 houses.\n",
    "- Characterize your model. How well does it perform? What are the best estimates of price?\n",
    "\n",
    "> **Note:** The EDA and feature engineering component to this project is not trivial! Be sure to always think critically and creatively. Justify your actions! Use the data description file!"
   ]
  },
  {
   "cell_type": "code",
   "execution_count": 699,
   "metadata": {
    "collapsed": true
   },
   "outputs": [],
   "source": [
    "# Load the data\n",
    "df = pd.read_csv('./housing.csv')"
   ]
  },
  {
   "cell_type": "code",
   "execution_count": 700,
   "metadata": {
    "collapsed": true
   },
   "outputs": [
    {
     "data": {
      "text/plain": [
       "(1460, 81)"
      ]
     },
     "execution_count": 700,
     "metadata": {},
     "output_type": "execute_result"
    }
   ],
   "source": [
    "df.shape"
   ]
  },
  {
   "cell_type": "code",
   "execution_count": 701,
   "metadata": {},
   "outputs": [
    {
     "data": {
      "text/html": [
       "<div>\n",
       "<style scoped>\n",
       "    .dataframe tbody tr th:only-of-type {\n",
       "        vertical-align: middle;\n",
       "    }\n",
       "\n",
       "    .dataframe tbody tr th {\n",
       "        vertical-align: top;\n",
       "    }\n",
       "\n",
       "    .dataframe thead th {\n",
       "        text-align: right;\n",
       "    }\n",
       "</style>\n",
       "<table border=\"1\" class=\"dataframe\">\n",
       "  <thead>\n",
       "    <tr style=\"text-align: right;\">\n",
       "      <th></th>\n",
       "      <th>Id</th>\n",
       "      <th>MSSubClass</th>\n",
       "      <th>MSZoning</th>\n",
       "      <th>LotFrontage</th>\n",
       "      <th>LotArea</th>\n",
       "      <th>Street</th>\n",
       "      <th>Alley</th>\n",
       "      <th>LotShape</th>\n",
       "      <th>LandContour</th>\n",
       "      <th>Utilities</th>\n",
       "      <th>...</th>\n",
       "      <th>PoolArea</th>\n",
       "      <th>PoolQC</th>\n",
       "      <th>Fence</th>\n",
       "      <th>MiscFeature</th>\n",
       "      <th>MiscVal</th>\n",
       "      <th>MoSold</th>\n",
       "      <th>YrSold</th>\n",
       "      <th>SaleType</th>\n",
       "      <th>SaleCondition</th>\n",
       "      <th>SalePrice</th>\n",
       "    </tr>\n",
       "  </thead>\n",
       "  <tbody>\n",
       "    <tr>\n",
       "      <th>0</th>\n",
       "      <td>1</td>\n",
       "      <td>60</td>\n",
       "      <td>RL</td>\n",
       "      <td>65.0</td>\n",
       "      <td>8450</td>\n",
       "      <td>Pave</td>\n",
       "      <td>NaN</td>\n",
       "      <td>Reg</td>\n",
       "      <td>Lvl</td>\n",
       "      <td>AllPub</td>\n",
       "      <td>...</td>\n",
       "      <td>0</td>\n",
       "      <td>NaN</td>\n",
       "      <td>NaN</td>\n",
       "      <td>NaN</td>\n",
       "      <td>0</td>\n",
       "      <td>2</td>\n",
       "      <td>2008</td>\n",
       "      <td>WD</td>\n",
       "      <td>Normal</td>\n",
       "      <td>208500</td>\n",
       "    </tr>\n",
       "    <tr>\n",
       "      <th>1</th>\n",
       "      <td>2</td>\n",
       "      <td>20</td>\n",
       "      <td>RL</td>\n",
       "      <td>80.0</td>\n",
       "      <td>9600</td>\n",
       "      <td>Pave</td>\n",
       "      <td>NaN</td>\n",
       "      <td>Reg</td>\n",
       "      <td>Lvl</td>\n",
       "      <td>AllPub</td>\n",
       "      <td>...</td>\n",
       "      <td>0</td>\n",
       "      <td>NaN</td>\n",
       "      <td>NaN</td>\n",
       "      <td>NaN</td>\n",
       "      <td>0</td>\n",
       "      <td>5</td>\n",
       "      <td>2007</td>\n",
       "      <td>WD</td>\n",
       "      <td>Normal</td>\n",
       "      <td>181500</td>\n",
       "    </tr>\n",
       "    <tr>\n",
       "      <th>2</th>\n",
       "      <td>3</td>\n",
       "      <td>60</td>\n",
       "      <td>RL</td>\n",
       "      <td>68.0</td>\n",
       "      <td>11250</td>\n",
       "      <td>Pave</td>\n",
       "      <td>NaN</td>\n",
       "      <td>IR1</td>\n",
       "      <td>Lvl</td>\n",
       "      <td>AllPub</td>\n",
       "      <td>...</td>\n",
       "      <td>0</td>\n",
       "      <td>NaN</td>\n",
       "      <td>NaN</td>\n",
       "      <td>NaN</td>\n",
       "      <td>0</td>\n",
       "      <td>9</td>\n",
       "      <td>2008</td>\n",
       "      <td>WD</td>\n",
       "      <td>Normal</td>\n",
       "      <td>223500</td>\n",
       "    </tr>\n",
       "    <tr>\n",
       "      <th>3</th>\n",
       "      <td>4</td>\n",
       "      <td>70</td>\n",
       "      <td>RL</td>\n",
       "      <td>60.0</td>\n",
       "      <td>9550</td>\n",
       "      <td>Pave</td>\n",
       "      <td>NaN</td>\n",
       "      <td>IR1</td>\n",
       "      <td>Lvl</td>\n",
       "      <td>AllPub</td>\n",
       "      <td>...</td>\n",
       "      <td>0</td>\n",
       "      <td>NaN</td>\n",
       "      <td>NaN</td>\n",
       "      <td>NaN</td>\n",
       "      <td>0</td>\n",
       "      <td>2</td>\n",
       "      <td>2006</td>\n",
       "      <td>WD</td>\n",
       "      <td>Abnorml</td>\n",
       "      <td>140000</td>\n",
       "    </tr>\n",
       "    <tr>\n",
       "      <th>4</th>\n",
       "      <td>5</td>\n",
       "      <td>60</td>\n",
       "      <td>RL</td>\n",
       "      <td>84.0</td>\n",
       "      <td>14260</td>\n",
       "      <td>Pave</td>\n",
       "      <td>NaN</td>\n",
       "      <td>IR1</td>\n",
       "      <td>Lvl</td>\n",
       "      <td>AllPub</td>\n",
       "      <td>...</td>\n",
       "      <td>0</td>\n",
       "      <td>NaN</td>\n",
       "      <td>NaN</td>\n",
       "      <td>NaN</td>\n",
       "      <td>0</td>\n",
       "      <td>12</td>\n",
       "      <td>2008</td>\n",
       "      <td>WD</td>\n",
       "      <td>Normal</td>\n",
       "      <td>250000</td>\n",
       "    </tr>\n",
       "  </tbody>\n",
       "</table>\n",
       "<p>5 rows × 81 columns</p>\n",
       "</div>"
      ],
      "text/plain": [
       "   Id  MSSubClass MSZoning  LotFrontage  LotArea Street Alley LotShape  \\\n",
       "0   1          60       RL         65.0     8450   Pave   NaN      Reg   \n",
       "1   2          20       RL         80.0     9600   Pave   NaN      Reg   \n",
       "2   3          60       RL         68.0    11250   Pave   NaN      IR1   \n",
       "3   4          70       RL         60.0     9550   Pave   NaN      IR1   \n",
       "4   5          60       RL         84.0    14260   Pave   NaN      IR1   \n",
       "\n",
       "  LandContour Utilities    ...     PoolArea PoolQC Fence MiscFeature MiscVal  \\\n",
       "0         Lvl    AllPub    ...            0    NaN   NaN         NaN       0   \n",
       "1         Lvl    AllPub    ...            0    NaN   NaN         NaN       0   \n",
       "2         Lvl    AllPub    ...            0    NaN   NaN         NaN       0   \n",
       "3         Lvl    AllPub    ...            0    NaN   NaN         NaN       0   \n",
       "4         Lvl    AllPub    ...            0    NaN   NaN         NaN       0   \n",
       "\n",
       "  MoSold YrSold  SaleType  SaleCondition  SalePrice  \n",
       "0      2   2008        WD         Normal     208500  \n",
       "1      5   2007        WD         Normal     181500  \n",
       "2      9   2008        WD         Normal     223500  \n",
       "3      2   2006        WD        Abnorml     140000  \n",
       "4     12   2008        WD         Normal     250000  \n",
       "\n",
       "[5 rows x 81 columns]"
      ]
     },
     "execution_count": 701,
     "metadata": {},
     "output_type": "execute_result"
    }
   ],
   "source": [
    "df.head()"
   ]
  },
  {
   "cell_type": "code",
   "execution_count": 702,
   "metadata": {},
   "outputs": [
    {
     "data": {
      "text/html": [
       "<div>\n",
       "<style scoped>\n",
       "    .dataframe tbody tr th:only-of-type {\n",
       "        vertical-align: middle;\n",
       "    }\n",
       "\n",
       "    .dataframe tbody tr th {\n",
       "        vertical-align: top;\n",
       "    }\n",
       "\n",
       "    .dataframe thead th {\n",
       "        text-align: right;\n",
       "    }\n",
       "</style>\n",
       "<table border=\"1\" class=\"dataframe\">\n",
       "  <thead>\n",
       "    <tr style=\"text-align: right;\">\n",
       "      <th></th>\n",
       "      <th>Id</th>\n",
       "      <th>MSSubClass</th>\n",
       "      <th>LotFrontage</th>\n",
       "      <th>LotArea</th>\n",
       "      <th>OverallQual</th>\n",
       "      <th>OverallCond</th>\n",
       "      <th>YearBuilt</th>\n",
       "      <th>YearRemodAdd</th>\n",
       "      <th>MasVnrArea</th>\n",
       "      <th>BsmtFinSF1</th>\n",
       "      <th>...</th>\n",
       "      <th>WoodDeckSF</th>\n",
       "      <th>OpenPorchSF</th>\n",
       "      <th>EnclosedPorch</th>\n",
       "      <th>3SsnPorch</th>\n",
       "      <th>ScreenPorch</th>\n",
       "      <th>PoolArea</th>\n",
       "      <th>MiscVal</th>\n",
       "      <th>MoSold</th>\n",
       "      <th>YrSold</th>\n",
       "      <th>SalePrice</th>\n",
       "    </tr>\n",
       "  </thead>\n",
       "  <tbody>\n",
       "    <tr>\n",
       "      <th>count</th>\n",
       "      <td>1460.000000</td>\n",
       "      <td>1460.000000</td>\n",
       "      <td>1201.000000</td>\n",
       "      <td>1460.000000</td>\n",
       "      <td>1460.000000</td>\n",
       "      <td>1460.000000</td>\n",
       "      <td>1460.000000</td>\n",
       "      <td>1460.000000</td>\n",
       "      <td>1452.000000</td>\n",
       "      <td>1460.000000</td>\n",
       "      <td>...</td>\n",
       "      <td>1460.000000</td>\n",
       "      <td>1460.000000</td>\n",
       "      <td>1460.000000</td>\n",
       "      <td>1460.000000</td>\n",
       "      <td>1460.000000</td>\n",
       "      <td>1460.000000</td>\n",
       "      <td>1460.000000</td>\n",
       "      <td>1460.000000</td>\n",
       "      <td>1460.000000</td>\n",
       "      <td>1460.000000</td>\n",
       "    </tr>\n",
       "    <tr>\n",
       "      <th>mean</th>\n",
       "      <td>730.500000</td>\n",
       "      <td>56.897260</td>\n",
       "      <td>70.049958</td>\n",
       "      <td>10516.828082</td>\n",
       "      <td>6.099315</td>\n",
       "      <td>5.575342</td>\n",
       "      <td>1971.267808</td>\n",
       "      <td>1984.865753</td>\n",
       "      <td>103.685262</td>\n",
       "      <td>443.639726</td>\n",
       "      <td>...</td>\n",
       "      <td>94.244521</td>\n",
       "      <td>46.660274</td>\n",
       "      <td>21.954110</td>\n",
       "      <td>3.409589</td>\n",
       "      <td>15.060959</td>\n",
       "      <td>2.758904</td>\n",
       "      <td>43.489041</td>\n",
       "      <td>6.321918</td>\n",
       "      <td>2007.815753</td>\n",
       "      <td>180921.195890</td>\n",
       "    </tr>\n",
       "    <tr>\n",
       "      <th>std</th>\n",
       "      <td>421.610009</td>\n",
       "      <td>42.300571</td>\n",
       "      <td>24.284752</td>\n",
       "      <td>9981.264932</td>\n",
       "      <td>1.382997</td>\n",
       "      <td>1.112799</td>\n",
       "      <td>30.202904</td>\n",
       "      <td>20.645407</td>\n",
       "      <td>181.066207</td>\n",
       "      <td>456.098091</td>\n",
       "      <td>...</td>\n",
       "      <td>125.338794</td>\n",
       "      <td>66.256028</td>\n",
       "      <td>61.119149</td>\n",
       "      <td>29.317331</td>\n",
       "      <td>55.757415</td>\n",
       "      <td>40.177307</td>\n",
       "      <td>496.123024</td>\n",
       "      <td>2.703626</td>\n",
       "      <td>1.328095</td>\n",
       "      <td>79442.502883</td>\n",
       "    </tr>\n",
       "    <tr>\n",
       "      <th>min</th>\n",
       "      <td>1.000000</td>\n",
       "      <td>20.000000</td>\n",
       "      <td>21.000000</td>\n",
       "      <td>1300.000000</td>\n",
       "      <td>1.000000</td>\n",
       "      <td>1.000000</td>\n",
       "      <td>1872.000000</td>\n",
       "      <td>1950.000000</td>\n",
       "      <td>0.000000</td>\n",
       "      <td>0.000000</td>\n",
       "      <td>...</td>\n",
       "      <td>0.000000</td>\n",
       "      <td>0.000000</td>\n",
       "      <td>0.000000</td>\n",
       "      <td>0.000000</td>\n",
       "      <td>0.000000</td>\n",
       "      <td>0.000000</td>\n",
       "      <td>0.000000</td>\n",
       "      <td>1.000000</td>\n",
       "      <td>2006.000000</td>\n",
       "      <td>34900.000000</td>\n",
       "    </tr>\n",
       "    <tr>\n",
       "      <th>25%</th>\n",
       "      <td>365.750000</td>\n",
       "      <td>20.000000</td>\n",
       "      <td>59.000000</td>\n",
       "      <td>7553.500000</td>\n",
       "      <td>5.000000</td>\n",
       "      <td>5.000000</td>\n",
       "      <td>1954.000000</td>\n",
       "      <td>1967.000000</td>\n",
       "      <td>0.000000</td>\n",
       "      <td>0.000000</td>\n",
       "      <td>...</td>\n",
       "      <td>0.000000</td>\n",
       "      <td>0.000000</td>\n",
       "      <td>0.000000</td>\n",
       "      <td>0.000000</td>\n",
       "      <td>0.000000</td>\n",
       "      <td>0.000000</td>\n",
       "      <td>0.000000</td>\n",
       "      <td>5.000000</td>\n",
       "      <td>2007.000000</td>\n",
       "      <td>129975.000000</td>\n",
       "    </tr>\n",
       "    <tr>\n",
       "      <th>50%</th>\n",
       "      <td>730.500000</td>\n",
       "      <td>50.000000</td>\n",
       "      <td>69.000000</td>\n",
       "      <td>9478.500000</td>\n",
       "      <td>6.000000</td>\n",
       "      <td>5.000000</td>\n",
       "      <td>1973.000000</td>\n",
       "      <td>1994.000000</td>\n",
       "      <td>0.000000</td>\n",
       "      <td>383.500000</td>\n",
       "      <td>...</td>\n",
       "      <td>0.000000</td>\n",
       "      <td>25.000000</td>\n",
       "      <td>0.000000</td>\n",
       "      <td>0.000000</td>\n",
       "      <td>0.000000</td>\n",
       "      <td>0.000000</td>\n",
       "      <td>0.000000</td>\n",
       "      <td>6.000000</td>\n",
       "      <td>2008.000000</td>\n",
       "      <td>163000.000000</td>\n",
       "    </tr>\n",
       "    <tr>\n",
       "      <th>75%</th>\n",
       "      <td>1095.250000</td>\n",
       "      <td>70.000000</td>\n",
       "      <td>80.000000</td>\n",
       "      <td>11601.500000</td>\n",
       "      <td>7.000000</td>\n",
       "      <td>6.000000</td>\n",
       "      <td>2000.000000</td>\n",
       "      <td>2004.000000</td>\n",
       "      <td>166.000000</td>\n",
       "      <td>712.250000</td>\n",
       "      <td>...</td>\n",
       "      <td>168.000000</td>\n",
       "      <td>68.000000</td>\n",
       "      <td>0.000000</td>\n",
       "      <td>0.000000</td>\n",
       "      <td>0.000000</td>\n",
       "      <td>0.000000</td>\n",
       "      <td>0.000000</td>\n",
       "      <td>8.000000</td>\n",
       "      <td>2009.000000</td>\n",
       "      <td>214000.000000</td>\n",
       "    </tr>\n",
       "    <tr>\n",
       "      <th>max</th>\n",
       "      <td>1460.000000</td>\n",
       "      <td>190.000000</td>\n",
       "      <td>313.000000</td>\n",
       "      <td>215245.000000</td>\n",
       "      <td>10.000000</td>\n",
       "      <td>9.000000</td>\n",
       "      <td>2010.000000</td>\n",
       "      <td>2010.000000</td>\n",
       "      <td>1600.000000</td>\n",
       "      <td>5644.000000</td>\n",
       "      <td>...</td>\n",
       "      <td>857.000000</td>\n",
       "      <td>547.000000</td>\n",
       "      <td>552.000000</td>\n",
       "      <td>508.000000</td>\n",
       "      <td>480.000000</td>\n",
       "      <td>738.000000</td>\n",
       "      <td>15500.000000</td>\n",
       "      <td>12.000000</td>\n",
       "      <td>2010.000000</td>\n",
       "      <td>755000.000000</td>\n",
       "    </tr>\n",
       "  </tbody>\n",
       "</table>\n",
       "<p>8 rows × 38 columns</p>\n",
       "</div>"
      ],
      "text/plain": [
       "                Id   MSSubClass  LotFrontage        LotArea  OverallQual  \\\n",
       "count  1460.000000  1460.000000  1201.000000    1460.000000  1460.000000   \n",
       "mean    730.500000    56.897260    70.049958   10516.828082     6.099315   \n",
       "std     421.610009    42.300571    24.284752    9981.264932     1.382997   \n",
       "min       1.000000    20.000000    21.000000    1300.000000     1.000000   \n",
       "25%     365.750000    20.000000    59.000000    7553.500000     5.000000   \n",
       "50%     730.500000    50.000000    69.000000    9478.500000     6.000000   \n",
       "75%    1095.250000    70.000000    80.000000   11601.500000     7.000000   \n",
       "max    1460.000000   190.000000   313.000000  215245.000000    10.000000   \n",
       "\n",
       "       OverallCond    YearBuilt  YearRemodAdd   MasVnrArea   BsmtFinSF1  \\\n",
       "count  1460.000000  1460.000000   1460.000000  1452.000000  1460.000000   \n",
       "mean      5.575342  1971.267808   1984.865753   103.685262   443.639726   \n",
       "std       1.112799    30.202904     20.645407   181.066207   456.098091   \n",
       "min       1.000000  1872.000000   1950.000000     0.000000     0.000000   \n",
       "25%       5.000000  1954.000000   1967.000000     0.000000     0.000000   \n",
       "50%       5.000000  1973.000000   1994.000000     0.000000   383.500000   \n",
       "75%       6.000000  2000.000000   2004.000000   166.000000   712.250000   \n",
       "max       9.000000  2010.000000   2010.000000  1600.000000  5644.000000   \n",
       "\n",
       "           ...         WoodDeckSF  OpenPorchSF  EnclosedPorch    3SsnPorch  \\\n",
       "count      ...        1460.000000  1460.000000    1460.000000  1460.000000   \n",
       "mean       ...          94.244521    46.660274      21.954110     3.409589   \n",
       "std        ...         125.338794    66.256028      61.119149    29.317331   \n",
       "min        ...           0.000000     0.000000       0.000000     0.000000   \n",
       "25%        ...           0.000000     0.000000       0.000000     0.000000   \n",
       "50%        ...           0.000000    25.000000       0.000000     0.000000   \n",
       "75%        ...         168.000000    68.000000       0.000000     0.000000   \n",
       "max        ...         857.000000   547.000000     552.000000   508.000000   \n",
       "\n",
       "       ScreenPorch     PoolArea       MiscVal       MoSold       YrSold  \\\n",
       "count  1460.000000  1460.000000   1460.000000  1460.000000  1460.000000   \n",
       "mean     15.060959     2.758904     43.489041     6.321918  2007.815753   \n",
       "std      55.757415    40.177307    496.123024     2.703626     1.328095   \n",
       "min       0.000000     0.000000      0.000000     1.000000  2006.000000   \n",
       "25%       0.000000     0.000000      0.000000     5.000000  2007.000000   \n",
       "50%       0.000000     0.000000      0.000000     6.000000  2008.000000   \n",
       "75%       0.000000     0.000000      0.000000     8.000000  2009.000000   \n",
       "max     480.000000   738.000000  15500.000000    12.000000  2010.000000   \n",
       "\n",
       "           SalePrice  \n",
       "count    1460.000000  \n",
       "mean   180921.195890  \n",
       "std     79442.502883  \n",
       "min     34900.000000  \n",
       "25%    129975.000000  \n",
       "50%    163000.000000  \n",
       "75%    214000.000000  \n",
       "max    755000.000000  \n",
       "\n",
       "[8 rows x 38 columns]"
      ]
     },
     "execution_count": 702,
     "metadata": {},
     "output_type": "execute_result"
    }
   ],
   "source": [
    "df.describe()"
   ]
  },
  {
   "cell_type": "code",
   "execution_count": 703,
   "metadata": {},
   "outputs": [
    {
     "data": {
      "image/png": "[encoded data removed]",
      "text/plain": [
       "<Figure size 432x288 with 1 Axes>"
      ]
     },
     "metadata": {
      "image/png": {
       "height": 319,
       "width": 351
      }
     },
     "output_type": "display_data"
    }
   ],
   "source": [
    "sns.heatmap(df.isnull(),yticklabels = False, cbar = False,cmap = 'tab20c_r')\n",
    "plt.title('Missing Data')\n",
    "plt.show()"
   ]
  },
  {
   "cell_type": "code",
   "execution_count": 704,
   "metadata": {},
   "outputs": [
    {
     "name": "stdout",
     "output_type": "stream",
     "text": [
      "('LotFrontage', 259)\n",
      "('Alley', 1369)\n",
      "('MasVnrType', 8)\n",
      "('MasVnrArea', 8)\n",
      "('BsmtQual', 37)\n",
      "('BsmtCond', 37)\n",
      "('BsmtExposure', 38)\n",
      "('BsmtFinType1', 37)\n",
      "('BsmtFinType2', 38)\n",
      "('Electrical', 1)\n",
      "('FireplaceQu', 690)\n",
      "('GarageType', 81)\n",
      "('GarageYrBlt', 81)\n",
      "('GarageFinish', 81)\n",
      "('GarageQual', 81)\n",
      "('GarageCond', 81)\n",
      "('PoolQC', 1453)\n",
      "('Fence', 1179)\n",
      "('MiscFeature', 1406)\n"
     ]
    }
   ],
   "source": [
    "# To check if there are any missing values\n",
    "\n",
    "for i,e in enumerate(df.columns):\n",
    "    if df[e].isnull().sum() >0:\n",
    "        print ((df.columns[i]),(df[e].isnull().sum()))"
   ]
  },
  {
   "cell_type": "code",
   "execution_count": 705,
   "metadata": {},
   "outputs": [
    {
     "data": {
      "text/plain": [
       "Index([u'Id', u'MSSubClass', u'MSZoning', u'LotFrontage', u'LotArea',\n",
       "       u'Street', u'Alley', u'LotShape', u'LandContour', u'Utilities',\n",
       "       u'LotConfig', u'LandSlope', u'Neighborhood', u'Condition1',\n",
       "       u'Condition2', u'BldgType', u'HouseStyle', u'OverallQual',\n",
       "       u'OverallCond', u'YearBuilt', u'YearRemodAdd', u'RoofStyle',\n",
       "       u'RoofMatl', u'Exterior1st', u'Exterior2nd', u'MasVnrType',\n",
       "       u'MasVnrArea', u'ExterQual', u'ExterCond', u'Foundation', u'BsmtQual',\n",
       "       u'BsmtCond', u'BsmtExposure', u'BsmtFinType1', u'BsmtFinSF1',\n",
       "       u'BsmtFinType2', u'BsmtFinSF2', u'BsmtUnfSF', u'TotalBsmtSF',\n",
       "       u'Heating', u'HeatingQC', u'CentralAir', u'Electrical', u'1stFlrSF',\n",
       "       u'2ndFlrSF', u'LowQualFinSF', u'GrLivArea', u'BsmtFullBath',\n",
       "       u'BsmtHalfBath', u'FullBath', u'HalfBath', u'BedroomAbvGr',\n",
       "       u'KitchenAbvGr', u'KitchenQual', u'TotRmsAbvGrd', u'Functional',\n",
       "       u'Fireplaces', u'FireplaceQu', u'GarageType', u'GarageYrBlt',\n",
       "       u'GarageFinish', u'GarageCars', u'GarageArea', u'GarageQual',\n",
       "       u'GarageCond', u'PavedDrive', u'WoodDeckSF', u'OpenPorchSF',\n",
       "       u'EnclosedPorch', u'3SsnPorch', u'ScreenPorch', u'PoolArea', u'PoolQC',\n",
       "       u'Fence', u'MiscFeature', u'MiscVal', u'MoSold', u'YrSold', u'SaleType',\n",
       "       u'SaleCondition', u'SalePrice'],\n",
       "      dtype='object')"
      ]
     },
     "execution_count": 705,
     "metadata": {},
     "output_type": "execute_result"
    }
   ],
   "source": [
    "df.columns"
   ]
  },
  {
   "cell_type": "markdown",
   "metadata": {},
   "source": [
    "### Handling missing features -> Drop\n",
    "Alley, PoolQC, PoolArea, Fence, MiscFeature, MiscVal\n",
    "\n",
    "### Handling unnecessary features -> Drop\n",
    "Id"
   ]
  },
  {
   "cell_type": "code",
   "execution_count": 706,
   "metadata": {},
   "outputs": [],
   "source": [
    "# Alley, PoolQC, Fence and MiscFeature has too many missing values\n",
    "df.drop('Alley', axis=1, inplace=True)\n",
    "df.drop('PoolQC', axis=1, inplace=True)\n",
    "df.drop('PoolArea', axis=1, inplace=True)\n",
    "df.drop('Fence', axis=1, inplace=True)\n",
    "df.drop('MiscFeature', axis=1, inplace=True)\n",
    "df.drop('MiscVal', axis=1, inplace=True)\n",
    "df.drop('GarageYrBlt', axis=1, inplace=True) # Assume same year as Building being built\n",
    "\n",
    "# We don't need Id\n",
    "df.drop('Id', axis=1, inplace=True)"
   ]
  },
  {
   "cell_type": "markdown",
   "metadata": {},
   "source": [
    "### Handling missing features -> Impute\n",
    "LotFrontage, MasVnrType, MasVnrArea, BsmtQual, BsmtCond, BsmtExposure, BsmtFinType1, BsmtFinType2,\n",
    "Electrical, FireplaceQu, \n",
    "GarageType, GarageFinish, GarageQual, GarageCond, GarageYrBlt"
   ]
  },
  {
   "cell_type": "code",
   "execution_count": 707,
   "metadata": {},
   "outputs": [],
   "source": [
    "# Feature Imputing \n",
    "\n",
    "df.loc[df.LotFrontage.isnull(), 'LotFrontage'] = df.LotFrontage.median()\n",
    "\n",
    "df.loc[df.MasVnrType.isnull(), 'MasVnrType'] = 'None'\n",
    "df.loc[df.MasVnrType == 'None', 'MasVnrArea'] = 0\n",
    "\n",
    "df.loc[df.BsmtQual.isnull(), 'BsmtQual'] = 'NoBsmt'\n",
    "df.loc[df.BsmtCond.isnull(), 'BsmtCond'] = 'NoBsmt'\n",
    "df.loc[df.BsmtExposure.isnull(), 'BsmtExposure'] = 'NoBsmt'\n",
    "df.loc[df.BsmtFinType1.isnull(), 'BsmtFinType1'] = 'NoBsmt'\n",
    "df.loc[df.BsmtFinType2.isnull(), 'BsmtFinType2'] = 'NoBsmt'\n",
    "df.loc[df.BsmtQual=='NoBsmt', 'BsmtUnfSF'] = 0\n",
    "df.loc[df.BsmtQual=='NoBsmt', 'TotalBsmtSF'] = 0\n",
    "\n",
    "df.drop(df[df['Electrical'].isnull()].index,inplace=True)\n",
    "df.loc[df.FireplaceQu.isnull(), 'FireplaceQu'] = 'NoFireplace'\n",
    "\n",
    "df.loc[df.GarageType.isnull(), 'GarageType'] = 'NoGarage'\n",
    "df.loc[df.GarageFinish.isnull(), 'GarageFinish'] = 'NoGarage'\n",
    "df.loc[df.GarageQual.isnull(), 'GarageQual'] = 'NoGarage'\n",
    "df.loc[df.GarageCond.isnull(), 'GarageCond'] = 'NoGarage'"
   ]
  },
  {
   "cell_type": "code",
   "execution_count": 708,
   "metadata": {},
   "outputs": [],
   "source": [
    "# To check if there are any missing values\n",
    "\n",
    "for i,e in enumerate(df.columns):\n",
    "    if df[e].isnull().sum() >0:\n",
    "        print ((df.columns[i]),(df[e].isnull().sum()))"
   ]
  },
  {
   "cell_type": "markdown",
   "metadata": {},
   "source": [
    "### Handling Non-residential data"
   ]
  },
  {
   "cell_type": "code",
   "execution_count": 709,
   "metadata": {},
   "outputs": [
    {
     "data": {
      "text/plain": [
       "RL         1150\n",
       "RM          218\n",
       "FV           65\n",
       "RH           16\n",
       "C (all)      10\n",
       "Name: MSZoning, dtype: int64"
      ]
     },
     "execution_count": 709,
     "metadata": {},
     "output_type": "execute_result"
    }
   ],
   "source": [
    "pd.value_counts(df['MSZoning'])"
   ]
  },
  {
   "cell_type": "code",
   "execution_count": 710,
   "metadata": {},
   "outputs": [],
   "source": [
    "# Drop Non-residential rows\n",
    "df.drop(df[df['MSZoning'] == 'C (all)'].index,inplace=True)"
   ]
  },
  {
   "cell_type": "markdown",
   "metadata": {},
   "source": [
    "# Feature Engineering\n",
    "\n",
    "1. House Age (YrSold - YearBuilt)\n",
    "2. Renovated (Yes-1/ No-0)\n",
    "3. TotalBath = FullBath + BsmtFullBath + .5(HalfBath + BsmtHalfBath)"
   ]
  },
  {
   "cell_type": "code",
   "execution_count": 711,
   "metadata": {},
   "outputs": [
    {
     "data": {
      "text/plain": [
       "dtype('int64')"
      ]
     },
     "execution_count": 711,
     "metadata": {},
     "output_type": "execute_result"
    }
   ],
   "source": [
    "df['YearRemodAdd'].dtypes"
   ]
  },
  {
   "cell_type": "code",
   "execution_count": 712,
   "metadata": {},
   "outputs": [],
   "source": [
    "# Creating House Age\n",
    "df['Age'] = df['YrSold'] - df['YearBuilt']\n",
    "\n",
    "# Creating Renovated\n",
    "df['Renovated'] = df['YearRemodAdd'] - df['YearBuilt']\n",
    "df['Renovated']= df['Renovated'].apply(lambda x: 1 if x>0 else 0)"
   ]
  },
  {
   "cell_type": "code",
   "execution_count": 713,
   "metadata": {},
   "outputs": [
    {
     "data": {
      "text/html": [
       "<div>\n",
       "<style scoped>\n",
       "    .dataframe tbody tr th:only-of-type {\n",
       "        vertical-align: middle;\n",
       "    }\n",
       "\n",
       "    .dataframe tbody tr th {\n",
       "        vertical-align: top;\n",
       "    }\n",
       "\n",
       "    .dataframe thead th {\n",
       "        text-align: right;\n",
       "    }\n",
       "</style>\n",
       "<table border=\"1\" class=\"dataframe\">\n",
       "  <thead>\n",
       "    <tr style=\"text-align: right;\">\n",
       "      <th></th>\n",
       "      <th>YearBuilt</th>\n",
       "      <th>YearRemodAdd</th>\n",
       "      <th>Renovated</th>\n",
       "      <th>YrSold</th>\n",
       "      <th>Age</th>\n",
       "    </tr>\n",
       "  </thead>\n",
       "  <tbody>\n",
       "    <tr>\n",
       "      <th>0</th>\n",
       "      <td>2003</td>\n",
       "      <td>2003</td>\n",
       "      <td>0</td>\n",
       "      <td>2008</td>\n",
       "      <td>5</td>\n",
       "    </tr>\n",
       "    <tr>\n",
       "      <th>1</th>\n",
       "      <td>1976</td>\n",
       "      <td>1976</td>\n",
       "      <td>0</td>\n",
       "      <td>2007</td>\n",
       "      <td>31</td>\n",
       "    </tr>\n",
       "    <tr>\n",
       "      <th>2</th>\n",
       "      <td>2001</td>\n",
       "      <td>2002</td>\n",
       "      <td>1</td>\n",
       "      <td>2008</td>\n",
       "      <td>7</td>\n",
       "    </tr>\n",
       "    <tr>\n",
       "      <th>3</th>\n",
       "      <td>1915</td>\n",
       "      <td>1970</td>\n",
       "      <td>1</td>\n",
       "      <td>2006</td>\n",
       "      <td>91</td>\n",
       "    </tr>\n",
       "    <tr>\n",
       "      <th>4</th>\n",
       "      <td>2000</td>\n",
       "      <td>2000</td>\n",
       "      <td>0</td>\n",
       "      <td>2008</td>\n",
       "      <td>8</td>\n",
       "    </tr>\n",
       "  </tbody>\n",
       "</table>\n",
       "</div>"
      ],
      "text/plain": [
       "   YearBuilt  YearRemodAdd  Renovated  YrSold  Age\n",
       "0       2003          2003          0    2008    5\n",
       "1       1976          1976          0    2007   31\n",
       "2       2001          2002          1    2008    7\n",
       "3       1915          1970          1    2006   91\n",
       "4       2000          2000          0    2008    8"
      ]
     },
     "execution_count": 713,
     "metadata": {},
     "output_type": "execute_result"
    }
   ],
   "source": [
    "df[['YearBuilt','YearRemodAdd','Renovated','YrSold','Age',]].head()"
   ]
  },
  {
   "cell_type": "code",
   "execution_count": 714,
   "metadata": {},
   "outputs": [],
   "source": [
    "df.drop('YearRemodAdd',axis=1,inplace=True)"
   ]
  },
  {
   "cell_type": "code",
   "execution_count": 715,
   "metadata": {},
   "outputs": [],
   "source": [
    "df['TotalBath'] = df['FullBath'] + df['BsmtFullBath'] + 0.5*(df['HalfBath'] + df['BsmtHalfBath'])"
   ]
  },
  {
   "cell_type": "code",
   "execution_count": 716,
   "metadata": {},
   "outputs": [],
   "source": [
    "df.drop('FullBath', axis=1, inplace=True)\n",
    "df.drop('BsmtFullBath', axis=1, inplace=True)\n",
    "df.drop('HalfBath', axis=1, inplace=True)\n",
    "df.drop('BsmtHalfBath', axis=1, inplace=True)"
   ]
  },
  {
   "cell_type": "markdown",
   "metadata": {},
   "source": [
    "### Exploring SalePrice\n",
    "\n",
    "1. Identified Outliers -> Drop"
   ]
  },
  {
   "cell_type": "code",
   "execution_count": 717,
   "metadata": {},
   "outputs": [
    {
     "data": {
      "image/png": "[encoded data removed]",
      "text/plain": [
       "<Figure size 576x288 with 1 Axes>"
      ]
     },
     "metadata": {
      "image/png": {
       "height": 322,
       "width": 524
      }
     },
     "output_type": "display_data"
    }
   ],
   "source": [
    "fig = plt.figure(figsize=(8,4))\n",
    "\n",
    "ax = sns.distplot(df['SalePrice'], bins=30, kde=True)\n",
    "ax.set_title('SalePrice Distribution\\n', fontsize=30)\n",
    "ax.set_ylabel('No. of Homes', fontsize=16)\n",
    "ax.set_xlabel('Price in USD', fontsize=16)\n",
    "plt.show()"
   ]
  },
  {
   "cell_type": "code",
   "execution_count": 718,
   "metadata": {},
   "outputs": [
    {
     "data": {
      "image/png": "[encoded data removed]",
      "text/plain": [
       "<Figure size 432x288 with 1 Axes>"
      ]
     },
     "metadata": {
      "image/png": {
       "height": 322,
       "width": 349
      }
     },
     "output_type": "display_data"
    }
   ],
   "source": [
    "fig = plt.figure(figsize=(6,4))\n",
    "ax = fig.gca()\n",
    "\n",
    "ax = sns.boxplot(df['SalePrice'], orient='h',\n",
    "                fliersize=8, linewidth=2, notch=False,\n",
    "                saturation=0.5, ax=ax)\n",
    "\n",
    "ax.set_title('SalePrice Boxplot\\n', fontsize=30)\n",
    "ax.set_xlabel('Price in USD', fontsize=16)\n",
    "\n",
    "plt.show()"
   ]
  },
  {
   "cell_type": "code",
   "execution_count": 719,
   "metadata": {},
   "outputs": [
    {
     "data": {
      "text/plain": [
       "<matplotlib.axes._subplots.AxesSubplot at 0x1a0b5aef90>"
      ]
     },
     "execution_count": 719,
     "metadata": {},
     "output_type": "execute_result"
    },
    {
     "data": {
      "image/png": "[encoded data removed]",
      "text/plain": [
       "<Figure size 432x288 with 1 Axes>"
      ]
     },
     "metadata": {
      "image/png": {
       "height": 258,
       "width": 399
      }
     },
     "output_type": "display_data"
    }
   ],
   "source": [
    "sns.boxplot(df['YrSold'],df['SalePrice'])"
   ]
  },
  {
   "cell_type": "code",
   "execution_count": 720,
   "metadata": {},
   "outputs": [
    {
     "data": {
      "text/html": [
       "<div>\n",
       "<style scoped>\n",
       "    .dataframe tbody tr th:only-of-type {\n",
       "        vertical-align: middle;\n",
       "    }\n",
       "\n",
       "    .dataframe tbody tr th {\n",
       "        vertical-align: top;\n",
       "    }\n",
       "\n",
       "    .dataframe thead th {\n",
       "        text-align: right;\n",
       "    }\n",
       "</style>\n",
       "<table border=\"1\" class=\"dataframe\">\n",
       "  <thead>\n",
       "    <tr style=\"text-align: right;\">\n",
       "      <th></th>\n",
       "      <th>MSSubClass</th>\n",
       "      <th>MSZoning</th>\n",
       "      <th>LotFrontage</th>\n",
       "      <th>LotArea</th>\n",
       "      <th>Street</th>\n",
       "      <th>LotShape</th>\n",
       "      <th>LandContour</th>\n",
       "      <th>Utilities</th>\n",
       "      <th>LotConfig</th>\n",
       "      <th>LandSlope</th>\n",
       "      <th>...</th>\n",
       "      <th>3SsnPorch</th>\n",
       "      <th>ScreenPorch</th>\n",
       "      <th>MoSold</th>\n",
       "      <th>YrSold</th>\n",
       "      <th>SaleType</th>\n",
       "      <th>SaleCondition</th>\n",
       "      <th>SalePrice</th>\n",
       "      <th>Age</th>\n",
       "      <th>Renovated</th>\n",
       "      <th>TotalBath</th>\n",
       "    </tr>\n",
       "  </thead>\n",
       "  <tbody>\n",
       "    <tr>\n",
       "      <th>691</th>\n",
       "      <td>60</td>\n",
       "      <td>RL</td>\n",
       "      <td>104.0</td>\n",
       "      <td>21535</td>\n",
       "      <td>Pave</td>\n",
       "      <td>IR1</td>\n",
       "      <td>Lvl</td>\n",
       "      <td>AllPub</td>\n",
       "      <td>Corner</td>\n",
       "      <td>Gtl</td>\n",
       "      <td>...</td>\n",
       "      <td>0</td>\n",
       "      <td>0</td>\n",
       "      <td>1</td>\n",
       "      <td>2007</td>\n",
       "      <td>WD</td>\n",
       "      <td>Normal</td>\n",
       "      <td>755000</td>\n",
       "      <td>13</td>\n",
       "      <td>1</td>\n",
       "      <td>4.0</td>\n",
       "    </tr>\n",
       "    <tr>\n",
       "      <th>1182</th>\n",
       "      <td>60</td>\n",
       "      <td>RL</td>\n",
       "      <td>160.0</td>\n",
       "      <td>15623</td>\n",
       "      <td>Pave</td>\n",
       "      <td>IR1</td>\n",
       "      <td>Lvl</td>\n",
       "      <td>AllPub</td>\n",
       "      <td>Corner</td>\n",
       "      <td>Gtl</td>\n",
       "      <td>...</td>\n",
       "      <td>0</td>\n",
       "      <td>0</td>\n",
       "      <td>7</td>\n",
       "      <td>2007</td>\n",
       "      <td>WD</td>\n",
       "      <td>Abnorml</td>\n",
       "      <td>745000</td>\n",
       "      <td>11</td>\n",
       "      <td>0</td>\n",
       "      <td>4.5</td>\n",
       "    </tr>\n",
       "  </tbody>\n",
       "</table>\n",
       "<p>2 rows × 71 columns</p>\n",
       "</div>"
      ],
      "text/plain": [
       "      MSSubClass MSZoning  LotFrontage  LotArea Street LotShape LandContour  \\\n",
       "691           60       RL        104.0    21535   Pave      IR1         Lvl   \n",
       "1182          60       RL        160.0    15623   Pave      IR1         Lvl   \n",
       "\n",
       "     Utilities LotConfig LandSlope    ...    3SsnPorch ScreenPorch MoSold  \\\n",
       "691     AllPub    Corner       Gtl    ...            0           0      1   \n",
       "1182    AllPub    Corner       Gtl    ...            0           0      7   \n",
       "\n",
       "     YrSold SaleType  SaleCondition  SalePrice  Age Renovated TotalBath  \n",
       "691    2007       WD         Normal     755000   13         1       4.0  \n",
       "1182   2007       WD        Abnorml     745000   11         0       4.5  \n",
       "\n",
       "[2 rows x 71 columns]"
      ]
     },
     "execution_count": 720,
     "metadata": {},
     "output_type": "execute_result"
    }
   ],
   "source": [
    "df[df['SalePrice']>700000]"
   ]
  },
  {
   "cell_type": "code",
   "execution_count": 721,
   "metadata": {},
   "outputs": [],
   "source": [
    "df.drop(df[df['SalePrice']>700000].index,inplace=True)"
   ]
  },
  {
   "cell_type": "code",
   "execution_count": 722,
   "metadata": {},
   "outputs": [
    {
     "data": {
      "image/png": "[encoded data removed]",
      "text/plain": [
       "<Figure size 576x288 with 1 Axes>"
      ]
     },
     "metadata": {
      "image/png": {
       "height": 322,
       "width": 538
      }
     },
     "output_type": "display_data"
    }
   ],
   "source": [
    "fig = plt.figure(figsize=(8,4))\n",
    "\n",
    "ax = sns.distplot(df['SalePrice'], bins=30, kde=True)\n",
    "ax.set_title('SalePrice Distribution\\n', fontsize=30)\n",
    "ax.set_ylabel('No. of Homes', fontsize=16)\n",
    "ax.set_xlabel('Price in USD', fontsize=16)\n",
    "plt.show()"
   ]
  },
  {
   "cell_type": "code",
   "execution_count": 723,
   "metadata": {},
   "outputs": [
    {
     "data": {
      "text/plain": [
       "71"
      ]
     },
     "execution_count": 723,
     "metadata": {},
     "output_type": "execute_result"
    }
   ],
   "source": [
    "len(df.columns)"
   ]
  },
  {
   "cell_type": "code",
   "execution_count": 724,
   "metadata": {},
   "outputs": [
    {
     "data": {
      "text/plain": [
       "Index([u'MSSubClass', u'MSZoning', u'LotFrontage', u'LotArea', u'Street',\n",
       "       u'LotShape', u'LandContour', u'Utilities', u'LotConfig', u'LandSlope',\n",
       "       u'Neighborhood', u'Condition1', u'Condition2', u'BldgType',\n",
       "       u'HouseStyle', u'OverallQual', u'OverallCond', u'YearBuilt',\n",
       "       u'RoofStyle', u'RoofMatl', u'Exterior1st', u'Exterior2nd',\n",
       "       u'MasVnrType', u'MasVnrArea', u'ExterQual', u'ExterCond', u'Foundation',\n",
       "       u'BsmtQual', u'BsmtCond', u'BsmtExposure', u'BsmtFinType1',\n",
       "       u'BsmtFinSF1', u'BsmtFinType2', u'BsmtFinSF2', u'BsmtUnfSF',\n",
       "       u'TotalBsmtSF', u'Heating', u'HeatingQC', u'CentralAir', u'Electrical',\n",
       "       u'1stFlrSF', u'2ndFlrSF', u'LowQualFinSF', u'GrLivArea',\n",
       "       u'BedroomAbvGr', u'KitchenAbvGr', u'KitchenQual', u'TotRmsAbvGrd',\n",
       "       u'Functional', u'Fireplaces', u'FireplaceQu', u'GarageType',\n",
       "       u'GarageFinish', u'GarageCars', u'GarageArea', u'GarageQual',\n",
       "       u'GarageCond', u'PavedDrive', u'WoodDeckSF', u'OpenPorchSF',\n",
       "       u'EnclosedPorch', u'3SsnPorch', u'ScreenPorch', u'MoSold', u'YrSold',\n",
       "       u'SaleType', u'SaleCondition', u'SalePrice', u'Age', u'Renovated',\n",
       "       u'TotalBath'],\n",
       "      dtype='object')"
      ]
     },
     "execution_count": 724,
     "metadata": {},
     "output_type": "execute_result"
    }
   ],
   "source": [
    "df.columns"
   ]
  },
  {
   "cell_type": "markdown",
   "metadata": {},
   "source": [
    "### Fixed\n",
    "**Continous Features**\n",
    "LotFrontage,LotArea,MasVnrArea,1stFlrSF,2ndFlrSF,LowQualFinSF,GrLivArea,TotalBath,BedroomAbvGr,KitchenAbvGr,TotRmsAbvGrd,Fireplaces,GarageCars,GarageArea,WoodDeckSF,OpenPorchSF, EnclosedPorch, 3SsnPorch, ScreenPorch,BsmtFinSF1,BsmtFinSF2,BsmtUnfSF,TotalBsmtSF,YearBuilt,\n",
    "Age,YrSold,\n",
    "\n",
    "**Ordinal Features**\n",
    "ExterQual,ExterCond,BsmtQual,BsmtCond,BsmtExposure,OverallQual,OverallCond,\n",
    "\n",
    "**Categorical Features**\n",
    "MSSubClass, MSZoning, Street,LotShape,LandContour, Utilities, LotConfig, LandSlope,Neighborhood,BldgType,HouseStyle,\n",
    "MasVnrType,Foundation,CentralAir,Functional, GarageType,PavedDrive,\n",
    "\n",
    "Exterior1st,Exterior2nd,Condition1,Condition2,\n",
    "\n",
    "### Renovable\n",
    "\n",
    "**Ordinal Features**\n",
    "BsmtFinType1,BsmtFinType2,FireplaceQu,KitchenQual,GarageFinish,HeatingQC,GarageQual,GarageCond,\n",
    "\n",
    "**Categorical Features**\n",
    "Renovated',RoofStyle', RoofMatl',MoSold',SaleType,Electrical',Heating',\n",
    "\n",
    "### Target\n",
    "SalePrice, SaleCondition"
   ]
  },
  {
   "cell_type": "markdown",
   "metadata": {},
   "source": [
    "## Handling unscaled ordinal categories\n",
    "\n",
    "ExterQual, ExterCond, BsmtQual, BsmtCond, BsmtExposure, BsmtFinType1, BsmtFinType2, HeatingQC, KitchenQual, FireplaceQu, GarageFinish, GarageQual, GarageCond,"
   ]
  },
  {
   "cell_type": "code",
   "execution_count": 725,
   "metadata": {},
   "outputs": [],
   "source": [
    "# ExterQual\n",
    "scale_mapper = {'Ex':5, \n",
    "                'Gd':4,\n",
    "                'TA':3,\n",
    "                'Fa':2,\n",
    "                'Po':1}\n",
    "\n",
    "# Map feature values to scale\n",
    "df['ExterQual'].replace(scale_mapper, inplace=True)\n",
    "\n",
    "# ExterCond\n",
    "scale_mapper = {'Ex':5, \n",
    "                'Gd':4,\n",
    "                'TA':3,\n",
    "                'Fa':2,\n",
    "                'Po':1}\n",
    "\n",
    "# Map feature values to scale\n",
    "df['ExterCond'].replace(scale_mapper, inplace=True)\n",
    "\n",
    "# BsmtQual\n",
    "scale_mapper = {'Ex':5, \n",
    "                'Gd':4,\n",
    "                'TA':3,\n",
    "                'Fa':2,\n",
    "                'Po':1,\n",
    "                'NoBsmt':0}\n",
    "\n",
    "# Map feature values to scale\n",
    "df['BsmtQual'].replace(scale_mapper, inplace=True)\n",
    "\n",
    "# BsmtCond\n",
    "scale_mapper = {'Ex':5, \n",
    "                'Gd':4,\n",
    "                'TA':3,\n",
    "                'Fa':2,\n",
    "                'Po':1,\n",
    "                'NoBsmt':0}\n",
    "\n",
    "# Map feature values to scale\n",
    "df['BsmtCond'].replace(scale_mapper, inplace=True)\n",
    "\n",
    "# BsmtExposure\n",
    "scale_mapper = {'Gd':3,\n",
    "                'Av':2,\n",
    "                'Mn':1,\n",
    "                'No':0,\n",
    "                'NoBsmt':0}\n",
    "\n",
    "# Map feature values to scale\n",
    "df['BsmtExposure'].replace(scale_mapper, inplace=True)\n",
    "\n",
    "# BsmtFinType1\n",
    "scale_mapper = {'GLQ':6,\n",
    "                'ALQ':5,\n",
    "                'BLQ':4,\n",
    "                'Rec':3,\n",
    "                'LwQ':2,\n",
    "                'Unf':1,\n",
    "                'NoBsmt':0}\n",
    "\n",
    "# Map feature values to scale\n",
    "df['BsmtFinType1'].replace(scale_mapper, inplace=True)\n",
    "\n",
    "# BsmtFinType2\n",
    "scale_mapper = {'GLQ':6,\n",
    "                'ALQ':5,\n",
    "                'BLQ':4,\n",
    "                'Rec':3,\n",
    "                'LwQ':2,\n",
    "                'Unf':1,\n",
    "                'NoBsmt':0}\n",
    "\n",
    "# Map feature values to scale\n",
    "df['BsmtFinType2'].replace(scale_mapper, inplace=True)\n",
    "\n",
    "# HeatingQC\n",
    "scale_mapper = {'Ex':5, \n",
    "                'Gd':4,\n",
    "                'TA':3,\n",
    "                'Fa':2,\n",
    "                'Po':1,\n",
    "                'NoBsmt':0}\n",
    "\n",
    "# Map feature values to scale\n",
    "df['HeatingQC'].replace(scale_mapper, inplace=True)\n",
    "\n",
    "# KitchenQual\n",
    "scale_mapper = {'Ex':5, \n",
    "                'Gd':4,\n",
    "                'TA':3,\n",
    "                'Fa':2,\n",
    "                'Po':1,\n",
    "                'NoBsmt':0}\n",
    "\n",
    "# Map feature values to scale\n",
    "df['KitchenQual'].replace(scale_mapper, inplace=True)\n",
    "\n",
    "#  FireplaceQu\n",
    "scale_mapper = {'Ex':5, \n",
    "                'Gd':4,\n",
    "                'TA':3,\n",
    "                'Fa':2,\n",
    "                'Po':1,\n",
    "                'NoFireplace':0}\n",
    "\n",
    "# Map feature values to scale\n",
    "df['FireplaceQu'].replace(scale_mapper, inplace=True)\n",
    "\n",
    "#  GarageFinish\n",
    "scale_mapper = {'Fin':3,\n",
    "                'RFn':2,\n",
    "                'Unf':1,\n",
    "                'NA':0,\n",
    "                'NoGarage':0}\n",
    "\n",
    "# Map feature values to scale\n",
    "df['GarageFinish'].replace(scale_mapper, inplace=True)\n",
    "\n",
    "#  GarageQual\n",
    "scale_mapper = {'Ex':5, \n",
    "                'Gd':4,\n",
    "                'TA':3,\n",
    "                'Fa':2,\n",
    "                'Po':1,\n",
    "                'NoGarage':0}\n",
    "\n",
    "# Map feature values to scale\n",
    "df['GarageQual'].replace(scale_mapper, inplace=True)\n",
    "\n",
    "#  GarageCond\n",
    "scale_mapper = {'Ex':5, \n",
    "                'Gd':4,\n",
    "                'TA':3,\n",
    "                'Fa':2,\n",
    "                'Po':1,\n",
    "                'NoGarage':0}\n",
    "\n",
    "# Map feature values to scale\n",
    "df['GarageCond'].replace(scale_mapper, inplace=True)\n",
    "\n",
    "#  Functional\n",
    "scale_mapper = {'Typ':7, \n",
    "                'Min1':6,\n",
    "                'Min2':5,\n",
    "                'Mod':4,\n",
    "                'Maj1':3,\n",
    "                'Maj2':2,\n",
    "                'Sev':1,\n",
    "                'Sal':0}\n",
    "\n",
    "# Map feature values to scale\n",
    "df['Functional'].replace(scale_mapper, inplace=True)"
   ]
  },
  {
   "cell_type": "markdown",
   "metadata": {},
   "source": [
    "### Handling Categorical Features - Recurring"
   ]
  },
  {
   "cell_type": "code",
   "execution_count": 726,
   "metadata": {},
   "outputs": [
    {
     "name": "stdout",
     "output_type": "stream",
     "text": [
      "WdShing\n",
      "CemntBd\n",
      "BrkComm\n"
     ]
    }
   ],
   "source": [
    "for i in list(df['Exterior1st'].unique()):\n",
    "    if i not in list(df['Exterior2nd'].unique()):\n",
    "                     print i"
   ]
  },
  {
   "cell_type": "code",
   "execution_count": 727,
   "metadata": {},
   "outputs": [
    {
     "name": "stdout",
     "output_type": "stream",
     "text": [
      "Wd Shng\n",
      "CmentBd\n",
      "Brk Cmn\n",
      "Other\n"
     ]
    }
   ],
   "source": [
    "for i in list(df['Exterior2nd'].unique()):\n",
    "    if i not in list(df['Exterior1st'].unique()):\n",
    "                     print i"
   ]
  },
  {
   "cell_type": "code",
   "execution_count": 728,
   "metadata": {},
   "outputs": [],
   "source": [
    "# Changing Values in Exterior2nd to match\n",
    "df['Exterior2nd'] = df['Exterior2nd'].apply(lambda x: 'WdShing' if x == 'Wd Shng' else x)\n",
    "df['Exterior2nd'] = df['Exterior2nd'].apply(lambda x: 'CemntBd' if x == 'CmentBd' else x)\n",
    "df['Exterior2nd'] = df['Exterior2nd'].apply(lambda x: 'BrkComm' if x == 'Brk Cmn' else x)"
   ]
  },
  {
   "cell_type": "code",
   "execution_count": 729,
   "metadata": {},
   "outputs": [],
   "source": [
    "# Capturing list of values \n",
    "exterior = []\n",
    "\n",
    "for i in list(df['Exterior2nd'].unique()):\n",
    "    exterior.append(i)"
   ]
  },
  {
   "cell_type": "code",
   "execution_count": 730,
   "metadata": {},
   "outputs": [
    {
     "name": "stdout",
     "output_type": "stream",
     "text": [
      "['VinylSd', 'MetalSd', 'WdShing', 'HdBoard', 'Plywood', 'Wd Sdng', 'CemntBd', 'BrkFace', 'Stucco', 'AsbShng', 'BrkComm', 'ImStucc', 'AsphShn', 'Stone', 'Other', 'CBlock']\n"
     ]
    }
   ],
   "source": [
    "print(exterior)"
   ]
  },
  {
   "cell_type": "code",
   "execution_count": 731,
   "metadata": {},
   "outputs": [],
   "source": [
    "df['Exterior1st'] = df['Exterior1st'].apply(lambda x: 'Other' if x == 'Other' else x+str(1))\n",
    "df['Exterior2nd'] = df['Exterior2nd'].apply(lambda x: 'Other' if x == 'Other' else x+str(2))"
   ]
  },
  {
   "cell_type": "code",
   "execution_count": 732,
   "metadata": {},
   "outputs": [],
   "source": [
    "dummy = pd.get_dummies(df['Exterior1st'])\n",
    "df = pd.concat([df, dummy], axis=1)\n",
    "df.drop('Exterior1st', axis=1, inplace=True)\n",
    "\n",
    "dummy = pd.get_dummies(df['Exterior2nd'])\n",
    "df = pd.concat([df, dummy], axis=1)\n",
    "df.drop('Exterior2nd', axis=1, inplace=True)"
   ]
  },
  {
   "cell_type": "code",
   "execution_count": 733,
   "metadata": {},
   "outputs": [],
   "source": [
    "# Creating 3rd Set of Columns\n",
    "for i in ['VinylSd', 'MetalSd', 'WdShing', 'HdBoard',\n",
    "          'Plywood', 'Wd Sdng', 'CemntBd', 'BrkFace',\n",
    "          'Stucco', 'AsbShng', 'BrkComm', 'ImStucc',\n",
    "          'AsphShn', 'Stone', 'CBlock']:\n",
    "    df[i] = df[i+str(1)]+df[i+str(2)]\n",
    "    df.drop(i+str(1), axis=1, inplace=True)\n",
    "    df.drop(i+str(2), axis=1, inplace=True)\n",
    "\n",
    "# Aggregating final set\n",
    "for i in ['VinylSd','MetalSd', 'WdShing', 'HdBoard',\n",
    "          'Plywood', 'Wd Sdng', 'CemntBd', 'BrkFace',\n",
    "          'Stucco', 'AsbShng', 'BrkComm', 'ImStucc',\n",
    "          'AsphShn', 'Stone', 'CBlock','Other']:\n",
    "    df[i] = df[i].apply(lambda x: 1 if x>0 else x)"
   ]
  },
  {
   "cell_type": "code",
   "execution_count": 734,
   "metadata": {},
   "outputs": [
    {
     "data": {
      "text/html": [
       "<div>\n",
       "<style scoped>\n",
       "    .dataframe tbody tr th:only-of-type {\n",
       "        vertical-align: middle;\n",
       "    }\n",
       "\n",
       "    .dataframe tbody tr th {\n",
       "        vertical-align: top;\n",
       "    }\n",
       "\n",
       "    .dataframe thead th {\n",
       "        text-align: right;\n",
       "    }\n",
       "</style>\n",
       "<table border=\"1\" class=\"dataframe\">\n",
       "  <thead>\n",
       "    <tr style=\"text-align: right;\">\n",
       "      <th></th>\n",
       "      <th>VinylSd</th>\n",
       "      <th>MetalSd</th>\n",
       "      <th>WdShing</th>\n",
       "      <th>HdBoard</th>\n",
       "      <th>Plywood</th>\n",
       "      <th>Wd Sdng</th>\n",
       "      <th>CemntBd</th>\n",
       "      <th>BrkFace</th>\n",
       "      <th>Stucco</th>\n",
       "      <th>AsbShng</th>\n",
       "      <th>BrkComm</th>\n",
       "      <th>ImStucc</th>\n",
       "      <th>AsphShn</th>\n",
       "      <th>Stone</th>\n",
       "      <th>CBlock</th>\n",
       "      <th>Other</th>\n",
       "    </tr>\n",
       "  </thead>\n",
       "  <tbody>\n",
       "    <tr>\n",
       "      <th>0</th>\n",
       "      <td>1</td>\n",
       "      <td>0</td>\n",
       "      <td>0</td>\n",
       "      <td>0</td>\n",
       "      <td>0</td>\n",
       "      <td>0</td>\n",
       "      <td>0</td>\n",
       "      <td>0</td>\n",
       "      <td>0</td>\n",
       "      <td>0</td>\n",
       "      <td>0</td>\n",
       "      <td>0</td>\n",
       "      <td>0</td>\n",
       "      <td>0</td>\n",
       "      <td>0</td>\n",
       "      <td>0</td>\n",
       "    </tr>\n",
       "    <tr>\n",
       "      <th>1</th>\n",
       "      <td>0</td>\n",
       "      <td>1</td>\n",
       "      <td>0</td>\n",
       "      <td>0</td>\n",
       "      <td>0</td>\n",
       "      <td>0</td>\n",
       "      <td>0</td>\n",
       "      <td>0</td>\n",
       "      <td>0</td>\n",
       "      <td>0</td>\n",
       "      <td>0</td>\n",
       "      <td>0</td>\n",
       "      <td>0</td>\n",
       "      <td>0</td>\n",
       "      <td>0</td>\n",
       "      <td>0</td>\n",
       "    </tr>\n",
       "    <tr>\n",
       "      <th>2</th>\n",
       "      <td>1</td>\n",
       "      <td>0</td>\n",
       "      <td>0</td>\n",
       "      <td>0</td>\n",
       "      <td>0</td>\n",
       "      <td>0</td>\n",
       "      <td>0</td>\n",
       "      <td>0</td>\n",
       "      <td>0</td>\n",
       "      <td>0</td>\n",
       "      <td>0</td>\n",
       "      <td>0</td>\n",
       "      <td>0</td>\n",
       "      <td>0</td>\n",
       "      <td>0</td>\n",
       "      <td>0</td>\n",
       "    </tr>\n",
       "    <tr>\n",
       "      <th>3</th>\n",
       "      <td>0</td>\n",
       "      <td>0</td>\n",
       "      <td>1</td>\n",
       "      <td>0</td>\n",
       "      <td>0</td>\n",
       "      <td>1</td>\n",
       "      <td>0</td>\n",
       "      <td>0</td>\n",
       "      <td>0</td>\n",
       "      <td>0</td>\n",
       "      <td>0</td>\n",
       "      <td>0</td>\n",
       "      <td>0</td>\n",
       "      <td>0</td>\n",
       "      <td>0</td>\n",
       "      <td>0</td>\n",
       "    </tr>\n",
       "    <tr>\n",
       "      <th>4</th>\n",
       "      <td>1</td>\n",
       "      <td>0</td>\n",
       "      <td>0</td>\n",
       "      <td>0</td>\n",
       "      <td>0</td>\n",
       "      <td>0</td>\n",
       "      <td>0</td>\n",
       "      <td>0</td>\n",
       "      <td>0</td>\n",
       "      <td>0</td>\n",
       "      <td>0</td>\n",
       "      <td>0</td>\n",
       "      <td>0</td>\n",
       "      <td>0</td>\n",
       "      <td>0</td>\n",
       "      <td>0</td>\n",
       "    </tr>\n",
       "  </tbody>\n",
       "</table>\n",
       "</div>"
      ],
      "text/plain": [
       "   VinylSd  MetalSd  WdShing  HdBoard  Plywood  Wd Sdng  CemntBd  BrkFace  \\\n",
       "0        1        0        0        0        0        0        0        0   \n",
       "1        0        1        0        0        0        0        0        0   \n",
       "2        1        0        0        0        0        0        0        0   \n",
       "3        0        0        1        0        0        1        0        0   \n",
       "4        1        0        0        0        0        0        0        0   \n",
       "\n",
       "   Stucco  AsbShng  BrkComm  ImStucc  AsphShn  Stone  CBlock  Other  \n",
       "0       0        0        0        0        0      0       0      0  \n",
       "1       0        0        0        0        0      0       0      0  \n",
       "2       0        0        0        0        0      0       0      0  \n",
       "3       0        0        0        0        0      0       0      0  \n",
       "4       0        0        0        0        0      0       0      0  "
      ]
     },
     "execution_count": 734,
     "metadata": {},
     "output_type": "execute_result"
    }
   ],
   "source": [
    "df[['VinylSd','MetalSd', 'WdShing', 'HdBoard',\n",
    "          'Plywood', 'Wd Sdng', 'CemntBd', 'BrkFace',\n",
    "          'Stucco', 'AsbShng', 'BrkComm', 'ImStucc',\n",
    "          'AsphShn', 'Stone', 'CBlock','Other']].head()"
   ]
  },
  {
   "cell_type": "code",
   "execution_count": 735,
   "metadata": {},
   "outputs": [],
   "source": [
    "# Drop one dummy variable\n",
    "df.drop('VinylSd', axis=1, inplace=True)"
   ]
  },
  {
   "cell_type": "code",
   "execution_count": 736,
   "metadata": {},
   "outputs": [
    {
     "name": "stdout",
     "output_type": "stream",
     "text": [
      "RRNe\n"
     ]
    }
   ],
   "source": [
    "for i in list(df['Condition1'].unique()):\n",
    "    if i not in list(df['Condition2'].unique()):\n",
    "                     print i"
   ]
  },
  {
   "cell_type": "code",
   "execution_count": 737,
   "metadata": {},
   "outputs": [],
   "source": [
    "for i in list(df['Condition2'].unique()):\n",
    "    if i not in list(df['Condition1'].unique()):\n",
    "                     print i"
   ]
  },
  {
   "cell_type": "code",
   "execution_count": 738,
   "metadata": {},
   "outputs": [],
   "source": [
    "condition = []\n",
    "\n",
    "for i in list(df['Condition1'].unique()):\n",
    "    condition.append(i)"
   ]
  },
  {
   "cell_type": "code",
   "execution_count": 739,
   "metadata": {},
   "outputs": [
    {
     "name": "stdout",
     "output_type": "stream",
     "text": [
      "['Norm', 'Feedr', 'PosN', 'Artery', 'RRAe', 'RRNn', 'RRAn', 'PosA', 'RRNe']\n"
     ]
    }
   ],
   "source": [
    "print(condition)"
   ]
  },
  {
   "cell_type": "code",
   "execution_count": 740,
   "metadata": {},
   "outputs": [],
   "source": [
    "df['Condition1'] = df['Condition1'].apply(lambda x: 'RRNe' if x == 'RRNe' else x+str(1))\n",
    "df['Condition2'] = df['Condition2'].apply(lambda x: 'RRNe' if x == 'RRNe' else x+str(2))"
   ]
  },
  {
   "cell_type": "code",
   "execution_count": 741,
   "metadata": {},
   "outputs": [],
   "source": [
    "dummy = pd.get_dummies(df['Condition1'])\n",
    "df = pd.concat([df, dummy], axis=1)\n",
    "df.drop('Condition1', axis=1, inplace=True)\n",
    "\n",
    "dummy = pd.get_dummies(df['Condition2'])\n",
    "df = pd.concat([df, dummy], axis=1)\n",
    "df.drop('Condition2', axis=1, inplace=True)"
   ]
  },
  {
   "cell_type": "code",
   "execution_count": 742,
   "metadata": {},
   "outputs": [],
   "source": [
    "# Creating 3rd Set of Columns\n",
    "for i in ['Norm', 'Feedr', 'PosN', 'Artery', 'RRAe', 'RRNn', 'RRAn', 'PosA']:\n",
    "    df[i] = df[i+str(1)]+df[i+str(2)]\n",
    "    df.drop(i+str(1), axis=1, inplace=True)\n",
    "    df.drop(i+str(2), axis=1, inplace=True)\n",
    "\n",
    "# Aggregating final set\n",
    "for i in ['Norm', 'Feedr', 'PosN', 'Artery', 'RRAe', 'RRNn', 'RRAn', 'PosA', 'RRNe']:\n",
    "    df[i] = df[i].apply(lambda x: 1 if x>0 else x)"
   ]
  },
  {
   "cell_type": "code",
   "execution_count": 743,
   "metadata": {},
   "outputs": [
    {
     "data": {
      "text/html": [
       "<div>\n",
       "<style scoped>\n",
       "    .dataframe tbody tr th:only-of-type {\n",
       "        vertical-align: middle;\n",
       "    }\n",
       "\n",
       "    .dataframe tbody tr th {\n",
       "        vertical-align: top;\n",
       "    }\n",
       "\n",
       "    .dataframe thead th {\n",
       "        text-align: right;\n",
       "    }\n",
       "</style>\n",
       "<table border=\"1\" class=\"dataframe\">\n",
       "  <thead>\n",
       "    <tr style=\"text-align: right;\">\n",
       "      <th></th>\n",
       "      <th>Norm</th>\n",
       "      <th>Feedr</th>\n",
       "      <th>PosN</th>\n",
       "      <th>Artery</th>\n",
       "      <th>RRAe</th>\n",
       "      <th>RRNn</th>\n",
       "      <th>RRAn</th>\n",
       "      <th>PosA</th>\n",
       "      <th>RRNe</th>\n",
       "    </tr>\n",
       "  </thead>\n",
       "  <tbody>\n",
       "    <tr>\n",
       "      <th>0</th>\n",
       "      <td>1</td>\n",
       "      <td>0</td>\n",
       "      <td>0</td>\n",
       "      <td>0</td>\n",
       "      <td>0</td>\n",
       "      <td>0</td>\n",
       "      <td>0</td>\n",
       "      <td>0</td>\n",
       "      <td>0</td>\n",
       "    </tr>\n",
       "    <tr>\n",
       "      <th>1</th>\n",
       "      <td>1</td>\n",
       "      <td>1</td>\n",
       "      <td>0</td>\n",
       "      <td>0</td>\n",
       "      <td>0</td>\n",
       "      <td>0</td>\n",
       "      <td>0</td>\n",
       "      <td>0</td>\n",
       "      <td>0</td>\n",
       "    </tr>\n",
       "    <tr>\n",
       "      <th>2</th>\n",
       "      <td>1</td>\n",
       "      <td>0</td>\n",
       "      <td>0</td>\n",
       "      <td>0</td>\n",
       "      <td>0</td>\n",
       "      <td>0</td>\n",
       "      <td>0</td>\n",
       "      <td>0</td>\n",
       "      <td>0</td>\n",
       "    </tr>\n",
       "    <tr>\n",
       "      <th>3</th>\n",
       "      <td>1</td>\n",
       "      <td>0</td>\n",
       "      <td>0</td>\n",
       "      <td>0</td>\n",
       "      <td>0</td>\n",
       "      <td>0</td>\n",
       "      <td>0</td>\n",
       "      <td>0</td>\n",
       "      <td>0</td>\n",
       "    </tr>\n",
       "    <tr>\n",
       "      <th>4</th>\n",
       "      <td>1</td>\n",
       "      <td>0</td>\n",
       "      <td>0</td>\n",
       "      <td>0</td>\n",
       "      <td>0</td>\n",
       "      <td>0</td>\n",
       "      <td>0</td>\n",
       "      <td>0</td>\n",
       "      <td>0</td>\n",
       "    </tr>\n",
       "  </tbody>\n",
       "</table>\n",
       "</div>"
      ],
      "text/plain": [
       "   Norm  Feedr  PosN  Artery  RRAe  RRNn  RRAn  PosA  RRNe\n",
       "0     1      0     0       0     0     0     0     0     0\n",
       "1     1      1     0       0     0     0     0     0     0\n",
       "2     1      0     0       0     0     0     0     0     0\n",
       "3     1      0     0       0     0     0     0     0     0\n",
       "4     1      0     0       0     0     0     0     0     0"
      ]
     },
     "execution_count": 743,
     "metadata": {},
     "output_type": "execute_result"
    }
   ],
   "source": [
    "df[['Norm','Feedr','PosN','Artery','RRAe','RRNn','RRAn','PosA','RRNe']].head()"
   ]
  },
  {
   "cell_type": "code",
   "execution_count": 744,
   "metadata": {},
   "outputs": [],
   "source": [
    "# Drop one dummy variable\n",
    "df.drop('Norm',axis=1, inplace=True)"
   ]
  },
  {
   "cell_type": "markdown",
   "metadata": {},
   "source": [
    "### Handling Categorical Features - Non- Recurring"
   ]
  },
  {
   "cell_type": "code",
   "execution_count": 745,
   "metadata": {},
   "outputs": [],
   "source": [
    "# Central Air\n",
    "df['CentralAir'] = df['CentralAir'].apply(lambda x: 1 if x == 'Y' else 0)"
   ]
  },
  {
   "cell_type": "code",
   "execution_count": 746,
   "metadata": {},
   "outputs": [],
   "source": [
    "# Converting MSSubClass data type to string\n",
    "df['MSSubClass'] = df['MSSubClass'].apply(lambda x: 'Class'+str(x))"
   ]
  },
  {
   "cell_type": "code",
   "execution_count": 747,
   "metadata": {},
   "outputs": [],
   "source": [
    "# MoSold\n",
    "df['MoSold'] = df['MoSold'].apply(lambda x:'mon'+str(x))"
   ]
  },
  {
   "cell_type": "code",
   "execution_count": 748,
   "metadata": {},
   "outputs": [
    {
     "data": {
      "text/plain": [
       "1    1358\n",
       "0      89\n",
       "Name: CentralAir, dtype: int64"
      ]
     },
     "execution_count": 748,
     "metadata": {},
     "output_type": "execute_result"
    }
   ],
   "source": [
    "pd.value_counts(df['CentralAir'])"
   ]
  },
  {
   "cell_type": "code",
   "execution_count": 811,
   "metadata": {},
   "outputs": [],
   "source": [
    "# To drop off renovable features\n",
    "df1 = df.copy(deep=True)"
   ]
  },
  {
   "cell_type": "code",
   "execution_count": 812,
   "metadata": {},
   "outputs": [],
   "source": [
    "df1.drop(['BsmtFinType1','BsmtFinType2','FireplaceQu','KitchenQual','GarageFinish','GarageQual','GarageCond','HeatingQC',\n",
    "          'RoofStyle','RoofMatl','MoSold','SaleType','SaleCondition',\n",
    "          'Renovated','Electrical','Heating'], axis=1, inplace=True)"
   ]
  },
  {
   "cell_type": "code",
   "execution_count": 813,
   "metadata": {},
   "outputs": [],
   "source": [
    "# Categorical Features for part 1 Exclude YearSold, CentralAir\n",
    "Cat = ['MSSubClass','MSZoning','Street','LotShape','LandContour',\n",
    "       'Utilities','LotConfig','LandSlope','Neighborhood','BldgType',\n",
    "       'HouseStyle','MasVnrType','Foundation','GarageType','PavedDrive',]"
   ]
  },
  {
   "cell_type": "code",
   "execution_count": 814,
   "metadata": {},
   "outputs": [],
   "source": [
    "for i in Cat:\n",
    "    dummy = pd.get_dummies(df1[i],drop_first=True)\n",
    "    df1 = pd.concat([df1, dummy], axis=1)\n",
    "    df1.drop(i, axis=1, inplace=True)"
   ]
  },
  {
   "cell_type": "code",
   "execution_count": 815,
   "metadata": {},
   "outputs": [
    {
     "name": "stdout",
     "output_type": "stream",
     "text": [
      "Index([], dtype='object')\n"
     ]
    }
   ],
   "source": [
    "print(df1.select_dtypes(['object']).columns)"
   ]
  },
  {
   "cell_type": "code",
   "execution_count": 816,
   "metadata": {},
   "outputs": [
    {
     "data": {
      "text/html": [
       "<div>\n",
       "<style scoped>\n",
       "    .dataframe tbody tr th:only-of-type {\n",
       "        vertical-align: middle;\n",
       "    }\n",
       "\n",
       "    .dataframe tbody tr th {\n",
       "        vertical-align: top;\n",
       "    }\n",
       "\n",
       "    .dataframe thead th {\n",
       "        text-align: right;\n",
       "    }\n",
       "</style>\n",
       "<table border=\"1\" class=\"dataframe\">\n",
       "  <thead>\n",
       "    <tr style=\"text-align: right;\">\n",
       "      <th></th>\n",
       "      <th>LotFrontage</th>\n",
       "      <th>LotArea</th>\n",
       "      <th>OverallQual</th>\n",
       "      <th>OverallCond</th>\n",
       "      <th>YearBuilt</th>\n",
       "      <th>MasVnrArea</th>\n",
       "      <th>ExterQual</th>\n",
       "      <th>ExterCond</th>\n",
       "      <th>BsmtQual</th>\n",
       "      <th>BsmtCond</th>\n",
       "      <th>...</th>\n",
       "      <th>Stone</th>\n",
       "      <th>Wood</th>\n",
       "      <th>Attchd</th>\n",
       "      <th>Basment</th>\n",
       "      <th>BuiltIn</th>\n",
       "      <th>CarPort</th>\n",
       "      <th>Detchd</th>\n",
       "      <th>NoGarage</th>\n",
       "      <th>P</th>\n",
       "      <th>Y</th>\n",
       "    </tr>\n",
       "  </thead>\n",
       "  <tbody>\n",
       "    <tr>\n",
       "      <th>0</th>\n",
       "      <td>65.0</td>\n",
       "      <td>8450</td>\n",
       "      <td>7</td>\n",
       "      <td>5</td>\n",
       "      <td>2003</td>\n",
       "      <td>196.0</td>\n",
       "      <td>4</td>\n",
       "      <td>3</td>\n",
       "      <td>4</td>\n",
       "      <td>3</td>\n",
       "      <td>...</td>\n",
       "      <td>0</td>\n",
       "      <td>0</td>\n",
       "      <td>1</td>\n",
       "      <td>0</td>\n",
       "      <td>0</td>\n",
       "      <td>0</td>\n",
       "      <td>0</td>\n",
       "      <td>0</td>\n",
       "      <td>0</td>\n",
       "      <td>1</td>\n",
       "    </tr>\n",
       "    <tr>\n",
       "      <th>1</th>\n",
       "      <td>80.0</td>\n",
       "      <td>9600</td>\n",
       "      <td>6</td>\n",
       "      <td>8</td>\n",
       "      <td>1976</td>\n",
       "      <td>0.0</td>\n",
       "      <td>3</td>\n",
       "      <td>3</td>\n",
       "      <td>4</td>\n",
       "      <td>3</td>\n",
       "      <td>...</td>\n",
       "      <td>0</td>\n",
       "      <td>0</td>\n",
       "      <td>1</td>\n",
       "      <td>0</td>\n",
       "      <td>0</td>\n",
       "      <td>0</td>\n",
       "      <td>0</td>\n",
       "      <td>0</td>\n",
       "      <td>0</td>\n",
       "      <td>1</td>\n",
       "    </tr>\n",
       "    <tr>\n",
       "      <th>2</th>\n",
       "      <td>68.0</td>\n",
       "      <td>11250</td>\n",
       "      <td>7</td>\n",
       "      <td>5</td>\n",
       "      <td>2001</td>\n",
       "      <td>162.0</td>\n",
       "      <td>4</td>\n",
       "      <td>3</td>\n",
       "      <td>4</td>\n",
       "      <td>3</td>\n",
       "      <td>...</td>\n",
       "      <td>0</td>\n",
       "      <td>0</td>\n",
       "      <td>1</td>\n",
       "      <td>0</td>\n",
       "      <td>0</td>\n",
       "      <td>0</td>\n",
       "      <td>0</td>\n",
       "      <td>0</td>\n",
       "      <td>0</td>\n",
       "      <td>1</td>\n",
       "    </tr>\n",
       "    <tr>\n",
       "      <th>3</th>\n",
       "      <td>60.0</td>\n",
       "      <td>9550</td>\n",
       "      <td>7</td>\n",
       "      <td>5</td>\n",
       "      <td>1915</td>\n",
       "      <td>0.0</td>\n",
       "      <td>3</td>\n",
       "      <td>3</td>\n",
       "      <td>3</td>\n",
       "      <td>4</td>\n",
       "      <td>...</td>\n",
       "      <td>0</td>\n",
       "      <td>0</td>\n",
       "      <td>0</td>\n",
       "      <td>0</td>\n",
       "      <td>0</td>\n",
       "      <td>0</td>\n",
       "      <td>1</td>\n",
       "      <td>0</td>\n",
       "      <td>0</td>\n",
       "      <td>1</td>\n",
       "    </tr>\n",
       "    <tr>\n",
       "      <th>4</th>\n",
       "      <td>84.0</td>\n",
       "      <td>14260</td>\n",
       "      <td>8</td>\n",
       "      <td>5</td>\n",
       "      <td>2000</td>\n",
       "      <td>350.0</td>\n",
       "      <td>4</td>\n",
       "      <td>3</td>\n",
       "      <td>4</td>\n",
       "      <td>3</td>\n",
       "      <td>...</td>\n",
       "      <td>0</td>\n",
       "      <td>0</td>\n",
       "      <td>1</td>\n",
       "      <td>0</td>\n",
       "      <td>0</td>\n",
       "      <td>0</td>\n",
       "      <td>0</td>\n",
       "      <td>0</td>\n",
       "      <td>0</td>\n",
       "      <td>1</td>\n",
       "    </tr>\n",
       "  </tbody>\n",
       "</table>\n",
       "<p>5 rows × 141 columns</p>\n",
       "</div>"
      ],
      "text/plain": [
       "   LotFrontage  LotArea  OverallQual  OverallCond  YearBuilt  MasVnrArea  \\\n",
       "0         65.0     8450            7            5       2003       196.0   \n",
       "1         80.0     9600            6            8       1976         0.0   \n",
       "2         68.0    11250            7            5       2001       162.0   \n",
       "3         60.0     9550            7            5       1915         0.0   \n",
       "4         84.0    14260            8            5       2000       350.0   \n",
       "\n",
       "   ExterQual  ExterCond  BsmtQual  BsmtCond ...  Stone  Wood  Attchd  Basment  \\\n",
       "0          4          3         4         3 ...      0     0       1        0   \n",
       "1          3          3         4         3 ...      0     0       1        0   \n",
       "2          4          3         4         3 ...      0     0       1        0   \n",
       "3          3          3         3         4 ...      0     0       0        0   \n",
       "4          4          3         4         3 ...      0     0       1        0   \n",
       "\n",
       "   BuiltIn  CarPort  Detchd  NoGarage  P  Y  \n",
       "0        0        0       0         0  0  1  \n",
       "1        0        0       0         0  0  1  \n",
       "2        0        0       0         0  0  1  \n",
       "3        0        0       1         0  0  1  \n",
       "4        0        0       0         0  0  1  \n",
       "\n",
       "[5 rows x 141 columns]"
      ]
     },
     "execution_count": 816,
     "metadata": {},
     "output_type": "execute_result"
    }
   ],
   "source": [
    "df1.head()"
   ]
  },
  {
   "cell_type": "code",
   "execution_count": 817,
   "metadata": {},
   "outputs": [],
   "source": [
    "# Defining training and test set\n",
    "train = df1[df1['YrSold'] < 2010]\n",
    "test = df1[df1['YrSold'] == 2010]"
   ]
  },
  {
   "cell_type": "code",
   "execution_count": 818,
   "metadata": {},
   "outputs": [],
   "source": [
    "cols = list(df1.columns)\n",
    "cols.remove('SalePrice')\n",
    "\n",
    "X_train = train[cols]\n",
    "X_test = test[cols]\n",
    "\n",
    "y_train = train['SalePrice'].values\n",
    "y_test = test['SalePrice'].values"
   ]
  },
  {
   "cell_type": "code",
   "execution_count": 819,
   "metadata": {},
   "outputs": [
    {
     "data": {
      "text/plain": [
       "180879.17484450588"
      ]
     },
     "execution_count": 819,
     "metadata": {},
     "output_type": "execute_result"
    }
   ],
   "source": [
    "baseline = df1['SalePrice'].mean()\n",
    "baseline"
   ]
  },
  {
   "cell_type": "code",
   "execution_count": 820,
   "metadata": {},
   "outputs": [
    {
     "name": "stdout",
     "output_type": "stream",
     "text": [
      "(1275, 150) (1275,)\n",
      "(172, 150) (172,)\n"
     ]
    }
   ],
   "source": [
    "print X_train.shape, y_train.shape\n",
    "print X_test.shape, y_test.shape"
   ]
  },
  {
   "cell_type": "code",
   "execution_count": 821,
   "metadata": {},
   "outputs": [
    {
     "data": {
      "text/html": [
       "<div>\n",
       "<style scoped>\n",
       "    .dataframe tbody tr th:only-of-type {\n",
       "        vertical-align: middle;\n",
       "    }\n",
       "\n",
       "    .dataframe tbody tr th {\n",
       "        vertical-align: top;\n",
       "    }\n",
       "\n",
       "    .dataframe thead th {\n",
       "        text-align: right;\n",
       "    }\n",
       "</style>\n",
       "<table border=\"1\" class=\"dataframe\">\n",
       "  <thead>\n",
       "    <tr style=\"text-align: right;\">\n",
       "      <th></th>\n",
       "      <th>feature</th>\n",
       "      <th>f_classif</th>\n",
       "      <th>chi2 score</th>\n",
       "    </tr>\n",
       "  </thead>\n",
       "  <tbody>\n",
       "    <tr>\n",
       "      <th>35</th>\n",
       "      <td>Other</td>\n",
       "      <td>inf</td>\n",
       "      <td>1274</td>\n",
       "    </tr>\n",
       "    <tr>\n",
       "      <th>2</th>\n",
       "      <td>OverallQual</td>\n",
       "      <td>5.24173</td>\n",
       "      <td>324.257</td>\n",
       "    </tr>\n",
       "    <tr>\n",
       "      <th>108</th>\n",
       "      <td>SawyerW</td>\n",
       "      <td>4.76624</td>\n",
       "      <td>978.893</td>\n",
       "    </tr>\n",
       "    <tr>\n",
       "      <th>6</th>\n",
       "      <td>ExterQual</td>\n",
       "      <td>3.56161</td>\n",
       "      <td>92.5591</td>\n",
       "    </tr>\n",
       "    <tr>\n",
       "      <th>79</th>\n",
       "      <td>HLS</td>\n",
       "      <td>3.30695</td>\n",
       "      <td>2.24823</td>\n",
       "    </tr>\n",
       "    <tr>\n",
       "      <th>1</th>\n",
       "      <td>LotArea</td>\n",
       "      <td>3.22246</td>\n",
       "      <td>9.74459e+06</td>\n",
       "    </tr>\n",
       "    <tr>\n",
       "      <th>107</th>\n",
       "      <td>Sawyer</td>\n",
       "      <td>3.21084</td>\n",
       "      <td>924.582</td>\n",
       "    </tr>\n",
       "    <tr>\n",
       "      <th>19</th>\n",
       "      <td>GrLivArea</td>\n",
       "      <td>3.14107</td>\n",
       "      <td>165602</td>\n",
       "    </tr>\n",
       "    <tr>\n",
       "      <th>8</th>\n",
       "      <td>BsmtQual</td>\n",
       "      <td>2.98017</td>\n",
       "      <td>205.044</td>\n",
       "    </tr>\n",
       "    <tr>\n",
       "      <th>34</th>\n",
       "      <td>TotalBath</td>\n",
       "      <td>2.95038</td>\n",
       "      <td>262.12</td>\n",
       "    </tr>\n",
       "  </tbody>\n",
       "</table>\n",
       "</div>"
      ],
      "text/plain": [
       "         feature f_classif   chi2 score\n",
       "35         Other       inf         1274\n",
       "2    OverallQual   5.24173      324.257\n",
       "108      SawyerW   4.76624      978.893\n",
       "6      ExterQual   3.56161      92.5591\n",
       "79           HLS   3.30695      2.24823\n",
       "1        LotArea   3.22246  9.74459e+06\n",
       "107       Sawyer   3.21084      924.582\n",
       "19     GrLivArea   3.14107       165602\n",
       "8       BsmtQual   2.98017      205.044\n",
       "34     TotalBath   2.95038       262.12"
      ]
     },
     "execution_count": 821,
     "metadata": {},
     "output_type": "execute_result"
    }
   ],
   "source": [
    "# Using KBest to determine best features\n",
    "from sklearn.feature_selection import SelectKBest, chi2, f_classif\n",
    "\n",
    "# Build the selector — we'll build one with each score type.\n",
    "skb_f = SelectKBest(f_classif, k=20)\n",
    "skb_chi2 = SelectKBest(chi2, k=20)\n",
    "\n",
    "# Train the selector on the data.\n",
    "skb_f.fit(X_train, y_train)\n",
    "skb_chi2.fit(X_train, y_train)\n",
    "\n",
    "# Examine the results.\n",
    "kbest = pd.DataFrame([cols, list(skb_f.scores_), list(skb_chi2.scores_)], \n",
    "                     index=['feature','f_classif','chi2 score']).T.sort_values('f_classif', ascending=False)\n",
    "kbest.head(10)"
   ]
  },
  {
   "cell_type": "markdown",
   "metadata": {},
   "source": [
    "Based on Kbest, the following features \n",
    "**['Other','OverallQual','Neighbourhood', 'ExterQual', 'LotArea', 'LandContour','GrLivArea','BsmtQual','TotalBath']**\n",
    "\n"
   ]
  },
  {
   "cell_type": "code",
   "execution_count": 822,
   "metadata": {},
   "outputs": [],
   "source": [
    "# Repeat Steps with Lasso Linear Regression\n",
    "\n",
    "cols = list(df1.columns)\n",
    "cols.remove('SalePrice')\n",
    "\n",
    "X_train = train[cols]\n",
    "X_test = test[cols]\n",
    "\n",
    "y_train = train['SalePrice'].values\n",
    "y_test = test['SalePrice'].values"
   ]
  },
  {
   "cell_type": "code",
   "execution_count": 823,
   "metadata": {},
   "outputs": [],
   "source": [
    "from sklearn.preprocessing import StandardScaler\n",
    "\n",
    "ss = StandardScaler()\n",
    "Xs = ss.fit_transform(X_train)\n",
    "Xst = ss.fit_transform(X_test)"
   ]
  },
  {
   "cell_type": "code",
   "execution_count": 824,
   "metadata": {},
   "outputs": [
    {
     "name": "stderr",
     "output_type": "stream",
     "text": [
      "........................................................................................................................................................................................................................................................................................................................................................................................................................................................................................................................................................................................................................................................................................................................................................................................................................................................................................................................................................................................................................................................................................................................................................................................................................................................................................................................................................................................................................................................................................................................................................................................................................................................................................................................................................................................................................................................................................................................................................................................................................................................................................................................................................................................................................................................................................................................................................................................................................................................................................................................................................................................................................................................................................................................................................................................................................................................................................................................................................................................................................................................................................................................................................................................................................................................................................................................................................................................................................................................................................................................................................................................................................................................................................................................................................................................................................................................................................................................................................................................................................................................................................................................................................................................................................................................................................................................................................................................................................................................................................................................................................................................................................................................................................................................................................................................................................................................................................................................................................................................................................................................................................................................................................................................................[Parallel(n_jobs=1)]: Done  10 out of  10 | elapsed:    2.1s finished\n"
     ]
    },
    {
     "name": "stdout",
     "output_type": "stream",
     "text": [
      "[ 0.89317874  0.8847524   0.88253239  0.78965891  0.87640269  0.86225131\n",
      "  0.86427754  0.83002839  0.55949146  0.87833944]\n",
      "0.832091326658\n"
     ]
    }
   ],
   "source": [
    "from sklearn.linear_model import LassoCV ,Lasso\n",
    "from sklearn.model_selection import cross_val_score\n",
    "\n",
    "optimal_lasso = LassoCV(n_alphas=500, cv=10, verbose=1)\n",
    "optimal_lasso.fit(Xs, y_train)\n",
    "\n",
    "lasso = Lasso(alpha=optimal_lasso.alpha_)\n",
    "lasso_scores = cross_val_score(lasso, Xs, y_train, cv=10)\n",
    "\n",
    "print lasso_scores\n",
    "print np.mean(lasso_scores)"
   ]
  },
  {
   "cell_type": "code",
   "execution_count": 825,
   "metadata": {},
   "outputs": [
    {
     "data": {
      "text/html": [
       "<div>\n",
       "<style scoped>\n",
       "    .dataframe tbody tr th:only-of-type {\n",
       "        vertical-align: middle;\n",
       "    }\n",
       "\n",
       "    .dataframe tbody tr th {\n",
       "        vertical-align: top;\n",
       "    }\n",
       "\n",
       "    .dataframe thead th {\n",
       "        text-align: right;\n",
       "    }\n",
       "</style>\n",
       "<table border=\"1\" class=\"dataframe\">\n",
       "  <thead>\n",
       "    <tr style=\"text-align: right;\">\n",
       "      <th></th>\n",
       "      <th>abs_coef</th>\n",
       "      <th>coef</th>\n",
       "      <th>variable</th>\n",
       "    </tr>\n",
       "  </thead>\n",
       "  <tbody>\n",
       "    <tr>\n",
       "      <th>19</th>\n",
       "      <td>17291.535031</td>\n",
       "      <td>17291.535031</td>\n",
       "      <td>GrLivArea</td>\n",
       "    </tr>\n",
       "    <tr>\n",
       "      <th>2</th>\n",
       "      <td>15609.037282</td>\n",
       "      <td>15609.037282</td>\n",
       "      <td>OverallQual</td>\n",
       "    </tr>\n",
       "    <tr>\n",
       "      <th>108</th>\n",
       "      <td>11399.906081</td>\n",
       "      <td>11399.906081</td>\n",
       "      <td>NridgHt</td>\n",
       "    </tr>\n",
       "    <tr>\n",
       "      <th>25</th>\n",
       "      <td>7304.024830</td>\n",
       "      <td>7304.024830</td>\n",
       "      <td>GarageCars</td>\n",
       "    </tr>\n",
       "    <tr>\n",
       "      <th>34</th>\n",
       "      <td>7196.134316</td>\n",
       "      <td>7196.134316</td>\n",
       "      <td>TotalBath</td>\n",
       "    </tr>\n",
       "    <tr>\n",
       "      <th>114</th>\n",
       "      <td>6700.226254</td>\n",
       "      <td>6700.226254</td>\n",
       "      <td>StoneBr</td>\n",
       "    </tr>\n",
       "    <tr>\n",
       "      <th>107</th>\n",
       "      <td>6535.605067</td>\n",
       "      <td>6535.605067</td>\n",
       "      <td>NoRidge</td>\n",
       "    </tr>\n",
       "    <tr>\n",
       "      <th>6</th>\n",
       "      <td>6263.608148</td>\n",
       "      <td>6263.608148</td>\n",
       "      <td>ExterQual</td>\n",
       "    </tr>\n",
       "    <tr>\n",
       "      <th>22</th>\n",
       "      <td>5932.855615</td>\n",
       "      <td>5932.855615</td>\n",
       "      <td>TotRmsAbvGrd</td>\n",
       "    </tr>\n",
       "    <tr>\n",
       "      <th>10</th>\n",
       "      <td>5925.678606</td>\n",
       "      <td>5925.678606</td>\n",
       "      <td>BsmtExposure</td>\n",
       "    </tr>\n",
       "  </tbody>\n",
       "</table>\n",
       "</div>"
      ],
      "text/plain": [
       "         abs_coef          coef      variable\n",
       "19   17291.535031  17291.535031     GrLivArea\n",
       "2    15609.037282  15609.037282   OverallQual\n",
       "108  11399.906081  11399.906081       NridgHt\n",
       "25    7304.024830   7304.024830    GarageCars\n",
       "34    7196.134316   7196.134316     TotalBath\n",
       "114   6700.226254   6700.226254       StoneBr\n",
       "107   6535.605067   6535.605067       NoRidge\n",
       "6     6263.608148   6263.608148     ExterQual\n",
       "22    5932.855615   5932.855615  TotRmsAbvGrd\n",
       "10    5925.678606   5925.678606  BsmtExposure"
      ]
     },
     "execution_count": 825,
     "metadata": {},
     "output_type": "execute_result"
    }
   ],
   "source": [
    "lasso.fit(Xs, y_train)\n",
    "lasso_coefs = pd.DataFrame({'variable':X_train.columns,\n",
    "                            'coef':lasso.coef_,\n",
    "                            'abs_coef':np.abs(lasso.coef_)})\n",
    "\n",
    "lasso_coefs.sort_values('abs_coef', inplace=True, ascending=False)\n",
    "\n",
    "lasso_coefs.head(10)"
   ]
  },
  {
   "cell_type": "code",
   "execution_count": 826,
   "metadata": {},
   "outputs": [],
   "source": [
    "# Experiment with Features\n",
    "cols = ['OverallQual',\n",
    "        'TotalBath',\n",
    "        'TotRmsAbvGrd',\n",
    "        'YearBuilt',\n",
    "        'ExterQual', \n",
    "        'LotArea', \n",
    "        'GrLivArea',\n",
    "        'BsmtQual', \n",
    "        'GarageCars',\n",
    "        'CollgCr','OldTown','NAmes','SawyerW','Sawyer','Edwards','Somerst','Gilbert','NridgHt','NWAmes','BrkSide',\n",
    "        'Crawfor','Mitchel','NoRidge','Timber','IDOTRR','ClearCr','SWISU','StoneBr','MeadowV','BrDale',\n",
    "        'Veenker','NPkVill','Blueste',]\n",
    "\n",
    "X_train = train[cols]\n",
    "X_test = test[cols]"
   ]
  },
  {
   "cell_type": "code",
   "execution_count": 827,
   "metadata": {},
   "outputs": [],
   "source": [
    "from sklearn.preprocessing import StandardScaler\n",
    "\n",
    "ss = StandardScaler()\n",
    "Xs = ss.fit_transform(X_train)\n",
    "Xst = ss.fit_transform(X_test)"
   ]
  },
  {
   "cell_type": "code",
   "execution_count": 828,
   "metadata": {},
   "outputs": [
    {
     "name": "stdout",
     "output_type": "stream",
     "text": [
      "('Training accuracy:', 0.82420554406484325)\n",
      "('Test accuracy:', 0.82579193785676563)\n"
     ]
    }
   ],
   "source": [
    "from sklearn import linear_model\n",
    "from sklearn.model_selection import cross_val_score\n",
    "\n",
    "lr = linear_model.LinearRegression()\n",
    "model = lr.fit(Xs, y_train)\n",
    "\n",
    "print('Training accuracy:', lr.score(Xs, y_train))\n",
    "print('Test accuracy:', lr.score(Xst, y_test))"
   ]
  },
  {
   "cell_type": "markdown",
   "metadata": {},
   "source": [
    "The above features explain approximately 83% of the variance in our target variable"
   ]
  },
  {
   "cell_type": "markdown",
   "metadata": {},
   "source": [
    "<img src=\"http://imgur.com/l5NasQj.png\" style=\"float: left; margin: 25px 15px 0px 0px; height: 25px\">\n",
    "\n",
    "## 2. Determine any value of *changeable* property characteristics unexplained by the *fixed* ones.\n",
    "\n",
    "---\n",
    "\n",
    "Now that you have a model that estimates the price of a house based on its static characteristics, we can move forward with part 2 and 3 of the plan: what are the costs/benefits of quality, condition, and renovations?\n",
    "\n",
    "There are two specific requirements for these estimates:\n",
    "1. The estimates of effects must be in terms of dollars added or subtracted from the house value. \n",
    "2. The effects must be on the variance in price remaining from the first model.\n",
    "\n",
    "The residuals from the first model (training and testing) represent the variance in price unexplained by the fixed characteristics. Of that variance in price remaining, how much of it can be explained by the easy-to-change aspects of the property?\n",
    "\n",
    "---\n",
    "\n",
    "**Your goals:**\n",
    "1. Evaluate the effect in dollars of the renovate-able features. \n",
    "- How would your company use this second model and its coefficients to determine whether they should buy a property or not? Explain how the company can use the two models you have built to determine if they can make money. \n",
    "- Investigate how much of the variance in price remaining is explained by these features.\n",
    "- Do you trust your model? Should it be used to evaluate which properties to buy and fix up?"
   ]
  },
  {
   "cell_type": "code",
   "execution_count": 829,
   "metadata": {},
   "outputs": [
    {
     "data": {
      "text/plain": [
       "-1943.1505882353001"
      ]
     },
     "execution_count": 829,
     "metadata": {},
     "output_type": "execute_result"
    }
   ],
   "source": [
    "lasso_resid = y_test - model.predict(Xst)\n",
    "lasso_resid.mean()"
   ]
  },
  {
   "cell_type": "code",
   "execution_count": 830,
   "metadata": {
    "collapsed": true
   },
   "outputs": [
    {
     "data": {
      "text/plain": [
       "<seaborn.axisgrid.JointGrid at 0x1a1ca79110>"
      ]
     },
     "execution_count": 830,
     "metadata": {},
     "output_type": "execute_result"
    },
    {
     "data": {
      "image/png": "[encoded data removed]",
      "text/plain": [
       "<Figure size 432x432 with 3 Axes>"
      ]
     },
     "metadata": {
      "image/png": {
       "height": 438,
       "width": 457
      }
     },
     "output_type": "display_data"
    }
   ],
   "source": [
    "ax=sns.jointplot(y_test,model.predict(Xst), kind='reg')\n",
    "ax.set_axis_labels('Actual Values', 'Predicted Values')"
   ]
  },
  {
   "cell_type": "markdown",
   "metadata": {},
   "source": [
    "**Predicted Sale Prices showed a few over-prediction in sale price of very expensive homes**"
   ]
  },
  {
   "cell_type": "code",
   "execution_count": 831,
   "metadata": {},
   "outputs": [],
   "source": [
    "df2 = df.copy(deep=True)\n",
    "df2 = df2[['BsmtFinType1','BsmtFinType2','FireplaceQu','KitchenQual','GarageFinish','HeatingQC','GarageQual','GarageCond',\n",
    "           'RoofStyle','RoofMatl','Renovated','Electrical','Heating','SalePrice','YrSold']]"
   ]
  },
  {
   "cell_type": "code",
   "execution_count": 832,
   "metadata": {},
   "outputs": [
    {
     "data": {
      "text/plain": [
       "Index([u'BsmtFinType1', u'BsmtFinType2', u'FireplaceQu', u'KitchenQual',\n",
       "       u'GarageFinish', u'HeatingQC', u'GarageQual', u'GarageCond',\n",
       "       u'RoofStyle', u'RoofMatl', u'Renovated', u'Electrical', u'Heating',\n",
       "       u'SalePrice', u'YrSold'],\n",
       "      dtype='object')"
      ]
     },
     "execution_count": 832,
     "metadata": {},
     "output_type": "execute_result"
    }
   ],
   "source": [
    "df2.columns"
   ]
  },
  {
   "cell_type": "code",
   "execution_count": 833,
   "metadata": {},
   "outputs": [
    {
     "data": {
      "text/html": [
       "<div>\n",
       "<style scoped>\n",
       "    .dataframe tbody tr th:only-of-type {\n",
       "        vertical-align: middle;\n",
       "    }\n",
       "\n",
       "    .dataframe tbody tr th {\n",
       "        vertical-align: top;\n",
       "    }\n",
       "\n",
       "    .dataframe thead th {\n",
       "        text-align: right;\n",
       "    }\n",
       "</style>\n",
       "<table border=\"1\" class=\"dataframe\">\n",
       "  <thead>\n",
       "    <tr style=\"text-align: right;\">\n",
       "      <th></th>\n",
       "      <th>BsmtFinType1</th>\n",
       "      <th>BsmtFinType2</th>\n",
       "      <th>FireplaceQu</th>\n",
       "      <th>KitchenQual</th>\n",
       "      <th>GarageFinish</th>\n",
       "      <th>HeatingQC</th>\n",
       "      <th>GarageQual</th>\n",
       "      <th>GarageCond</th>\n",
       "      <th>RoofStyle</th>\n",
       "      <th>RoofMatl</th>\n",
       "      <th>Renovated</th>\n",
       "      <th>Electrical</th>\n",
       "      <th>Heating</th>\n",
       "      <th>SalePrice</th>\n",
       "      <th>YrSold</th>\n",
       "    </tr>\n",
       "  </thead>\n",
       "  <tbody>\n",
       "    <tr>\n",
       "      <th>0</th>\n",
       "      <td>6</td>\n",
       "      <td>1</td>\n",
       "      <td>0</td>\n",
       "      <td>4</td>\n",
       "      <td>2</td>\n",
       "      <td>5</td>\n",
       "      <td>3</td>\n",
       "      <td>3</td>\n",
       "      <td>Gable</td>\n",
       "      <td>CompShg</td>\n",
       "      <td>0</td>\n",
       "      <td>SBrkr</td>\n",
       "      <td>GasA</td>\n",
       "      <td>208500</td>\n",
       "      <td>2008</td>\n",
       "    </tr>\n",
       "    <tr>\n",
       "      <th>1</th>\n",
       "      <td>5</td>\n",
       "      <td>1</td>\n",
       "      <td>3</td>\n",
       "      <td>3</td>\n",
       "      <td>2</td>\n",
       "      <td>5</td>\n",
       "      <td>3</td>\n",
       "      <td>3</td>\n",
       "      <td>Gable</td>\n",
       "      <td>CompShg</td>\n",
       "      <td>0</td>\n",
       "      <td>SBrkr</td>\n",
       "      <td>GasA</td>\n",
       "      <td>181500</td>\n",
       "      <td>2007</td>\n",
       "    </tr>\n",
       "    <tr>\n",
       "      <th>2</th>\n",
       "      <td>6</td>\n",
       "      <td>1</td>\n",
       "      <td>3</td>\n",
       "      <td>4</td>\n",
       "      <td>2</td>\n",
       "      <td>5</td>\n",
       "      <td>3</td>\n",
       "      <td>3</td>\n",
       "      <td>Gable</td>\n",
       "      <td>CompShg</td>\n",
       "      <td>1</td>\n",
       "      <td>SBrkr</td>\n",
       "      <td>GasA</td>\n",
       "      <td>223500</td>\n",
       "      <td>2008</td>\n",
       "    </tr>\n",
       "    <tr>\n",
       "      <th>3</th>\n",
       "      <td>5</td>\n",
       "      <td>1</td>\n",
       "      <td>4</td>\n",
       "      <td>4</td>\n",
       "      <td>1</td>\n",
       "      <td>4</td>\n",
       "      <td>3</td>\n",
       "      <td>3</td>\n",
       "      <td>Gable</td>\n",
       "      <td>CompShg</td>\n",
       "      <td>1</td>\n",
       "      <td>SBrkr</td>\n",
       "      <td>GasA</td>\n",
       "      <td>140000</td>\n",
       "      <td>2006</td>\n",
       "    </tr>\n",
       "    <tr>\n",
       "      <th>4</th>\n",
       "      <td>6</td>\n",
       "      <td>1</td>\n",
       "      <td>3</td>\n",
       "      <td>4</td>\n",
       "      <td>2</td>\n",
       "      <td>5</td>\n",
       "      <td>3</td>\n",
       "      <td>3</td>\n",
       "      <td>Gable</td>\n",
       "      <td>CompShg</td>\n",
       "      <td>0</td>\n",
       "      <td>SBrkr</td>\n",
       "      <td>GasA</td>\n",
       "      <td>250000</td>\n",
       "      <td>2008</td>\n",
       "    </tr>\n",
       "  </tbody>\n",
       "</table>\n",
       "</div>"
      ],
      "text/plain": [
       "   BsmtFinType1  BsmtFinType2  FireplaceQu  KitchenQual  GarageFinish  \\\n",
       "0             6             1            0            4             2   \n",
       "1             5             1            3            3             2   \n",
       "2             6             1            3            4             2   \n",
       "3             5             1            4            4             1   \n",
       "4             6             1            3            4             2   \n",
       "\n",
       "   HeatingQC  GarageQual  GarageCond RoofStyle RoofMatl  Renovated Electrical  \\\n",
       "0          5           3           3     Gable  CompShg          0      SBrkr   \n",
       "1          5           3           3     Gable  CompShg          0      SBrkr   \n",
       "2          5           3           3     Gable  CompShg          1      SBrkr   \n",
       "3          4           3           3     Gable  CompShg          1      SBrkr   \n",
       "4          5           3           3     Gable  CompShg          0      SBrkr   \n",
       "\n",
       "  Heating  SalePrice  YrSold  \n",
       "0    GasA     208500    2008  \n",
       "1    GasA     181500    2007  \n",
       "2    GasA     223500    2008  \n",
       "3    GasA     140000    2006  \n",
       "4    GasA     250000    2008  "
      ]
     },
     "execution_count": 833,
     "metadata": {},
     "output_type": "execute_result"
    }
   ],
   "source": [
    "df2.head()"
   ]
  },
  {
   "cell_type": "markdown",
   "metadata": {},
   "source": [
    "### Handling Categorical Features - Non- Recurring"
   ]
  },
  {
   "cell_type": "code",
   "execution_count": 834,
   "metadata": {},
   "outputs": [],
   "source": [
    "# Categorical Features for Part2 Exclude YearSold, CentralAir\n",
    "Cat2 = ['RoofStyle','RoofMatl','Electrical','Heating']"
   ]
  },
  {
   "cell_type": "code",
   "execution_count": 835,
   "metadata": {},
   "outputs": [],
   "source": [
    "for i in Cat2:\n",
    "    dummy = pd.get_dummies(df2[i],drop_first=True)\n",
    "    df2 = pd.concat([df2, dummy], axis=1)\n",
    "    df2.drop(i, axis=1, inplace=True)"
   ]
  },
  {
   "cell_type": "code",
   "execution_count": 836,
   "metadata": {},
   "outputs": [
    {
     "data": {
      "text/html": [
       "<div>\n",
       "<style scoped>\n",
       "    .dataframe tbody tr th:only-of-type {\n",
       "        vertical-align: middle;\n",
       "    }\n",
       "\n",
       "    .dataframe tbody tr th {\n",
       "        vertical-align: top;\n",
       "    }\n",
       "\n",
       "    .dataframe thead th {\n",
       "        text-align: right;\n",
       "    }\n",
       "</style>\n",
       "<table border=\"1\" class=\"dataframe\">\n",
       "  <thead>\n",
       "    <tr style=\"text-align: right;\">\n",
       "      <th></th>\n",
       "      <th>BsmtFinType1</th>\n",
       "      <th>BsmtFinType2</th>\n",
       "      <th>FireplaceQu</th>\n",
       "      <th>KitchenQual</th>\n",
       "      <th>GarageFinish</th>\n",
       "      <th>HeatingQC</th>\n",
       "      <th>GarageQual</th>\n",
       "      <th>GarageCond</th>\n",
       "      <th>Renovated</th>\n",
       "      <th>SalePrice</th>\n",
       "      <th>...</th>\n",
       "      <th>WdShngl</th>\n",
       "      <th>FuseF</th>\n",
       "      <th>FuseP</th>\n",
       "      <th>Mix</th>\n",
       "      <th>SBrkr</th>\n",
       "      <th>GasA</th>\n",
       "      <th>GasW</th>\n",
       "      <th>Grav</th>\n",
       "      <th>OthW</th>\n",
       "      <th>Wall</th>\n",
       "    </tr>\n",
       "  </thead>\n",
       "  <tbody>\n",
       "    <tr>\n",
       "      <th>0</th>\n",
       "      <td>6</td>\n",
       "      <td>1</td>\n",
       "      <td>0</td>\n",
       "      <td>4</td>\n",
       "      <td>2</td>\n",
       "      <td>5</td>\n",
       "      <td>3</td>\n",
       "      <td>3</td>\n",
       "      <td>0</td>\n",
       "      <td>208500</td>\n",
       "      <td>...</td>\n",
       "      <td>0</td>\n",
       "      <td>0</td>\n",
       "      <td>0</td>\n",
       "      <td>0</td>\n",
       "      <td>1</td>\n",
       "      <td>1</td>\n",
       "      <td>0</td>\n",
       "      <td>0</td>\n",
       "      <td>0</td>\n",
       "      <td>0</td>\n",
       "    </tr>\n",
       "    <tr>\n",
       "      <th>1</th>\n",
       "      <td>5</td>\n",
       "      <td>1</td>\n",
       "      <td>3</td>\n",
       "      <td>3</td>\n",
       "      <td>2</td>\n",
       "      <td>5</td>\n",
       "      <td>3</td>\n",
       "      <td>3</td>\n",
       "      <td>0</td>\n",
       "      <td>181500</td>\n",
       "      <td>...</td>\n",
       "      <td>0</td>\n",
       "      <td>0</td>\n",
       "      <td>0</td>\n",
       "      <td>0</td>\n",
       "      <td>1</td>\n",
       "      <td>1</td>\n",
       "      <td>0</td>\n",
       "      <td>0</td>\n",
       "      <td>0</td>\n",
       "      <td>0</td>\n",
       "    </tr>\n",
       "    <tr>\n",
       "      <th>2</th>\n",
       "      <td>6</td>\n",
       "      <td>1</td>\n",
       "      <td>3</td>\n",
       "      <td>4</td>\n",
       "      <td>2</td>\n",
       "      <td>5</td>\n",
       "      <td>3</td>\n",
       "      <td>3</td>\n",
       "      <td>1</td>\n",
       "      <td>223500</td>\n",
       "      <td>...</td>\n",
       "      <td>0</td>\n",
       "      <td>0</td>\n",
       "      <td>0</td>\n",
       "      <td>0</td>\n",
       "      <td>1</td>\n",
       "      <td>1</td>\n",
       "      <td>0</td>\n",
       "      <td>0</td>\n",
       "      <td>0</td>\n",
       "      <td>0</td>\n",
       "    </tr>\n",
       "    <tr>\n",
       "      <th>3</th>\n",
       "      <td>5</td>\n",
       "      <td>1</td>\n",
       "      <td>4</td>\n",
       "      <td>4</td>\n",
       "      <td>1</td>\n",
       "      <td>4</td>\n",
       "      <td>3</td>\n",
       "      <td>3</td>\n",
       "      <td>1</td>\n",
       "      <td>140000</td>\n",
       "      <td>...</td>\n",
       "      <td>0</td>\n",
       "      <td>0</td>\n",
       "      <td>0</td>\n",
       "      <td>0</td>\n",
       "      <td>1</td>\n",
       "      <td>1</td>\n",
       "      <td>0</td>\n",
       "      <td>0</td>\n",
       "      <td>0</td>\n",
       "      <td>0</td>\n",
       "    </tr>\n",
       "    <tr>\n",
       "      <th>4</th>\n",
       "      <td>6</td>\n",
       "      <td>1</td>\n",
       "      <td>3</td>\n",
       "      <td>4</td>\n",
       "      <td>2</td>\n",
       "      <td>5</td>\n",
       "      <td>3</td>\n",
       "      <td>3</td>\n",
       "      <td>0</td>\n",
       "      <td>250000</td>\n",
       "      <td>...</td>\n",
       "      <td>0</td>\n",
       "      <td>0</td>\n",
       "      <td>0</td>\n",
       "      <td>0</td>\n",
       "      <td>1</td>\n",
       "      <td>1</td>\n",
       "      <td>0</td>\n",
       "      <td>0</td>\n",
       "      <td>0</td>\n",
       "      <td>0</td>\n",
       "    </tr>\n",
       "  </tbody>\n",
       "</table>\n",
       "<p>5 rows × 32 columns</p>\n",
       "</div>"
      ],
      "text/plain": [
       "   BsmtFinType1  BsmtFinType2  FireplaceQu  KitchenQual  GarageFinish  \\\n",
       "0             6             1            0            4             2   \n",
       "1             5             1            3            3             2   \n",
       "2             6             1            3            4             2   \n",
       "3             5             1            4            4             1   \n",
       "4             6             1            3            4             2   \n",
       "\n",
       "   HeatingQC  GarageQual  GarageCond  Renovated  SalePrice  ...   WdShngl  \\\n",
       "0          5           3           3          0     208500  ...         0   \n",
       "1          5           3           3          0     181500  ...         0   \n",
       "2          5           3           3          1     223500  ...         0   \n",
       "3          4           3           3          1     140000  ...         0   \n",
       "4          5           3           3          0     250000  ...         0   \n",
       "\n",
       "   FuseF  FuseP  Mix  SBrkr  GasA  GasW  Grav  OthW  Wall  \n",
       "0      0      0    0      1     1     0     0     0     0  \n",
       "1      0      0    0      1     1     0     0     0     0  \n",
       "2      0      0    0      1     1     0     0     0     0  \n",
       "3      0      0    0      1     1     0     0     0     0  \n",
       "4      0      0    0      1     1     0     0     0     0  \n",
       "\n",
       "[5 rows x 32 columns]"
      ]
     },
     "execution_count": 836,
     "metadata": {},
     "output_type": "execute_result"
    }
   ],
   "source": [
    "df2.head()"
   ]
  },
  {
   "cell_type": "code",
   "execution_count": 837,
   "metadata": {},
   "outputs": [
    {
     "data": {
      "text/plain": [
       "int64    11\n",
       "uint8    21\n",
       "dtype: int64"
      ]
     },
     "execution_count": 837,
     "metadata": {},
     "output_type": "execute_result"
    }
   ],
   "source": [
    "df2.get_dtype_counts()"
   ]
  },
  {
   "cell_type": "code",
   "execution_count": 838,
   "metadata": {},
   "outputs": [],
   "source": [
    "train2 = df2[df2['YrSold'] < 2010]\n",
    "test2 = df2[df2['YrSold'] == 2010]"
   ]
  },
  {
   "cell_type": "code",
   "execution_count": 839,
   "metadata": {},
   "outputs": [],
   "source": [
    "cols = list(df2.columns)\n",
    "cols.remove('SalePrice')\n",
    "\n",
    "X_train2 = train2[cols]\n",
    "X_test2 = test2[cols]\n",
    "\n",
    "y_train2 = train2['SalePrice'].values\n",
    "y_test2 = test2['SalePrice'].values"
   ]
  },
  {
   "cell_type": "code",
   "execution_count": 840,
   "metadata": {},
   "outputs": [],
   "source": [
    "from sklearn.preprocessing import StandardScaler\n",
    "\n",
    "ss = StandardScaler()\n",
    "Xs2 = ss.fit_transform(X_train2)\n",
    "Xst2 = ss.fit_transform(X_test2)"
   ]
  },
  {
   "cell_type": "code",
   "execution_count": 841,
   "metadata": {},
   "outputs": [
    {
     "name": "stderr",
     "output_type": "stream",
     "text": [
      ".............................................................................................................................................................................................................................................................................................................................................................................................................................................................................................................................................................................................................................................................................................................................................................................................................................................................................................................................................................................................................................................................................................................................................................................................................................................................................................................................................................................................................................................................................................................................................................................................................................................................................................................................................................................................................................................................................................................................................................................................................................................................................................................................................................................................................................................................................................................................................................................................................................................................................................................................................................................................................................................................................................................................................................................................................................................................................................................................................................................................................................................................................................................................................................................................................................................................................................................................................................................................................................................................................................................................................................................................................................................................................................................................................................................................................................................................................................................................................................................................................................................................................................................................................................................................................................................................................................................................................................................................................................................................................................................................................................................................................................................................................................................................................................................................."
     ]
    },
    {
     "name": "stdout",
     "output_type": "stream",
     "text": [
      "[ 0.69187166  0.6414215   0.65709674  0.6068322   0.58111974  0.55206547\n",
      "  0.53363243  0.58670727  0.53241149  0.60220127]\n",
      "0.598535977684\n"
     ]
    },
    {
     "name": "stderr",
     "output_type": "stream",
     "text": [
      "..........................................................................................................................................................................................................................................................................................................................................................................................................[Parallel(n_jobs=1)]: Done  10 out of  10 | elapsed:    1.3s finished\n"
     ]
    }
   ],
   "source": [
    "from sklearn.linear_model import LassoCV ,Lasso\n",
    "from sklearn.model_selection import cross_val_score\n",
    "\n",
    "optimal_lasso = LassoCV(n_alphas=500, cv=10, verbose=1)\n",
    "optimal_lasso.fit(Xs2, y_train2)\n",
    "\n",
    "lasso = Lasso(alpha=optimal_lasso.alpha_)\n",
    "lasso_scores = cross_val_score(lasso, Xs2, y_train2, cv=10)\n",
    "\n",
    "print lasso_scores\n",
    "print np.mean(lasso_scores)"
   ]
  },
  {
   "cell_type": "code",
   "execution_count": 842,
   "metadata": {},
   "outputs": [
    {
     "data": {
      "text/html": [
       "<div>\n",
       "<style scoped>\n",
       "    .dataframe tbody tr th:only-of-type {\n",
       "        vertical-align: middle;\n",
       "    }\n",
       "\n",
       "    .dataframe tbody tr th {\n",
       "        vertical-align: top;\n",
       "    }\n",
       "\n",
       "    .dataframe thead th {\n",
       "        text-align: right;\n",
       "    }\n",
       "</style>\n",
       "<table border=\"1\" class=\"dataframe\">\n",
       "  <thead>\n",
       "    <tr style=\"text-align: right;\">\n",
       "      <th></th>\n",
       "      <th>abs_coef</th>\n",
       "      <th>coef</th>\n",
       "      <th>variable</th>\n",
       "    </tr>\n",
       "  </thead>\n",
       "  <tbody>\n",
       "    <tr>\n",
       "      <th>3</th>\n",
       "      <td>29618.030323</td>\n",
       "      <td>29618.030323</td>\n",
       "      <td>KitchenQual</td>\n",
       "    </tr>\n",
       "    <tr>\n",
       "      <th>2</th>\n",
       "      <td>20192.640284</td>\n",
       "      <td>20192.640284</td>\n",
       "      <td>FireplaceQu</td>\n",
       "    </tr>\n",
       "    <tr>\n",
       "      <th>4</th>\n",
       "      <td>13775.996667</td>\n",
       "      <td>13775.996667</td>\n",
       "      <td>GarageFinish</td>\n",
       "    </tr>\n",
       "    <tr>\n",
       "      <th>0</th>\n",
       "      <td>8054.659707</td>\n",
       "      <td>8054.659707</td>\n",
       "      <td>BsmtFinType1</td>\n",
       "    </tr>\n",
       "    <tr>\n",
       "      <th>5</th>\n",
       "      <td>7035.369006</td>\n",
       "      <td>7035.369006</td>\n",
       "      <td>HeatingQC</td>\n",
       "    </tr>\n",
       "    <tr>\n",
       "      <th>21</th>\n",
       "      <td>5722.692752</td>\n",
       "      <td>5722.692752</td>\n",
       "      <td>WdShngl</td>\n",
       "    </tr>\n",
       "    <tr>\n",
       "      <th>10</th>\n",
       "      <td>4636.199379</td>\n",
       "      <td>-4636.199379</td>\n",
       "      <td>Gable</td>\n",
       "    </tr>\n",
       "    <tr>\n",
       "      <th>12</th>\n",
       "      <td>3951.143597</td>\n",
       "      <td>3951.143597</td>\n",
       "      <td>Hip</td>\n",
       "    </tr>\n",
       "    <tr>\n",
       "      <th>27</th>\n",
       "      <td>3577.409449</td>\n",
       "      <td>3577.409449</td>\n",
       "      <td>GasW</td>\n",
       "    </tr>\n",
       "    <tr>\n",
       "      <th>9</th>\n",
       "      <td>1651.724831</td>\n",
       "      <td>-1651.724831</td>\n",
       "      <td>YrSold</td>\n",
       "    </tr>\n",
       "    <tr>\n",
       "      <th>16</th>\n",
       "      <td>1565.783873</td>\n",
       "      <td>1565.783873</td>\n",
       "      <td>Membran</td>\n",
       "    </tr>\n",
       "    <tr>\n",
       "      <th>25</th>\n",
       "      <td>1171.288471</td>\n",
       "      <td>1171.288471</td>\n",
       "      <td>SBrkr</td>\n",
       "    </tr>\n",
       "    <tr>\n",
       "      <th>8</th>\n",
       "      <td>1139.231862</td>\n",
       "      <td>1139.231862</td>\n",
       "      <td>Renovated</td>\n",
       "    </tr>\n",
       "    <tr>\n",
       "      <th>20</th>\n",
       "      <td>1074.094523</td>\n",
       "      <td>1074.094523</td>\n",
       "      <td>WdShake</td>\n",
       "    </tr>\n",
       "    <tr>\n",
       "      <th>23</th>\n",
       "      <td>879.621603</td>\n",
       "      <td>879.621603</td>\n",
       "      <td>FuseP</td>\n",
       "    </tr>\n",
       "    <tr>\n",
       "      <th>24</th>\n",
       "      <td>629.064577</td>\n",
       "      <td>-629.064577</td>\n",
       "      <td>Mix</td>\n",
       "    </tr>\n",
       "    <tr>\n",
       "      <th>11</th>\n",
       "      <td>286.495234</td>\n",
       "      <td>-286.495234</td>\n",
       "      <td>Gambrel</td>\n",
       "    </tr>\n",
       "    <tr>\n",
       "      <th>18</th>\n",
       "      <td>64.212582</td>\n",
       "      <td>64.212582</td>\n",
       "      <td>Roll</td>\n",
       "    </tr>\n",
       "    <tr>\n",
       "      <th>6</th>\n",
       "      <td>31.379858</td>\n",
       "      <td>31.379858</td>\n",
       "      <td>GarageQual</td>\n",
       "    </tr>\n",
       "    <tr>\n",
       "      <th>29</th>\n",
       "      <td>0.000000</td>\n",
       "      <td>0.000000</td>\n",
       "      <td>OthW</td>\n",
       "    </tr>\n",
       "  </tbody>\n",
       "</table>\n",
       "</div>"
      ],
      "text/plain": [
       "        abs_coef          coef      variable\n",
       "3   29618.030323  29618.030323   KitchenQual\n",
       "2   20192.640284  20192.640284   FireplaceQu\n",
       "4   13775.996667  13775.996667  GarageFinish\n",
       "0    8054.659707   8054.659707  BsmtFinType1\n",
       "5    7035.369006   7035.369006     HeatingQC\n",
       "21   5722.692752   5722.692752       WdShngl\n",
       "10   4636.199379  -4636.199379         Gable\n",
       "12   3951.143597   3951.143597           Hip\n",
       "27   3577.409449   3577.409449          GasW\n",
       "9    1651.724831  -1651.724831        YrSold\n",
       "16   1565.783873   1565.783873       Membran\n",
       "25   1171.288471   1171.288471         SBrkr\n",
       "8    1139.231862   1139.231862     Renovated\n",
       "20   1074.094523   1074.094523       WdShake\n",
       "23    879.621603    879.621603         FuseP\n",
       "24    629.064577   -629.064577           Mix\n",
       "11    286.495234   -286.495234       Gambrel\n",
       "18     64.212582     64.212582          Roll\n",
       "6      31.379858     31.379858    GarageQual\n",
       "29      0.000000      0.000000          OthW"
      ]
     },
     "execution_count": 842,
     "metadata": {},
     "output_type": "execute_result"
    }
   ],
   "source": [
    "lasso.fit(Xs2, y_train2)\n",
    "lasso_coefs = pd.DataFrame({'variable':X_train2.columns,\n",
    "                            'coef':lasso.coef_,\n",
    "                            'abs_coef':np.abs(lasso.coef_)})\n",
    "\n",
    "lasso_coefs.sort_values('abs_coef', inplace=True, ascending=False)\n",
    "lasso_coefs.head(20)"
   ]
  },
  {
   "cell_type": "code",
   "execution_count": 843,
   "metadata": {},
   "outputs": [
    {
     "name": "stdout",
     "output_type": "stream",
     "text": [
      "('Training accuracy:', 0.62314477620770581)\n",
      "('Test accuracy:', 0.5926706754313158)\n"
     ]
    }
   ],
   "source": [
    "from sklearn import linear_model\n",
    "\n",
    "lr = linear_model.LinearRegression()\n",
    "model = lr.fit(Xs2, y_train2)\n",
    "print('Training accuracy:', lr.score(Xs2, y_train2))\n",
    "print('Test accuracy:', lr.score(Xst2, y_test2))"
   ]
  },
  {
   "cell_type": "code",
   "execution_count": 844,
   "metadata": {},
   "outputs": [
    {
     "name": "stdout",
     "output_type": "stream",
     "text": [
      "('Training accuracy:', 0.62314477620770581)\n",
      "('Test accuracy:', 0.5926706754313158)\n"
     ]
    }
   ],
   "source": [
    "lasso = Lasso(alpha=optimal_lasso.alpha_)\n",
    "model = lasso.fit(Xs2, y_train2)\n",
    "print('Training accuracy:', lr.score(Xs2, y_train2))\n",
    "print('Test accuracy:', lr.score(Xst2, y_test2))"
   ]
  },
  {
   "cell_type": "code",
   "execution_count": 877,
   "metadata": {},
   "outputs": [],
   "source": [
    "df1['KitchenQual'] = df2['KitchenQual']\n",
    "df1['FireplaceQu'] = df2['FireplaceQu']\n",
    "df1['GarageFinish'] = df2['GarageFinish']\n",
    "df1['BsmtFinType1'] = df2['BsmtFinType1']\n",
    "df1['HeatingQC'] = df2['HeatingQC']"
   ]
  },
  {
   "cell_type": "code",
   "execution_count": 878,
   "metadata": {},
   "outputs": [],
   "source": [
    "train = df1[df1['YrSold'] < 2010]\n",
    "test = df1[df1['YrSold'] == 2010]"
   ]
  },
  {
   "cell_type": "code",
   "execution_count": 881,
   "metadata": {},
   "outputs": [],
   "source": [
    "cols = ['OverallQual',\n",
    "        'TotalBath',\n",
    "        'TotRmsAbvGrd',\n",
    "        'YearBuilt',\n",
    "        'ExterQual', \n",
    "        'LotArea', \n",
    "        'GrLivArea',\n",
    "        'BsmtQual', \n",
    "        'GarageCars',\n",
    "        'CollgCr','OldTown','NAmes','SawyerW','Sawyer','Edwards','Somerst','Gilbert','NridgHt','NWAmes','BrkSide',\n",
    "        'Crawfor','Mitchel','NoRidge','Timber','IDOTRR','ClearCr','SWISU','StoneBr','MeadowV','BrDale',\n",
    "        'Veenker','NPkVill','Blueste',\n",
    "        'KitchenQual','FireplaceQu','GarageFinish','BsmtFinType1','HeatingQC']\n",
    "\n",
    "X_train = train[cols]\n",
    "X_test = test[cols]"
   ]
  },
  {
   "cell_type": "code",
   "execution_count": 882,
   "metadata": {},
   "outputs": [],
   "source": [
    "from sklearn.preprocessing import StandardScaler\n",
    "\n",
    "ss = StandardScaler()\n",
    "Xs = ss.fit_transform(X_train)\n",
    "Xst = ss.fit_transform(X_test)"
   ]
  },
  {
   "cell_type": "code",
   "execution_count": 883,
   "metadata": {},
   "outputs": [
    {
     "name": "stdout",
     "output_type": "stream",
     "text": [
      "('Training accuracy:', 0.83522736172456169)\n",
      "('Test accuracy:', 0.8394275663520705)\n"
     ]
    }
   ],
   "source": [
    "from sklearn import linear_model\n",
    "\n",
    "lr = linear_model.LinearRegression()\n",
    "model = lr.fit(Xs, y_train)\n",
    "print('Training accuracy:', lr.score(Xs, y_train))\n",
    "print('Test accuracy:', lr.score(Xst, y_test))"
   ]
  },
  {
   "cell_type": "code",
   "execution_count": 884,
   "metadata": {},
   "outputs": [],
   "source": [
    "# After adding KitchenQual ->0.82579 -> 0.83571\n",
    "# After adding FireplaceQual ->0.83571 -> 0.83762\n",
    "# After adding GarageFinish ->0.83762 -> 0.83816\n",
    "# After adding BsmtFinType1 ->0.83816 -> 0.84013\n",
    "# After adding HeatingQu ->0.84013 -> 0.83942"
   ]
  },
  {
   "cell_type": "markdown",
   "metadata": {},
   "source": [
    "**1. Evaluate the effect in dollars of the renovate-able features. **"
   ]
  },
  {
   "cell_type": "raw",
   "metadata": {},
   "source": [
    "Based on the Lasso-Coefficients,the top 5 renovate-able features and their value are as follows:\n",
    "\n",
    "KitchenQual - US$29k/change in grade\n",
    "Fireplace Quality - US$20k/change in grade\n",
    "Garage Finish - US$14k/change in grade\n",
    "Basement Finish - US$8k/change in grade\n",
    "Heating Quality - US$7k/change in grade"
   ]
  },
  {
   "cell_type": "markdown",
   "metadata": {},
   "source": [
    "**2.How would your company use this second model and its coefficients to determine whether they should buy a property or not? Explain how the company can use the two models you have built to determine if they can make money. **"
   ]
  },
  {
   "cell_type": "raw",
   "metadata": {},
   "source": [
    "The company scouts for houses with potential in the above areas to be renovated. The company can then renovate any of these areas to its desired level at a cost below the respective coefficients. Selling it at the predicted price makes a profit."
   ]
  },
  {
   "cell_type": "markdown",
   "metadata": {},
   "source": [
    "**3. Investigate how much of the variance in price remaining is explained by these features.**"
   ]
  },
  {
   "cell_type": "code",
   "execution_count": null,
   "metadata": {},
   "outputs": [],
   "source": []
  },
  {
   "cell_type": "markdown",
   "metadata": {},
   "source": [
    "**4. Do you trust your model? Should it be used to evaluate which properties to buy and fix up?**"
   ]
  },
  {
   "cell_type": "code",
   "execution_count": null,
   "metadata": {},
   "outputs": [],
   "source": [
    "Yes."
   ]
  },
  {
   "cell_type": "markdown",
   "metadata": {},
   "source": [
    "<img src=\"http://imgur.com/GCAf1UX.png\" style=\"float: left; margin: 25px 15px 0px 0px; height: 25px\">\n",
    "\n",
    "## 3. What property characteristics predict an \"abnormal\" sale?\n",
    "\n",
    "---\n",
    "\n",
    "The `SaleCondition` feature indicates the circumstances of the house sale. From the data file, we can see that the possibilities are:\n",
    "\n",
    "       Normal\tNormal Sale\n",
    "       Abnorml\tAbnormal Sale -  trade, foreclosure, short sale\n",
    "       AdjLand\tAdjoining Land Purchase\n",
    "       Alloca\tAllocation - two linked properties with separate deeds, typically condo with a garage unit\t\n",
    "       Family\tSale between family members\n",
    "       Partial\tHome was not completed when last assessed (associated with New Homes)\n",
    "       \n",
    "One of the executives at your company has an \"in\" with higher-ups at the major regional bank. His friends at the bank have made him a proposal: if he can reliably indicate what features, if any, predict \"abnormal\" sales (foreclosures, short sales, etc.), then in return the bank will give him first dibs on the pre-auction purchase of those properties (at a dirt-cheap price).\n",
    "\n",
    "He has tasked you with determining (and adequately validating) which features of a property predict this type of sale. \n",
    "\n",
    "---\n",
    "\n",
    "**Your task:**\n",
    "1. Determine which features predict the `Abnorml` category in the `SaleCondition` feature.\n",
    "- Justify your results.\n",
    "\n",
    "This is a challenging task that tests your ability to perform classification analysis in the face of severe class imbalance. You may find that simply running a classifier on the full dataset to predict the category ends up useless: when there is bad class imbalance classifiers often tend to simply guess the majority class.\n",
    "\n",
    "It is up to you to determine how you will tackle this problem. I recommend doing some research to find out how others have dealt with the problem in the past. Make sure to justify your solution. Don't worry about it being \"the best\" solution, but be rigorous.\n",
    "\n",
    "Be sure to indicate which features are predictive (if any) and whether they are positive or negative predictors of abnormal sales."
   ]
  },
  {
   "cell_type": "code",
   "execution_count": 219,
   "metadata": {
    "collapsed": true
   },
   "outputs": [
    {
     "data": {
      "text/plain": [
       "Normal     1192\n",
       "Partial     125\n",
       "Abnorml      95\n",
       "Family       20\n",
       "Alloca       11\n",
       "AdjLand       4\n",
       "Name: SaleCondition, dtype: int64"
      ]
     },
     "execution_count": 219,
     "metadata": {},
     "output_type": "execute_result"
    }
   ],
   "source": [
    "pd.value_counts(df['SaleCondition'])"
   ]
  },
  {
   "cell_type": "code",
   "execution_count": 453,
   "metadata": {},
   "outputs": [],
   "source": [
    "df3 = df.copy(deep=True)"
   ]
  },
  {
   "cell_type": "code",
   "execution_count": 454,
   "metadata": {},
   "outputs": [
    {
     "data": {
      "text/html": [
       "<div>\n",
       "<style scoped>\n",
       "    .dataframe tbody tr th:only-of-type {\n",
       "        vertical-align: middle;\n",
       "    }\n",
       "\n",
       "    .dataframe tbody tr th {\n",
       "        vertical-align: top;\n",
       "    }\n",
       "\n",
       "    .dataframe thead th {\n",
       "        text-align: right;\n",
       "    }\n",
       "</style>\n",
       "<table border=\"1\" class=\"dataframe\">\n",
       "  <thead>\n",
       "    <tr style=\"text-align: right;\">\n",
       "      <th></th>\n",
       "      <th>MSSubClass</th>\n",
       "      <th>MSZoning</th>\n",
       "      <th>LotFrontage</th>\n",
       "      <th>LotArea</th>\n",
       "      <th>Street</th>\n",
       "      <th>LotShape</th>\n",
       "      <th>LandContour</th>\n",
       "      <th>Utilities</th>\n",
       "      <th>LotConfig</th>\n",
       "      <th>LandSlope</th>\n",
       "      <th>...</th>\n",
       "      <th>Stone</th>\n",
       "      <th>CBlock</th>\n",
       "      <th>RRNe</th>\n",
       "      <th>Feedr</th>\n",
       "      <th>PosN</th>\n",
       "      <th>Artery</th>\n",
       "      <th>RRAe</th>\n",
       "      <th>RRNn</th>\n",
       "      <th>RRAn</th>\n",
       "      <th>PosA</th>\n",
       "    </tr>\n",
       "  </thead>\n",
       "  <tbody>\n",
       "    <tr>\n",
       "      <th>0</th>\n",
       "      <td>Class60</td>\n",
       "      <td>RL</td>\n",
       "      <td>65.0</td>\n",
       "      <td>8450</td>\n",
       "      <td>Pave</td>\n",
       "      <td>Reg</td>\n",
       "      <td>Lvl</td>\n",
       "      <td>AllPub</td>\n",
       "      <td>Inside</td>\n",
       "      <td>Gtl</td>\n",
       "      <td>...</td>\n",
       "      <td>0</td>\n",
       "      <td>0</td>\n",
       "      <td>0</td>\n",
       "      <td>0</td>\n",
       "      <td>0</td>\n",
       "      <td>0</td>\n",
       "      <td>0</td>\n",
       "      <td>0</td>\n",
       "      <td>0</td>\n",
       "      <td>0</td>\n",
       "    </tr>\n",
       "    <tr>\n",
       "      <th>1</th>\n",
       "      <td>Class20</td>\n",
       "      <td>RL</td>\n",
       "      <td>80.0</td>\n",
       "      <td>9600</td>\n",
       "      <td>Pave</td>\n",
       "      <td>Reg</td>\n",
       "      <td>Lvl</td>\n",
       "      <td>AllPub</td>\n",
       "      <td>FR2</td>\n",
       "      <td>Gtl</td>\n",
       "      <td>...</td>\n",
       "      <td>0</td>\n",
       "      <td>0</td>\n",
       "      <td>0</td>\n",
       "      <td>1</td>\n",
       "      <td>0</td>\n",
       "      <td>0</td>\n",
       "      <td>0</td>\n",
       "      <td>0</td>\n",
       "      <td>0</td>\n",
       "      <td>0</td>\n",
       "    </tr>\n",
       "    <tr>\n",
       "      <th>2</th>\n",
       "      <td>Class60</td>\n",
       "      <td>RL</td>\n",
       "      <td>68.0</td>\n",
       "      <td>11250</td>\n",
       "      <td>Pave</td>\n",
       "      <td>IR1</td>\n",
       "      <td>Lvl</td>\n",
       "      <td>AllPub</td>\n",
       "      <td>Inside</td>\n",
       "      <td>Gtl</td>\n",
       "      <td>...</td>\n",
       "      <td>0</td>\n",
       "      <td>0</td>\n",
       "      <td>0</td>\n",
       "      <td>0</td>\n",
       "      <td>0</td>\n",
       "      <td>0</td>\n",
       "      <td>0</td>\n",
       "      <td>0</td>\n",
       "      <td>0</td>\n",
       "      <td>0</td>\n",
       "    </tr>\n",
       "    <tr>\n",
       "      <th>3</th>\n",
       "      <td>Class70</td>\n",
       "      <td>RL</td>\n",
       "      <td>60.0</td>\n",
       "      <td>9550</td>\n",
       "      <td>Pave</td>\n",
       "      <td>IR1</td>\n",
       "      <td>Lvl</td>\n",
       "      <td>AllPub</td>\n",
       "      <td>Corner</td>\n",
       "      <td>Gtl</td>\n",
       "      <td>...</td>\n",
       "      <td>0</td>\n",
       "      <td>0</td>\n",
       "      <td>0</td>\n",
       "      <td>0</td>\n",
       "      <td>0</td>\n",
       "      <td>0</td>\n",
       "      <td>0</td>\n",
       "      <td>0</td>\n",
       "      <td>0</td>\n",
       "      <td>0</td>\n",
       "    </tr>\n",
       "    <tr>\n",
       "      <th>4</th>\n",
       "      <td>Class60</td>\n",
       "      <td>RL</td>\n",
       "      <td>84.0</td>\n",
       "      <td>14260</td>\n",
       "      <td>Pave</td>\n",
       "      <td>IR1</td>\n",
       "      <td>Lvl</td>\n",
       "      <td>AllPub</td>\n",
       "      <td>FR2</td>\n",
       "      <td>Gtl</td>\n",
       "      <td>...</td>\n",
       "      <td>0</td>\n",
       "      <td>0</td>\n",
       "      <td>0</td>\n",
       "      <td>0</td>\n",
       "      <td>0</td>\n",
       "      <td>0</td>\n",
       "      <td>0</td>\n",
       "      <td>0</td>\n",
       "      <td>0</td>\n",
       "      <td>0</td>\n",
       "    </tr>\n",
       "  </tbody>\n",
       "</table>\n",
       "<p>5 rows × 89 columns</p>\n",
       "</div>"
      ],
      "text/plain": [
       "  MSSubClass MSZoning  LotFrontage  LotArea Street LotShape LandContour  \\\n",
       "0    Class60       RL         65.0     8450   Pave      Reg         Lvl   \n",
       "1    Class20       RL         80.0     9600   Pave      Reg         Lvl   \n",
       "2    Class60       RL         68.0    11250   Pave      IR1         Lvl   \n",
       "3    Class70       RL         60.0     9550   Pave      IR1         Lvl   \n",
       "4    Class60       RL         84.0    14260   Pave      IR1         Lvl   \n",
       "\n",
       "  Utilities LotConfig LandSlope  ...  Stone CBlock RRNe  Feedr  PosN  Artery  \\\n",
       "0    AllPub    Inside       Gtl  ...      0      0    0      0     0       0   \n",
       "1    AllPub       FR2       Gtl  ...      0      0    0      1     0       0   \n",
       "2    AllPub    Inside       Gtl  ...      0      0    0      0     0       0   \n",
       "3    AllPub    Corner       Gtl  ...      0      0    0      0     0       0   \n",
       "4    AllPub       FR2       Gtl  ...      0      0    0      0     0       0   \n",
       "\n",
       "  RRAe RRNn RRAn  PosA  \n",
       "0    0    0    0     0  \n",
       "1    0    0    0     0  \n",
       "2    0    0    0     0  \n",
       "3    0    0    0     0  \n",
       "4    0    0    0     0  \n",
       "\n",
       "[5 rows x 89 columns]"
      ]
     },
     "execution_count": 454,
     "metadata": {},
     "output_type": "execute_result"
    }
   ],
   "source": [
    "df3.head()"
   ]
  },
  {
   "cell_type": "code",
   "execution_count": 455,
   "metadata": {},
   "outputs": [
    {
     "data": {
      "text/plain": [
       "Normal     1192\n",
       "Partial     125\n",
       "Abnorml      95\n",
       "Family       20\n",
       "Alloca       11\n",
       "AdjLand       4\n",
       "Name: SaleCondition, dtype: int64"
      ]
     },
     "execution_count": 455,
     "metadata": {},
     "output_type": "execute_result"
    }
   ],
   "source": [
    "pd.value_counts(df3['SaleCondition'])"
   ]
  },
  {
   "cell_type": "code",
   "execution_count": 456,
   "metadata": {},
   "outputs": [],
   "source": [
    "df3['SaleCondition'] = df3['SaleCondition'].apply(lambda x: 1 if x == 'Abnorml' else 0)"
   ]
  },
  {
   "cell_type": "code",
   "execution_count": 457,
   "metadata": {},
   "outputs": [
    {
     "data": {
      "text/plain": [
       "0    1352\n",
       "1      95\n",
       "Name: SaleCondition, dtype: int64"
      ]
     },
     "execution_count": 457,
     "metadata": {},
     "output_type": "execute_result"
    }
   ],
   "source": [
    "pd.value_counts(df3['SaleCondition'])"
   ]
  },
  {
   "cell_type": "code",
   "execution_count": 458,
   "metadata": {},
   "outputs": [],
   "source": [
    "# Categorical Features for Part2 Exclude YearSold, CentralAir\n",
    "Cat2 = ['RoofStyle','RoofMatl','MoSold','SaleType','Electrical','Heating']"
   ]
  },
  {
   "cell_type": "code",
   "execution_count": 459,
   "metadata": {},
   "outputs": [],
   "source": [
    "for i in Cat2:\n",
    "    dummy = pd.get_dummies(df3[i],drop_first=True)\n",
    "    df3 = pd.concat([df3, dummy], axis=1)\n",
    "    df3.drop(i, axis=1, inplace=True)"
   ]
  },
  {
   "cell_type": "code",
   "execution_count": 460,
   "metadata": {},
   "outputs": [],
   "source": [
    "# Categorical Features for part 1 Exclude YearSold, CentralAir\n",
    "Cat = ['MSSubClass','MSZoning','Street','LotShape','LandContour',\n",
    "       'Utilities','LotConfig','LandSlope','Neighborhood','BldgType',\n",
    "       'HouseStyle','MasVnrType','Foundation','GarageType','PavedDrive',]"
   ]
  },
  {
   "cell_type": "code",
   "execution_count": 461,
   "metadata": {},
   "outputs": [],
   "source": [
    "for i in Cat:\n",
    "    dummy = pd.get_dummies(df3[i],drop_first=True)\n",
    "    df3 = pd.concat([df3, dummy], axis=1)\n",
    "    df3.drop(i, axis=1, inplace=True)"
   ]
  },
  {
   "cell_type": "code",
   "execution_count": 462,
   "metadata": {},
   "outputs": [],
   "source": [
    "df3.drop('SalePrice',axis=1,inplace=True)"
   ]
  },
  {
   "cell_type": "code",
   "execution_count": 463,
   "metadata": {},
   "outputs": [
    {
     "data": {
      "text/plain": [
       "Index([u'LotFrontage', u'LotArea', u'OverallQual', u'OverallCond',\n",
       "       u'YearBuilt', u'MasVnrArea', u'ExterQual', u'ExterCond', u'BsmtQual',\n",
       "       u'BsmtCond',\n",
       "       ...\n",
       "       u'Stone', u'Wood', u'Attchd', u'Basment', u'BuiltIn', u'CarPort',\n",
       "       u'Detchd', u'NoGarage', u'P', u'Y'],\n",
       "      dtype='object', length=189)"
      ]
     },
     "execution_count": 463,
     "metadata": {},
     "output_type": "execute_result"
    }
   ],
   "source": [
    "df3.columns"
   ]
  },
  {
   "cell_type": "code",
   "execution_count": 464,
   "metadata": {},
   "outputs": [
    {
     "data": {
      "text/plain": [
       "0    1352\n",
       "1      95\n",
       "Name: SaleCondition, dtype: int64"
      ]
     },
     "execution_count": 464,
     "metadata": {},
     "output_type": "execute_result"
    }
   ],
   "source": [
    "pd.value_counts(df3['SaleCondition'])"
   ]
  },
  {
   "cell_type": "code",
   "execution_count": 465,
   "metadata": {},
   "outputs": [],
   "source": [
    "train3 = df3[df3['YrSold'] < 2010]\n",
    "test3 = df3[df3['YrSold'] == 2010]"
   ]
  },
  {
   "cell_type": "code",
   "execution_count": 466,
   "metadata": {},
   "outputs": [],
   "source": [
    "cols = list(df3.columns)\n",
    "cols.remove('SaleCondition')\n",
    "\n",
    "X_train3 = train3[cols]\n",
    "X_test3 = test3[cols]\n",
    "\n",
    "y_train3 = train3['SaleCondition'].values\n",
    "y_test3 = test3['SaleCondition'].values"
   ]
  },
  {
   "cell_type": "code",
   "execution_count": 467,
   "metadata": {},
   "outputs": [
    {
     "data": {
      "text/plain": [
       "0.94767441860465118"
      ]
     },
     "execution_count": 467,
     "metadata": {},
     "output_type": "execute_result"
    }
   ],
   "source": [
    "baseline = 1- np.mean(y_test3)\n",
    "baseline"
   ]
  },
  {
   "cell_type": "code",
   "execution_count": 468,
   "metadata": {},
   "outputs": [
    {
     "name": "stdout",
     "output_type": "stream",
     "text": [
      "(1275, 198) (1275,)\n",
      "(172, 198) (172,)\n"
     ]
    }
   ],
   "source": [
    "print X_train3.shape, y_train3.shape\n",
    "print X_test3.shape, y_test3.shape"
   ]
  },
  {
   "cell_type": "code",
   "execution_count": 469,
   "metadata": {},
   "outputs": [],
   "source": [
    "from sklearn.preprocessing import StandardScaler\n",
    "\n",
    "ss = StandardScaler()\n",
    "Xs3 = ss.fit_transform(X_train3)\n",
    "Xst3 = ss.fit_transform(X_test3)"
   ]
  },
  {
   "cell_type": "code",
   "execution_count": 470,
   "metadata": {},
   "outputs": [
    {
     "name": "stdout",
     "output_type": "stream",
     "text": [
      "[ 0.9296875   0.9296875   0.9296875   0.9296875   0.9296875   0.9296875\n",
      "  0.93700787  0.94488189  0.93700787  0.93650794]\n",
      "0.93335305743\n"
     ]
    }
   ],
   "source": [
    "from sklearn.neighbors import KNeighborsClassifier\n",
    "from sklearn.model_selection import cross_val_score\n",
    "\n",
    "knn = KNeighborsClassifier()\n",
    "accs = cross_val_score(knn, Xs3, y_train3, cv=10)\n",
    "\n",
    "print accs\n",
    "print np.mean(accs)"
   ]
  },
  {
   "cell_type": "code",
   "execution_count": 471,
   "metadata": {},
   "outputs": [
    {
     "data": {
      "text/plain": [
       "0.94767441860465118"
      ]
     },
     "execution_count": 471,
     "metadata": {},
     "output_type": "execute_result"
    }
   ],
   "source": [
    "knn.fit(Xs3,y_train3)\n",
    "knn.score(Xst3, y_test3)"
   ]
  },
  {
   "cell_type": "code",
   "execution_count": 472,
   "metadata": {},
   "outputs": [
    {
     "data": {
      "text/plain": [
       "1    1352\n",
       "0    1352\n",
       "Name: SaleCondition, dtype: int64"
      ]
     },
     "execution_count": 472,
     "metadata": {},
     "output_type": "execute_result"
    }
   ],
   "source": [
    "from sklearn.utils import resample\n",
    "\n",
    "# Separate majority and minority classes\n",
    "df_majority = df3[df3['SaleCondition']==0]\n",
    "df_minority = df3[df3['SaleCondition']==1]\n",
    " \n",
    "# Upsample minority class\n",
    "df_minority_upsampled = resample(df_minority, \n",
    "                                 replace=True,     # sample with replacement\n",
    "                                 n_samples=1352,    # to match majority class\n",
    "                                 random_state=123) # reproducible results\n",
    " \n",
    "# Combine majority class with upsampled minority class\n",
    "df_upsampled = pd.concat([df_majority, df_minority_upsampled])\n",
    " \n",
    "# Display new class counts\n",
    "df_upsampled['SaleCondition'].value_counts()\n",
    "# 1    576\n",
    "# 0    576\n",
    "# Name: balance, dtype: int64"
   ]
  },
  {
   "cell_type": "code",
   "execution_count": 473,
   "metadata": {},
   "outputs": [],
   "source": [
    "train3 = df_upsampled[df_upsampled['YrSold'] < 2010]\n",
    "test3 = df_upsampled[df_upsampled['YrSold'] == 2010]"
   ]
  },
  {
   "cell_type": "code",
   "execution_count": 474,
   "metadata": {},
   "outputs": [
    {
     "data": {
      "text/plain": [
       "0    163\n",
       "1    147\n",
       "Name: SaleCondition, dtype: int64"
      ]
     },
     "execution_count": 474,
     "metadata": {},
     "output_type": "execute_result"
    }
   ],
   "source": [
    "pd.value_counts(test3['SaleCondition'])"
   ]
  },
  {
   "cell_type": "code",
   "execution_count": 475,
   "metadata": {},
   "outputs": [
    {
     "data": {
      "text/html": [
       "<div>\n",
       "<style scoped>\n",
       "    .dataframe tbody tr th:only-of-type {\n",
       "        vertical-align: middle;\n",
       "    }\n",
       "\n",
       "    .dataframe tbody tr th {\n",
       "        vertical-align: top;\n",
       "    }\n",
       "\n",
       "    .dataframe thead th {\n",
       "        text-align: right;\n",
       "    }\n",
       "</style>\n",
       "<table border=\"1\" class=\"dataframe\">\n",
       "  <thead>\n",
       "    <tr style=\"text-align: right;\">\n",
       "      <th></th>\n",
       "      <th>feature</th>\n",
       "      <th>f_classif</th>\n",
       "      <th>chi2 score</th>\n",
       "    </tr>\n",
       "  </thead>\n",
       "  <tbody>\n",
       "    <tr>\n",
       "      <th>99</th>\n",
       "      <td>Mix</td>\n",
       "      <td>42.9085</td>\n",
       "      <td>41.4767</td>\n",
       "    </tr>\n",
       "    <tr>\n",
       "      <th>100</th>\n",
       "      <td>SBrkr</td>\n",
       "      <td>24.4065</td>\n",
       "      <td>3.31086</td>\n",
       "    </tr>\n",
       "    <tr>\n",
       "      <th>32</th>\n",
       "      <td>GarageQual</td>\n",
       "      <td>17.9911</td>\n",
       "      <td>3.23347</td>\n",
       "    </tr>\n",
       "    <tr>\n",
       "      <th>124</th>\n",
       "      <td>IR2</td>\n",
       "      <td>15.634</td>\n",
       "      <td>15.2745</td>\n",
       "    </tr>\n",
       "    <tr>\n",
       "      <th>33</th>\n",
       "      <td>GarageCond</td>\n",
       "      <td>15.4878</td>\n",
       "      <td>2.75825</td>\n",
       "    </tr>\n",
       "    <tr>\n",
       "      <th>29</th>\n",
       "      <td>GarageFinish</td>\n",
       "      <td>14.2113</td>\n",
       "      <td>6.4897</td>\n",
       "    </tr>\n",
       "    <tr>\n",
       "      <th>30</th>\n",
       "      <td>GarageCars</td>\n",
       "      <td>14.0311</td>\n",
       "      <td>4.37362</td>\n",
       "    </tr>\n",
       "    <tr>\n",
       "      <th>28</th>\n",
       "      <td>FireplaceQu</td>\n",
       "      <td>13.9891</td>\n",
       "      <td>24.4324</td>\n",
       "    </tr>\n",
       "    <tr>\n",
       "      <th>103</th>\n",
       "      <td>Grav</td>\n",
       "      <td>13.9663</td>\n",
       "      <td>13.8256</td>\n",
       "    </tr>\n",
       "    <tr>\n",
       "      <th>134</th>\n",
       "      <td>Inside</td>\n",
       "      <td>13.9663</td>\n",
       "      <td>13.8256</td>\n",
       "    </tr>\n",
       "    <tr>\n",
       "      <th>195</th>\n",
       "      <td>NaN</td>\n",
       "      <td>13.6971</td>\n",
       "      <td>12.8487</td>\n",
       "    </tr>\n",
       "    <tr>\n",
       "      <th>27</th>\n",
       "      <td>Fireplaces</td>\n",
       "      <td>11.4032</td>\n",
       "      <td>7.44246</td>\n",
       "    </tr>\n",
       "    <tr>\n",
       "      <th>31</th>\n",
       "      <td>GarageArea</td>\n",
       "      <td>11.2666</td>\n",
       "      <td>1090.73</td>\n",
       "    </tr>\n",
       "    <tr>\n",
       "      <th>4</th>\n",
       "      <td>YearBuilt</td>\n",
       "      <td>10.2915</td>\n",
       "      <td>4.75376</td>\n",
       "    </tr>\n",
       "    <tr>\n",
       "      <th>40</th>\n",
       "      <td>Age</td>\n",
       "      <td>9.94463</td>\n",
       "      <td>252.108</td>\n",
       "    </tr>\n",
       "    <tr>\n",
       "      <th>2</th>\n",
       "      <td>OverallQual</td>\n",
       "      <td>9.80717</td>\n",
       "      <td>3.00194</td>\n",
       "    </tr>\n",
       "    <tr>\n",
       "      <th>6</th>\n",
       "      <td>ExterQual</td>\n",
       "      <td>9.51244</td>\n",
       "      <td>0.899658</td>\n",
       "    </tr>\n",
       "    <tr>\n",
       "      <th>98</th>\n",
       "      <td>FuseP</td>\n",
       "      <td>9.19412</td>\n",
       "      <td>8.31791</td>\n",
       "    </tr>\n",
       "    <tr>\n",
       "      <th>190</th>\n",
       "      <td>NaN</td>\n",
       "      <td>9.06141</td>\n",
       "      <td>3.64701</td>\n",
       "    </tr>\n",
       "    <tr>\n",
       "      <th>184</th>\n",
       "      <td>Detchd</td>\n",
       "      <td>8.10163</td>\n",
       "      <td>4.43942</td>\n",
       "    </tr>\n",
       "    <tr>\n",
       "      <th>118</th>\n",
       "      <td>Class85</td>\n",
       "      <td>7.41575</td>\n",
       "      <td>5.84959</td>\n",
       "    </tr>\n",
       "    <tr>\n",
       "      <th>36</th>\n",
       "      <td>EnclosedPorch</td>\n",
       "      <td>7.41535</td>\n",
       "      <td>1291.07</td>\n",
       "    </tr>\n",
       "    <tr>\n",
       "      <th>42</th>\n",
       "      <td>TotalBath</td>\n",
       "      <td>7.22057</td>\n",
       "      <td>2.03248</td>\n",
       "    </tr>\n",
       "    <tr>\n",
       "      <th>14</th>\n",
       "      <td>BsmtFinSF2</td>\n",
       "      <td>6.81374</td>\n",
       "      <td>3706.32</td>\n",
       "    </tr>\n",
       "    <tr>\n",
       "      <th>186</th>\n",
       "      <td>P</td>\n",
       "      <td>6.80066</td>\n",
       "      <td>6.74327</td>\n",
       "    </tr>\n",
       "    <tr>\n",
       "      <th>179</th>\n",
       "      <td>Wood</td>\n",
       "      <td>6.80066</td>\n",
       "      <td>6.74327</td>\n",
       "    </tr>\n",
       "    <tr>\n",
       "      <th>57</th>\n",
       "      <td>CBlock</td>\n",
       "      <td>6.80066</td>\n",
       "      <td>6.74327</td>\n",
       "    </tr>\n",
       "    <tr>\n",
       "      <th>89</th>\n",
       "      <td>CWD</td>\n",
       "      <td>6.60974</td>\n",
       "      <td>5.46503</td>\n",
       "    </tr>\n",
       "    <tr>\n",
       "      <th>104</th>\n",
       "      <td>OthW</td>\n",
       "      <td>6.48769</td>\n",
       "      <td>0.567901</td>\n",
       "    </tr>\n",
       "    <tr>\n",
       "      <th>61</th>\n",
       "      <td>Artery</td>\n",
       "      <td>5.65359</td>\n",
       "      <td>3.24539</td>\n",
       "    </tr>\n",
       "    <tr>\n",
       "      <th>...</th>\n",
       "      <td>...</td>\n",
       "      <td>...</td>\n",
       "      <td>...</td>\n",
       "    </tr>\n",
       "    <tr>\n",
       "      <th>168</th>\n",
       "      <td>2.5Unf</td>\n",
       "      <td>0.0798289</td>\n",
       "      <td>0.0737415</td>\n",
       "    </tr>\n",
       "    <tr>\n",
       "      <th>76</th>\n",
       "      <td>WdShake</td>\n",
       "      <td>0.072277</td>\n",
       "      <td>0.0723297</td>\n",
       "    </tr>\n",
       "    <tr>\n",
       "      <th>77</th>\n",
       "      <td>WdShngl</td>\n",
       "      <td>0.072277</td>\n",
       "      <td>0.0723297</td>\n",
       "    </tr>\n",
       "    <tr>\n",
       "      <th>43</th>\n",
       "      <td>Other</td>\n",
       "      <td>0.072277</td>\n",
       "      <td>0.0723297</td>\n",
       "    </tr>\n",
       "    <tr>\n",
       "      <th>182</th>\n",
       "      <td>BuiltIn</td>\n",
       "      <td>0.072277</td>\n",
       "      <td>0.0723297</td>\n",
       "    </tr>\n",
       "    <tr>\n",
       "      <th>74</th>\n",
       "      <td>Roll</td>\n",
       "      <td>0.072277</td>\n",
       "      <td>0.0723297</td>\n",
       "    </tr>\n",
       "    <tr>\n",
       "      <th>94</th>\n",
       "      <td>New</td>\n",
       "      <td>0.072277</td>\n",
       "      <td>0.0723297</td>\n",
       "    </tr>\n",
       "    <tr>\n",
       "      <th>62</th>\n",
       "      <td>RRAe</td>\n",
       "      <td>0.072277</td>\n",
       "      <td>0.0723297</td>\n",
       "    </tr>\n",
       "    <tr>\n",
       "      <th>60</th>\n",
       "      <td>PosN</td>\n",
       "      <td>0.072277</td>\n",
       "      <td>0.0723297</td>\n",
       "    </tr>\n",
       "    <tr>\n",
       "      <th>78</th>\n",
       "      <td>mon10</td>\n",
       "      <td>0.072277</td>\n",
       "      <td>0.0723297</td>\n",
       "    </tr>\n",
       "    <tr>\n",
       "      <th>149</th>\n",
       "      <td>NPkVill</td>\n",
       "      <td>0.0637441</td>\n",
       "      <td>0.0625892</td>\n",
       "    </tr>\n",
       "    <tr>\n",
       "      <th>165</th>\n",
       "      <td>1.5Unf</td>\n",
       "      <td>0.0637441</td>\n",
       "      <td>0.0625892</td>\n",
       "    </tr>\n",
       "    <tr>\n",
       "      <th>101</th>\n",
       "      <td>GasA</td>\n",
       "      <td>0.0637441</td>\n",
       "      <td>0.0625892</td>\n",
       "    </tr>\n",
       "    <tr>\n",
       "      <th>128</th>\n",
       "      <td>Low</td>\n",
       "      <td>0.0607008</td>\n",
       "      <td>0.0591245</td>\n",
       "    </tr>\n",
       "    <tr>\n",
       "      <th>135</th>\n",
       "      <td>Mod</td>\n",
       "      <td>0.0449624</td>\n",
       "      <td>0.0421706</td>\n",
       "    </tr>\n",
       "    <tr>\n",
       "      <th>22</th>\n",
       "      <td>BedroomAbvGr</td>\n",
       "      <td>0.0440515</td>\n",
       "      <td>0.0102397</td>\n",
       "    </tr>\n",
       "    <tr>\n",
       "      <th>113</th>\n",
       "      <td>Class50</td>\n",
       "      <td>0.0319334</td>\n",
       "      <td>0.0203686</td>\n",
       "    </tr>\n",
       "    <tr>\n",
       "      <th>146</th>\n",
       "      <td>MeadowV</td>\n",
       "      <td>0.0194068</td>\n",
       "      <td>0.0187053</td>\n",
       "    </tr>\n",
       "    <tr>\n",
       "      <th>47</th>\n",
       "      <td>Plywood</td>\n",
       "      <td>0.0184933</td>\n",
       "      <td>0.0166626</td>\n",
       "    </tr>\n",
       "    <tr>\n",
       "      <th>48</th>\n",
       "      <td>Wd Sdng</td>\n",
       "      <td>0.0119803</td>\n",
       "      <td>0.0101356</td>\n",
       "    </tr>\n",
       "    <tr>\n",
       "      <th>52</th>\n",
       "      <td>AsbShng</td>\n",
       "      <td>0.00718957</td>\n",
       "      <td>0.00704269</td>\n",
       "    </tr>\n",
       "    <tr>\n",
       "      <th>139</th>\n",
       "      <td>BrkSide</td>\n",
       "      <td>0.00703006</td>\n",
       "      <td>0.00672628</td>\n",
       "    </tr>\n",
       "    <tr>\n",
       "      <th>90</th>\n",
       "      <td>Con</td>\n",
       "      <td>0.0050791</td>\n",
       "      <td>0.00418535</td>\n",
       "    </tr>\n",
       "    <tr>\n",
       "      <th>132</th>\n",
       "      <td>FR2</td>\n",
       "      <td>0.00434394</td>\n",
       "      <td>0.00424496</td>\n",
       "    </tr>\n",
       "    <tr>\n",
       "      <th>150</th>\n",
       "      <td>NWAmes</td>\n",
       "      <td>0.00355486</td>\n",
       "      <td>0.00352134</td>\n",
       "    </tr>\n",
       "    <tr>\n",
       "      <th>159</th>\n",
       "      <td>Timber</td>\n",
       "      <td>0.00221241</td>\n",
       "      <td>0.00211508</td>\n",
       "    </tr>\n",
       "    <tr>\n",
       "      <th>133</th>\n",
       "      <td>FR3</td>\n",
       "      <td>0.00147427</td>\n",
       "      <td>0.000156344</td>\n",
       "    </tr>\n",
       "    <tr>\n",
       "      <th>123</th>\n",
       "      <td>Pave</td>\n",
       "      <td>0.000455466</td>\n",
       "      <td>0.000440081</td>\n",
       "    </tr>\n",
       "    <tr>\n",
       "      <th>151</th>\n",
       "      <td>NoRidge</td>\n",
       "      <td>0.000455466</td>\n",
       "      <td>0.000440081</td>\n",
       "    </tr>\n",
       "    <tr>\n",
       "      <th>166</th>\n",
       "      <td>1Story</td>\n",
       "      <td>0.000455466</td>\n",
       "      <td>0.000440081</td>\n",
       "    </tr>\n",
       "  </tbody>\n",
       "</table>\n",
       "<p>198 rows × 3 columns</p>\n",
       "</div>"
      ],
      "text/plain": [
       "           feature    f_classif   chi2 score\n",
       "99             Mix      42.9085      41.4767\n",
       "100          SBrkr      24.4065      3.31086\n",
       "32      GarageQual      17.9911      3.23347\n",
       "124            IR2       15.634      15.2745\n",
       "33      GarageCond      15.4878      2.75825\n",
       "29    GarageFinish      14.2113       6.4897\n",
       "30      GarageCars      14.0311      4.37362\n",
       "28     FireplaceQu      13.9891      24.4324\n",
       "103           Grav      13.9663      13.8256\n",
       "134         Inside      13.9663      13.8256\n",
       "195            NaN      13.6971      12.8487\n",
       "27      Fireplaces      11.4032      7.44246\n",
       "31      GarageArea      11.2666      1090.73\n",
       "4        YearBuilt      10.2915      4.75376\n",
       "40             Age      9.94463      252.108\n",
       "2      OverallQual      9.80717      3.00194\n",
       "6        ExterQual      9.51244     0.899658\n",
       "98           FuseP      9.19412      8.31791\n",
       "190            NaN      9.06141      3.64701\n",
       "184         Detchd      8.10163      4.43942\n",
       "118        Class85      7.41575      5.84959\n",
       "36   EnclosedPorch      7.41535      1291.07\n",
       "42       TotalBath      7.22057      2.03248\n",
       "14      BsmtFinSF2      6.81374      3706.32\n",
       "186              P      6.80066      6.74327\n",
       "179           Wood      6.80066      6.74327\n",
       "57          CBlock      6.80066      6.74327\n",
       "89             CWD      6.60974      5.46503\n",
       "104           OthW      6.48769     0.567901\n",
       "61          Artery      5.65359      3.24539\n",
       "..             ...          ...          ...\n",
       "168         2.5Unf    0.0798289    0.0737415\n",
       "76         WdShake     0.072277    0.0723297\n",
       "77         WdShngl     0.072277    0.0723297\n",
       "43           Other     0.072277    0.0723297\n",
       "182        BuiltIn     0.072277    0.0723297\n",
       "74            Roll     0.072277    0.0723297\n",
       "94             New     0.072277    0.0723297\n",
       "62            RRAe     0.072277    0.0723297\n",
       "60            PosN     0.072277    0.0723297\n",
       "78           mon10     0.072277    0.0723297\n",
       "149        NPkVill    0.0637441    0.0625892\n",
       "165         1.5Unf    0.0637441    0.0625892\n",
       "101           GasA    0.0637441    0.0625892\n",
       "128            Low    0.0607008    0.0591245\n",
       "135            Mod    0.0449624    0.0421706\n",
       "22    BedroomAbvGr    0.0440515    0.0102397\n",
       "113        Class50    0.0319334    0.0203686\n",
       "146        MeadowV    0.0194068    0.0187053\n",
       "47         Plywood    0.0184933    0.0166626\n",
       "48         Wd Sdng    0.0119803    0.0101356\n",
       "52         AsbShng   0.00718957   0.00704269\n",
       "139        BrkSide   0.00703006   0.00672628\n",
       "90             Con    0.0050791   0.00418535\n",
       "132            FR2   0.00434394   0.00424496\n",
       "150         NWAmes   0.00355486   0.00352134\n",
       "159         Timber   0.00221241   0.00211508\n",
       "133            FR3   0.00147427  0.000156344\n",
       "123           Pave  0.000455466  0.000440081\n",
       "151        NoRidge  0.000455466  0.000440081\n",
       "166         1Story  0.000455466  0.000440081\n",
       "\n",
       "[198 rows x 3 columns]"
      ]
     },
     "execution_count": 475,
     "metadata": {},
     "output_type": "execute_result"
    }
   ],
   "source": [
    "from sklearn.feature_selection import SelectKBest, chi2, f_classif\n",
    "\n",
    "# Build the selector — we'll build one with each score type.\n",
    "skb_f = SelectKBest(f_classif, k=5)\n",
    "skb_chi2 = SelectKBest(chi2, k=5)\n",
    "\n",
    "# Train the selector on the data.\n",
    "skb_f.fit(X_train3, y_train3)\n",
    "skb_chi2.fit(X_train3, y_train3)\n",
    "\n",
    "# Examine the results.\n",
    "kbest = pd.DataFrame([cols, list(skb_f.scores_), list(skb_chi2.scores_)], \n",
    "                     index=['feature','f_classif','chi2 score']).T.sort_values('f_classif', ascending=False)\n",
    "kbest"
   ]
  },
  {
   "cell_type": "code",
   "execution_count": 476,
   "metadata": {},
   "outputs": [],
   "source": [
    "cols = list(df3.columns)\n",
    "cols.remove('SaleCondition')\n",
    "\n",
    "X_train3 = train3[cols]\n",
    "X_test3 = test3[cols]\n",
    "\n",
    "y_train3 = train3['SaleCondition'].values\n",
    "y_test3 = test3['SaleCondition'].values"
   ]
  },
  {
   "cell_type": "code",
   "execution_count": 477,
   "metadata": {},
   "outputs": [
    {
     "name": "stdout",
     "output_type": "stream",
     "text": [
      "(2394, 198) (2394,)\n",
      "(310, 198) (310,)\n"
     ]
    }
   ],
   "source": [
    "print X_train3.shape, y_train3.shape\n",
    "print X_test3.shape, y_test3.shape"
   ]
  },
  {
   "cell_type": "code",
   "execution_count": 478,
   "metadata": {},
   "outputs": [],
   "source": [
    "from sklearn.preprocessing import StandardScaler\n",
    "\n",
    "ss = StandardScaler()\n",
    "Xs3 = ss.fit_transform(X_train3)\n",
    "Xst3 = ss.fit_transform(X_test3)"
   ]
  },
  {
   "cell_type": "code",
   "execution_count": 479,
   "metadata": {},
   "outputs": [
    {
     "name": "stdout",
     "output_type": "stream",
     "text": [
      "[ 0.90833333  0.90833333  0.93333333  0.90416667  0.9         0.92468619\n",
      "  0.94560669  0.90376569  0.92468619  0.8487395 ]\n",
      "0.910165093234\n"
     ]
    }
   ],
   "source": [
    "from sklearn.neighbors import KNeighborsClassifier\n",
    "from sklearn.model_selection import cross_val_score\n",
    "\n",
    "knn = KNeighborsClassifier()\n",
    "accs = cross_val_score(knn, Xs3, y_train3, cv=10)\n",
    "\n",
    "print accs\n",
    "print np.mean(accs)"
   ]
  },
  {
   "cell_type": "code",
   "execution_count": 480,
   "metadata": {},
   "outputs": [
    {
     "data": {
      "text/plain": [
       "0.51935483870967747"
      ]
     },
     "execution_count": 480,
     "metadata": {},
     "output_type": "execute_result"
    }
   ],
   "source": [
    "knn.fit(Xs3,y_train3)\n",
    "knn.score(Xst3, y_test3)"
   ]
  },
  {
   "cell_type": "code",
   "execution_count": 481,
   "metadata": {},
   "outputs": [],
   "source": [
    "from sklearn.metrics import roc_curve, auc\n",
    "\n",
    "yhat = knn.predict(Xst3)\n",
    "yhat_pp = knn.predict_proba(Xst3)"
   ]
  },
  {
   "cell_type": "code",
   "execution_count": 482,
   "metadata": {},
   "outputs": [
    {
     "data": {
      "text/plain": [
       "0    163\n",
       "1    147\n",
       "Name: SaleCondition, dtype: int64"
      ]
     },
     "execution_count": 482,
     "metadata": {},
     "output_type": "execute_result"
    }
   ],
   "source": [
    "pd.value_counts(test3['SaleCondition'])"
   ]
  },
  {
   "cell_type": "code",
   "execution_count": 483,
   "metadata": {},
   "outputs": [
    {
     "data": {
      "image/png": "[encoded data removed]",
      "text/plain": [
       "<Figure size 576x576 with 1 Axes>"
      ]
     },
     "metadata": {
      "image/png": {
       "height": 501,
       "width": 505
      }
     },
     "output_type": "display_data"
    }
   ],
   "source": [
    "fpr, tpr, _ = roc_curve(test3['SaleCondition'], yhat_pp[:,1])\n",
    "roc_auc = auc(fpr, tpr)\n",
    "\n",
    "plt.figure(figsize=[8,8])\n",
    "plt.plot(fpr, tpr, label='ROC curve (area = %0.2f)' % roc_auc, linewidth=4)\n",
    "plt.plot([0, 1], [0, 1], 'k--', linewidth=4)\n",
    "plt.xlim([-0.05, 1.0])\n",
    "plt.ylim([-0.05, 1.05])\n",
    "plt.xlabel('False Positive Rate', fontsize=18)\n",
    "plt.ylabel('True Positive Rate', fontsize=18)\n",
    "plt.title('Receiver operating characteristic: abnormal sale', fontsize=18)\n",
    "plt.legend(loc=\"lower right\")\n",
    "plt.show()"
   ]
  },
  {
   "cell_type": "code",
   "execution_count": 484,
   "metadata": {},
   "outputs": [
    {
     "data": {
      "text/plain": [
       "1    1352\n",
       "0    1352\n",
       "Name: SaleCondition, dtype: int64"
      ]
     },
     "execution_count": 484,
     "metadata": {},
     "output_type": "execute_result"
    }
   ],
   "source": [
    "from sklearn.utils import resample\n",
    "\n",
    "# Separate majority and minority classes\n",
    "df_majority = df3[df3['SaleCondition']==0]\n",
    "df_minority = df3[df3['SaleCondition']==1]\n",
    " \n",
    "# Upsample minority class\n",
    "df_minority_upsampled = resample(df_minority, \n",
    "                                 replace=True,     # sample with replacement\n",
    "                                 n_samples=1352,    # to match majority class\n",
    "                                 random_state=123) # reproducible results\n",
    " \n",
    "# Combine majority class with upsampled minority class\n",
    "df_upsampled = pd.concat([df_majority, df_minority_upsampled])\n",
    " \n",
    "# Display new class counts\n",
    "df_upsampled['SaleCondition'].value_counts()\n",
    "# 1    576\n",
    "# 0    576\n",
    "# Name: balance, dtype: int64"
   ]
  },
  {
   "cell_type": "code",
   "execution_count": 488,
   "metadata": {},
   "outputs": [],
   "source": [
    "train3 = df_upsampled[df_upsampled['YrSold'] < 2010]\n",
    "test3 = df_upsampled[df_upsampled['YrSold'] == 2010]"
   ]
  },
  {
   "cell_type": "code",
   "execution_count": 568,
   "metadata": {},
   "outputs": [],
   "source": [
    "cols = ['ExterQual','OverallQual','KitchenQual','FireplaceQu','Age','YrSold',\n",
    "        'GarageCars','GarageFinish','GarageCond','GarageQual',\n",
    "        #'Attchd','Basment','BuiltIn','CarPort','Detchd','NoGarage',\n",
    "        'SBrkr','FuseF','FuseP','Mix',\n",
    "        'GasA','GasW','OthW','Wall','Grav',\n",
    "        'Reg','IR2','IR3']\n",
    "\n",
    "X_train3 = train3[cols]\n",
    "X_test3 = test3[cols]\n",
    "\n",
    "y_train3 = train3['SaleCondition'].values\n",
    "y_test3 = test3['SaleCondition'].values"
   ]
  },
  {
   "cell_type": "code",
   "execution_count": 569,
   "metadata": {},
   "outputs": [
    {
     "name": "stdout",
     "output_type": "stream",
     "text": [
      "(2394, 22) (2394,)\n",
      "(310, 22) (310,)\n"
     ]
    }
   ],
   "source": [
    "print X_train3.shape, y_train3.shape\n",
    "print X_test3.shape, y_test3.shape"
   ]
  },
  {
   "cell_type": "code",
   "execution_count": 570,
   "metadata": {},
   "outputs": [],
   "source": [
    "from sklearn.preprocessing import StandardScaler\n",
    "\n",
    "ss = StandardScaler()\n",
    "Xs3 = ss.fit_transform(X_train3)\n",
    "Xst3 = ss.fit_transform(X_test3)"
   ]
  },
  {
   "cell_type": "code",
   "execution_count": 571,
   "metadata": {},
   "outputs": [
    {
     "name": "stdout",
     "output_type": "stream",
     "text": [
      "[ 0.89583333  0.9125      0.925       0.93333333  0.92083333  0.89121339\n",
      "  0.91213389  0.91213389  0.87447699  0.91596639]\n",
      "0.909342454555\n"
     ]
    }
   ],
   "source": [
    "from sklearn.neighbors import KNeighborsClassifier\n",
    "from sklearn.model_selection import cross_val_score\n",
    "\n",
    "knn = KNeighborsClassifier()\n",
    "accs = cross_val_score(knn, Xs3, y_train3, cv=10)\n",
    "\n",
    "print accs\n",
    "print np.mean(accs)"
   ]
  },
  {
   "cell_type": "code",
   "execution_count": 572,
   "metadata": {},
   "outputs": [
    {
     "data": {
      "text/plain": [
       "0.47419354838709676"
      ]
     },
     "execution_count": 572,
     "metadata": {},
     "output_type": "execute_result"
    }
   ],
   "source": [
    "knn.fit(Xs3,y_train3)\n",
    "knn.score(Xst3, y_test3)"
   ]
  },
  {
   "cell_type": "code",
   "execution_count": 573,
   "metadata": {},
   "outputs": [],
   "source": [
    "from sklearn.metrics import roc_curve, auc\n",
    "\n",
    "yhat = knn.predict(Xst3)\n",
    "yhat_pp = knn.predict_proba(Xst3)"
   ]
  },
  {
   "cell_type": "code",
   "execution_count": 574,
   "metadata": {},
   "outputs": [
    {
     "data": {
      "image/png": "[encoded data removed]",
      "text/plain": [
       "<Figure size 576x576 with 1 Axes>"
      ]
     },
     "metadata": {
      "image/png": {
       "height": 501,
       "width": 505
      }
     },
     "output_type": "display_data"
    }
   ],
   "source": [
    "fpr, tpr, _ = roc_curve(test3['SaleCondition'], yhat_pp[:,1])\n",
    "roc_auc = auc(fpr, tpr)\n",
    "\n",
    "plt.figure(figsize=[8,8])\n",
    "plt.plot(fpr, tpr, label='ROC curve (area = %0.2f)' % roc_auc, linewidth=4)\n",
    "plt.plot([0, 1], [0, 1], 'k--', linewidth=4)\n",
    "plt.xlim([-0.05, 1.0])\n",
    "plt.ylim([-0.05, 1.05])\n",
    "plt.xlabel('False Positive Rate', fontsize=18)\n",
    "plt.ylabel('True Positive Rate', fontsize=18)\n",
    "plt.title('Receiver operating characteristic: abnormal sale', fontsize=18)\n",
    "plt.legend(loc=\"lower right\")\n",
    "plt.show()"
   ]
  },
  {
   "cell_type": "code",
   "execution_count": null,
   "metadata": {},
   "outputs": [],
   "source": []
  },
  {
   "cell_type": "code",
   "execution_count": null,
   "metadata": {},
   "outputs": [],
   "source": []
  }
 ],
 "metadata": {
  "kernelspec": {
   "display_name": "Python 2",
   "language": "python",
   "name": "python2"
  },
  "language_info": {
   "codemirror_mode": {
    "name": "ipython",
    "version": 2
   },
   "file_extension": ".py",
   "mimetype": "text/x-python",
   "name": "python",
   "nbconvert_exporter": "python",
   "pygments_lexer": "ipython2",
   "version": "2.7.14"
  }
 },
 "nbformat": 4,
 "nbformat_minor": 2
}
