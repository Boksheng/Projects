{
 "cells": [
  {
   "cell_type": "code",
   "execution_count": 3,
   "metadata": {},
   "outputs": [],
   "source": [
    "import feedparser\n",
    "import pandas as pd"
   ]
  },
  {
   "cell_type": "code",
   "execution_count": 4,
   "metadata": {},
   "outputs": [],
   "source": [
    "def contains_wanted(in_str):\n",
    "    # returns true if the in_str contains a keyword\n",
    "    # we are interested in. Case-insensitive\n",
    "    for word in key_words:\n",
    "        if word.lower() in in_str:\n",
    "            return True\n",
    "    return False\n",
    "\n",
    "def url_is_new(urlstr):\n",
    "    \n",
    "    f = open('url_viewed.txt', 'r')\n",
    "    urls = f.readlines()\n",
    "    urls = [url.rstrip() for url in urls] # remove the '\\n' char\n",
    "    f.close()\n",
    "    \n",
    "    # returns true if the url string does not exist \n",
    "    # in the list of strings extracted from the text file\n",
    "    \n",
    "    if urlstr in urls:\n",
    "        return False\n",
    "    else:\n",
    "        return True\n",
    "    \n",
    "def get_rss(rss):\n",
    "    feed = feedparser.parse(rss)\n",
    "    \n",
    "    titles = []\n",
    "    links = []\n",
    "    summaries = []\n",
    "    for key in feed[\"entries\"]: \n",
    "        if contains_wanted(key['title'].lower()) and url_is_new(key['links'][0]['href']):\n",
    "            titles.append(key['title'])\n",
    "            links.append(key['links'][0]['href'])\n",
    "            summaries.append(key['summary'])\n",
    "        \n",
    "    return titles, links, summaries"
   ]
  },
  {
   "cell_type": "code",
   "execution_count": 5,
   "metadata": {},
   "outputs": [],
   "source": [
    "rss = 'https://www.channelnewsasia.com/rssfeeds/8395986'\n",
    "key_words = ['world', 'trump']\n",
    "\n",
    "titles = []\n",
    "links = []\n",
    "summaries = []\n",
    "\n",
    "titles, links, summaries = get_rss(rss)\n",
    "\n",
    "with open('url_viewed.txt', 'a') as f:\n",
    "    for link in links:\n",
    "        f.write('{}\\n'.format(link))"
   ]
  },
  {
   "cell_type": "code",
   "execution_count": 6,
   "metadata": {},
   "outputs": [
    {
     "data": {
      "text/html": [
       "<div>\n",
       "<style scoped>\n",
       "    .dataframe tbody tr th:only-of-type {\n",
       "        vertical-align: middle;\n",
       "    }\n",
       "\n",
       "    .dataframe tbody tr th {\n",
       "        vertical-align: top;\n",
       "    }\n",
       "\n",
       "    .dataframe thead th {\n",
       "        text-align: right;\n",
       "    }\n",
       "</style>\n",
       "<table border=\"1\" class=\"dataframe\">\n",
       "  <thead>\n",
       "    <tr style=\"text-align: right;\">\n",
       "      <th></th>\n",
       "      <th>titles</th>\n",
       "      <th>summaries</th>\n",
       "      <th>links</th>\n",
       "    </tr>\n",
       "  </thead>\n",
       "  <tbody>\n",
       "    <tr>\n",
       "      <th>0</th>\n",
       "      <td>Germany and Brazil roll into the World Cup</td>\n",
       "      <td>Brazil star Neymar will make his World Cup bow...</td>\n",
       "      <td>http://www.channelnewsasia.com/news/sport/germ...</td>\n",
       "    </tr>\n",
       "  </tbody>\n",
       "</table>\n",
       "</div>"
      ],
      "text/plain": [
       "                                       titles  \\\n",
       "0  Germany and Brazil roll into the World Cup   \n",
       "\n",
       "                                           summaries  \\\n",
       "0  Brazil star Neymar will make his World Cup bow...   \n",
       "\n",
       "                                               links  \n",
       "0  http://www.channelnewsasia.com/news/sport/germ...  "
      ]
     },
     "execution_count": 6,
     "metadata": {},
     "output_type": "execute_result"
    }
   ],
   "source": [
    "# Turning multiple lists into dataframe\n",
    "data = pd.DataFrame({'titles': titles,'links': links, 'summaries': summaries})\n",
    "\n",
    "# Re-ordering dataframe\n",
    "data = data[['titles','summaries','links']]\n",
    "data.head()"
   ]
  },
  {
   "cell_type": "code",
   "execution_count": 7,
   "metadata": {},
   "outputs": [
    {
     "name": "stdout",
     "output_type": "stream",
     "text": [
      "Germany and Brazil roll into the World Cup\n"
     ]
    }
   ],
   "source": [
    "for i in data.titles:\n",
    "    print(i)"
   ]
  },
  {
   "cell_type": "code",
   "execution_count": null,
   "metadata": {},
   "outputs": [],
   "source": []
  }
 ],
 "metadata": {
  "kernelspec": {
   "display_name": "Python 3",
   "language": "python",
   "name": "python3"
  },
  "language_info": {
   "codemirror_mode": {
    "name": "ipython",
    "version": 3
   },
   "file_extension": ".py",
   "mimetype": "text/x-python",
   "name": "python",
   "nbconvert_exporter": "python",
   "pygments_lexer": "ipython3",
   "version": "3.6.5"
  }
 },
 "nbformat": 4,
 "nbformat_minor": 2
}
