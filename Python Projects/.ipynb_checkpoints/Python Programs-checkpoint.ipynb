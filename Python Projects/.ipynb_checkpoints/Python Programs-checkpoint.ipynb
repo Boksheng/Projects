{
 "cells": [
  {
   "cell_type": "markdown",
   "metadata": {},
   "source": [
    "**Fibonacci Sequence** - Enter a number and have the program generate the Fibonacci sequence to that number or to the Nth number."
   ]
  },
  {
   "cell_type": "code",
   "execution_count": 32,
   "metadata": {},
   "outputs": [
    {
     "name": "stdout",
     "output_type": "stream",
     "text": [
      "1, 1, 2, 3, 5, 8, 13, 21, 34, 55, 89, 144, 233, 377, 610, 987, 1597, 2584, 4181, 6765\n"
     ]
    }
   ],
   "source": [
    "# Fibonacci Sequence Generator\n",
    "# Have the user enter a number and\n",
    "# generate a fibonacci sequence\n",
    "# which size is equivalent to that number.\n",
    "\n",
    "\n",
    "def fibSequence(n):\n",
    "    \"\"\"\n",
    "    Generates a fibonacci sequence\n",
    "    with the size of n\n",
    "    \"\"\"\n",
    "    assert n > 0\n",
    "\n",
    "    series = [1]\n",
    "\n",
    "    while len(series) < n:\n",
    "        if len(series) == 1:\n",
    "            series.append(1)\n",
    "        else:\n",
    "            series.append(series[-1] + series[-2])\n",
    "\n",
    "    for i in range(len(series)):  # Convert the numbers to strings\n",
    "        series[i] = str(series[i])\n",
    "\n",
    "    return(', '.join(series))  # Return the sequence seperated by commas\n",
    "\n",
    "\n",
    "def main():  # Wrapper function\n",
    "    print(fibSequence(int(input('How many numbers do you need? '))))\n",
    "\n",
    "if __name__ == '__main__':\n",
    "    main()"
   ]
  },
  {
   "cell_type": "markdown",
   "metadata": {},
   "source": [
    "**Calculator** - A simple calculator to do basic operators. Make it a scientific calculator for added complexity.\n",
    "\n"
   ]
  },
  {
   "cell_type": "code",
   "execution_count": 38,
   "metadata": {},
   "outputs": [
    {
     "name": "stdout",
     "output_type": "stream",
     "text": [
      "10 * 10 = 100\n"
     ]
    }
   ],
   "source": [
    "# Calculator\n",
    "# Have the user enter 2 number - a. b -\n",
    "# and an operator - op - and calculate\n",
    "# the solution - c - according to the\n",
    "# type of the given operator\n",
    "\n",
    "\n",
    "def calc(a, b, op):\n",
    "    \"\"\"\n",
    "    Returns a string like this: a op b = c\n",
    "    where c is the computed value according to the opeartor\n",
    "    \"\"\"\n",
    "\n",
    "    if op not in '+-/*':\n",
    "        return 'Please only type one of these characters: \"+, -, *, /\"!'\n",
    "\n",
    "    if op == '+':\n",
    "        return(str(a) + ' ' + op + ' ' + str(b) + ' = ' + str(a + b))\n",
    "    if op == '-':\n",
    "        return(str(a) + ' ' + op + ' ' + str(b) + ' = ' + str(a - b))\n",
    "    if op == '*':\n",
    "        return(str(a) + ' ' + op + ' ' + str(b) + ' = ' + str(a * b))\n",
    "    if op == '/':\n",
    "        return(str(a) + ' ' + op + ' ' + str(b) + ' = ' + str(a / b))\n",
    "\n",
    "\n",
    "def main():  # Wrapper function\n",
    "\n",
    "    a = int(input('Please type the first number: '))\n",
    "    b = int(input('Please type the second number: '))\n",
    "    op = input(\n",
    "        'What kind of operation would you like to do?\\\n",
    "        \\nChoose between \"+, -, *, /\" : ')\n",
    "\n",
    "    print(calc(a, b, op))\n",
    "\n",
    "if __name__ == '__main__':\n",
    "    main()"
   ]
  },
  {
   "cell_type": "markdown",
   "metadata": {},
   "source": [
    "**FizzBuzz**"
   ]
  },
  {
   "cell_type": "code",
   "execution_count": 44,
   "metadata": {},
   "outputs": [
    {
     "name": "stdout",
     "output_type": "stream",
     "text": [
      "[1, 2, 'Fizz', 4, 'Buzz', 'Fizz', 7, 8, 'Fizz', 'Buzz', 11, 'Fizz', 13, 14, 'FizzBuzz', 16, 17, 'Fizz', 19, 'Buzz', 'Fizz', 22, 23, 'Fizz', 'Buzz', 26, 'Fizz', 28, 29]\n"
     ]
    }
   ],
   "source": [
    "series = []\n",
    "for i in range(1,30):\n",
    "    if i%3 == 0 and i%5 == 0:\n",
    "        series.append('FizzBuzz')\n",
    "    elif i%3 == 0:\n",
    "        series.append('Fizz')\n",
    "    elif i%5 == 0:\n",
    "        series.append('Buzz')\n",
    "    else:\n",
    "        series.append(i)\n",
    "print series"
   ]
  },
  {
   "cell_type": "markdown",
   "metadata": {},
   "source": [
    "**Reverse a String** - Enter a string and the program will reverse it and print it out"
   ]
  },
  {
   "cell_type": "code",
   "execution_count": 48,
   "metadata": {},
   "outputs": [
    {
     "name": "stdout",
     "output_type": "stream",
     "text": [
      "The reversed string is: par\n"
     ]
    }
   ],
   "source": [
    "def reversestring(s):\n",
    "    r_string = ''\n",
    "    l = len(s) - 1\n",
    "    for i in range(l,-1,-1):\n",
    "        r_string += s[i]\n",
    "    return r_string\n",
    "\n",
    "def main():\n",
    "    s = raw_input(\"Enter a string to reverse: \")\n",
    "    print(\"The reversed string is: \" + reversestring(s))\n",
    "\n",
    "if __name__ == '__main__':\n",
    "    main()"
   ]
  },
  {
   "cell_type": "markdown",
   "metadata": {},
   "source": [
    "**Count Vowels** - Enter a string and the program counts the number of vowels in the text. For added complexity have it report a sum of each vowel found. "
   ]
  },
  {
   "cell_type": "code",
   "execution_count": 62,
   "metadata": {},
   "outputs": [
    {
     "name": "stdout",
     "output_type": "stream",
     "text": [
      "Count of vowels:\n",
      "a:0\n",
      "e:0\n",
      "i:1\n",
      "o:0\n",
      "u:0\n"
     ]
    }
   ],
   "source": [
    "v = ['a','e','i','o','u']\n",
    "def countvowels(s):\n",
    "    s = s.lower()\n",
    "    d = {x:s.count(x) for x in vowels}\n",
    "    return d\n",
    "\n",
    "def main():\n",
    "    s = raw_input(\"Enter a string: \")\n",
    "    print('Count of vowels:')\n",
    "    for i in v:\n",
    "        print(i + ':' + str(d[i]))\n",
    "\n",
    "if __name__ == '__main__':\n",
    "    main()"
   ]
  },
  {
   "cell_type": "code",
   "execution_count": null,
   "metadata": {},
   "outputs": [],
   "source": []
  }
 ],
 "metadata": {
  "kernelspec": {
   "display_name": "Python 2",
   "language": "python",
   "name": "python2"
  },
  "language_info": {
   "codemirror_mode": {
    "name": "ipython",
    "version": 2
   },
   "file_extension": ".py",
   "mimetype": "text/x-python",
   "name": "python",
   "nbconvert_exporter": "python",
   "pygments_lexer": "ipython2",
   "version": "2.7.14"
  }
 },
 "nbformat": 4,
 "nbformat_minor": 2
}
